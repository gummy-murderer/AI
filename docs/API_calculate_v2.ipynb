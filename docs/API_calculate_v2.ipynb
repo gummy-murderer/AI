{
 "cells": [
  {
   "cell_type": "code",
   "execution_count": 33,
   "metadata": {},
   "outputs": [],
   "source": [
    "import requests\n",
    "import time\n",
    "import json\n",
    "from IPython.display import display, Markdown"
   ]
  },
  {
   "cell_type": "code",
   "execution_count": 34,
   "metadata": {},
   "outputs": [],
   "source": [
    "base_url = \"http://127.0.0.1:8000\""
   ]
  },
  {
   "cell_type": "code",
   "execution_count": 35,
   "metadata": {},
   "outputs": [],
   "source": [
    "def dict_to_markdown_table(data):\n",
    "    markdown_table = \"| Key | Value |\\n| --- | --- |\\n\"\n",
    "    for key, value in data.items():\n",
    "        markdown_table += f\"| {key} | {value} |\\n\"\n",
    "    return markdown_table"
   ]
  },
  {
   "cell_type": "code",
   "execution_count": 45,
   "metadata": {},
   "outputs": [],
   "source": [
    "def API_calculate(data, url, cnt):\n",
    "    cal_result_dict = {\n",
    "        \"totalTokens_list\": [],\n",
    "        \"prompt_tokens_list\": [],\n",
    "        \"completion_tokens_list\": [],\n",
    "        \"executionTime_list\": [],\n",
    "    }\n",
    "\n",
    "    for i in range(cnt):\n",
    "        start_time = time.time()\n",
    "\n",
    "        response = requests.post(url, json=data)\n",
    "\n",
    "        end_time = time.time()\n",
    "        execution_time = round(end_time - start_time, 3)\n",
    "\n",
    "        anwser = eval(response.text)\n",
    "\n",
    "        cal_result_dict[\"totalTokens_list\"].append(anwser['tokens']['totalTokens'])\n",
    "        cal_result_dict[\"prompt_tokens_list\"].append(anwser['tokens']['promptTokens'])\n",
    "        cal_result_dict[\"completion_tokens_list\"].append(anwser['tokens']['completionTokens'])\n",
    "        cal_result_dict[\"executionTime_list\"].append(execution_time)\n",
    "\n",
    "        markdown_table_answer = dict_to_markdown_table(anwser['answer'])\n",
    "        markdown_table_tokens = dict_to_markdown_table(anwser['tokens'])\n",
    "        print(i)\n",
    "        display(Markdown(markdown_table_answer + markdown_table_tokens))\n",
    "\n",
    "\n",
    "    return cal_result_dict"
   ]
  },
  {
   "cell_type": "code",
   "execution_count": 43,
   "metadata": {},
   "outputs": [],
   "source": [
    "def make_result(api_name, cnt, cal_result_dict):\n",
    "    prompt_tokens_list = cal_result_dict[\"prompt_tokens_list\"]\n",
    "    completion_tokens_list = cal_result_dict[\"completion_tokens_list\"]\n",
    "    totalTokens_list = cal_result_dict[\"totalTokens_list\"]\n",
    "    executionTime_list = cal_result_dict[\"executionTime_list\"]\n",
    "\n",
    "    result = {\n",
    "        \"API name\": api_name,\n",
    "        \"cnt\": cnt,\n",
    "        \"promptTokens \": min(prompt_tokens_list),\n",
    "        \"min completionTokens \": min(completion_tokens_list),\n",
    "        \"max completionTokens \": max(completion_tokens_list),\n",
    "        \"avg completionTokens \": sum(completion_tokens_list) / len(totalTokens_list),\n",
    "        \"avg totalTokens\": sum(totalTokens_list) / len(totalTokens_list),\n",
    "        \"min executionTime\": min(executionTime_list),\n",
    "        \"max executionTime\": max(executionTime_list),\n",
    "        \"avg executionTime\": round(sum(executionTime_list) / len(executionTime_list), 3)\n",
    "    }\n",
    "    return result"
   ]
  },
  {
   "cell_type": "markdown",
   "metadata": {},
   "source": [
    "### /api/scenario/generate_intro"
   ]
  },
  {
   "cell_type": "code",
   "execution_count": 48,
   "metadata": {},
   "outputs": [
    {
     "name": "stdout",
     "output_type": "stream",
     "text": [
      "0\n"
     ]
    },
    {
     "data": {
      "text/markdown": [
       "| Key | Value |\n",
       "| --- | --- |\n",
       "| greeting | 친애하는 탐정님, |\n",
       "| content | 저희 평화로운 마을에 끔찍한 일이 발생하여 귀하의 도움을 청하고자 합니다. 처음으로 발생한 살인 사건이 주민들을 불안에 떨게 했습니다. 낮에는 주민들과의 대화를 통해 단서를 찾고 밤에는 범인이 다른 이를 해치지 않도록 조사를 이어가야 합니다. 시간이 점점 부족해지고 있으며, 우리는 귀하의 추리 능력에 의존하고 있습니다. |\n",
       "| closing | 이 어려운 시기에 우리 마을을 도와주시길 바랍니다. 촌장 올림. |\n",
       "| Key | Value |\n",
       "| --- | --- |\n",
       "| totalTokens | 908 |\n",
       "| promptTokens | 669 |\n",
       "| completionTokens | 239 |\n"
      ],
      "text/plain": [
       "<IPython.core.display.Markdown object>"
      ]
     },
     "metadata": {},
     "output_type": "display_data"
    },
    {
     "name": "stdout",
     "output_type": "stream",
     "text": [
      "1\n"
     ]
    },
    {
     "data": {
      "text/markdown": [
       "| Key | Value |\n",
       "| --- | --- |\n",
       "| greeting | 존경하는 탐정님께, |\n",
       "| content | 우리 마을에 전에 없던 참혹한 사건이 일어났습니다. 평화로웠던 우리 마을에서 발생한 첫 살인사건으로, 주민들 사이에 공포가 퍼지고 있습니다. 이 어둠을 걷어내고 진실을 밝혀주실 당신의 날카로운 통찰이 필요합니다. 낮에는 주민들과 대화하여 단서를 찾고, 밤에는 새로운 희생자가 생길지도 모릅니다. 시간이 촉박합니다. 부디 우리 마을에 오셔서 이 비극의 미스터리를 해결해 주시길 바랍니다. |\n",
       "| closing | 촌장 올림 |\n",
       "| Key | Value |\n",
       "| --- | --- |\n",
       "| totalTokens | 922 |\n",
       "| promptTokens | 669 |\n",
       "| completionTokens | 253 |\n"
      ],
      "text/plain": [
       "<IPython.core.display.Markdown object>"
      ]
     },
     "metadata": {},
     "output_type": "display_data"
    },
    {
     "name": "stdout",
     "output_type": "stream",
     "text": [
      "2\n"
     ]
    },
    {
     "data": {
      "text/markdown": [
       "| Key | Value |\n",
       "| --- | --- |\n",
       "| greeting | 존경하는 탐정님께, |\n",
       "| content | 저희 마을에 끔찍한 비극이 발생했습니다. 평화로운 우리 마을에서 처음으로 살인 사건이 일어났고, 주민들 사이에 공포와 혼란이 퍼지고 있습니다. 당신의 명성을 듣고, 이 사건을 해결해 줄 단 한 사람으로 당신을 떠올렸습니다. 당신의 도움 없이는 이 위기를 극복하기 어렵습니다. 부디 당신의 지혜와 경험으로 우리 마을이 직면한 이 암울한 상황을 해결해 주시길 간곡히 부탁드립니다. |\n",
       "| closing | 촌장 올림. |\n",
       "| Key | Value |\n",
       "| --- | --- |\n",
       "| totalTokens | 917 |\n",
       "| promptTokens | 669 |\n",
       "| completionTokens | 248 |\n"
      ],
      "text/plain": [
       "<IPython.core.display.Markdown object>"
      ]
     },
     "metadata": {},
     "output_type": "display_data"
    },
    {
     "name": "stdout",
     "output_type": "stream",
     "text": [
      "3\n"
     ]
    },
    {
     "data": {
      "text/markdown": [
       "| Key | Value |\n",
       "| --- | --- |\n",
       "| greeting | 존경하는 탐정님께, |\n",
       "| content | 마을의 평화가 깨진 이 긴급한 시간에 귀하의 도움이 절실히 필요합니다. 우리 마을에서 전에 없던 참혹한 살인 사건이 발생하여 모든 주민이 공포에 떨고 있습니다. 범인은 아직 자유롭게 돌아다니며, 어둠이 내리면 또 다시 희생자를 만들 가능성이 큽니다. 귀하의 탁월한 추리 능력과 경험이 이 사건을 해결할 열쇠임을 확신합니다. 다가오는 밤이 더 이상의 비극을 막을 수 있는 마지막 기회일지도 모릅니다. 시간이 얼마 남지 않았으니, 부디 빠른 시일 내에 마을로 오셔서 진실을 밝혀주시길 부탁드립니다. |\n",
       "| closing | 촌장 올림 |\n",
       "| Key | Value |\n",
       "| --- | --- |\n",
       "| totalTokens | 982 |\n",
       "| promptTokens | 669 |\n",
       "| completionTokens | 313 |\n"
      ],
      "text/plain": [
       "<IPython.core.display.Markdown object>"
      ]
     },
     "metadata": {},
     "output_type": "display_data"
    },
    {
     "name": "stdout",
     "output_type": "stream",
     "text": [
      "4\n"
     ]
    },
    {
     "data": {
      "text/markdown": [
       "| Key | Value |\n",
       "| --- | --- |\n",
       "| greeting | 존경하는 탐정님, |\n",
       "| content | 저희 마을에 찾아주신 것을 진심으로 환영합니다. 안타깝게도 이 평화로운 마을에서 처음으로 끔찍한 살인 사건이 발생하였습니다. 주민 모두가 두려움에 떨고 있으며, 우리는 귀하의 명성을 듣고 도움을 청하게 되었습니다. 당신의 추리와 통찰력이 절실히 필요한 때입니다. 낮에는 주민들과 대화를 나누고 증거를 찾아주시길 부탁드립니다. 그리고 밤이 되면 또 다른 비극이 발생할 수 있으니, 시간이 얼마 없음을 명심해주십시오. |\n",
       "| closing | 당신의 성공적인 수사를 기원합니다. 촌장 올림. |\n",
       "| Key | Value |\n",
       "| --- | --- |\n",
       "| totalTokens | 952 |\n",
       "| promptTokens | 669 |\n",
       "| completionTokens | 283 |\n"
      ],
      "text/plain": [
       "<IPython.core.display.Markdown object>"
      ]
     },
     "metadata": {},
     "output_type": "display_data"
    },
    {
     "name": "stdout",
     "output_type": "stream",
     "text": [
      "5\n"
     ]
    },
    {
     "data": {
      "text/markdown": [
       "| Key | Value |\n",
       "| --- | --- |\n",
       "| greeting | 존경하는 탐정님, |\n",
       "| content | 안타까운 소식으로 편지를 시작하게 되어 송구합니다. 우리 마을에서 처음으로 발생한 끔찍한 살인 사건이 있었습니다. 평화롭던 우리 공동체가 큰 충격과 두려움에 휩싸여 있습니다. 이 어둠 속에서 진실을 밝혀내고 정의를 구현할 수 있는 단 한 사람은 바로 당신입니다. 당신의 명성과 탁월한 추리 능력에 대한 이야기는 잘 들어 알고 있습니다. 부디 우리 마을에 오셔서 이 비극의 실마리를 풀어 주시길 간곡히 요청합니다. |\n",
       "| closing | 촌장 올림. |\n",
       "| Key | Value |\n",
       "| --- | --- |\n",
       "| totalTokens | 928 |\n",
       "| promptTokens | 669 |\n",
       "| completionTokens | 259 |\n"
      ],
      "text/plain": [
       "<IPython.core.display.Markdown object>"
      ]
     },
     "metadata": {},
     "output_type": "display_data"
    },
    {
     "name": "stdout",
     "output_type": "stream",
     "text": [
      "6\n"
     ]
    },
    {
     "data": {
      "text/markdown": [
       "| Key | Value |\n",
       "| --- | --- |\n",
       "| greeting | 존경하는 탐정님, |\n",
       "| content | 안타깝게도 우리 마을에 전에 없던 끔찍한 사건이 발생했습니다. 평화로운 일상을 깨뜨린 이 살인 사건은 주민 모두에게 큰 충격을 주었고, 두려움이 가득한 상태입니다. 당신의 명성을 듣고, 이 문제를 해결할 수 있는 유일한 인물이 당신이라고 확신합니다. 범인은 아직도 우리 마을에 숨어 있으며, 밤마다 새로운 희생자를 만들고 있습니다. 시간이 얼마 남지 않았기에, 당신의 신속한 도움을 간곡히 부탁드립니다. 범인을 찾아 마을에 다시 평화를 가져다 주세요. |\n",
       "| closing | 마을의 안녕을 기원하며, 촌장 올림 |\n",
       "| Key | Value |\n",
       "| --- | --- |\n",
       "| totalTokens | 970 |\n",
       "| promptTokens | 669 |\n",
       "| completionTokens | 301 |\n"
      ],
      "text/plain": [
       "<IPython.core.display.Markdown object>"
      ]
     },
     "metadata": {},
     "output_type": "display_data"
    },
    {
     "name": "stdout",
     "output_type": "stream",
     "text": [
      "7\n"
     ]
    },
    {
     "data": {
      "text/markdown": [
       "| Key | Value |\n",
       "| --- | --- |\n",
       "| greeting | 존경하는 탐정님께, |\n",
       "| content | 저희 마을에서 예기치 못한 참극이 발생하여, 당신의 도움을 간곡히 요청합니다. 평온한 우리 마을에 그림자를 드리운 첫 번째 살인 사건이라니, 이는 우리 모두에게 충격적인 일입니다. 마을 사람들은 불안과 공포에 휩싸여 있으며, 진실을 밝혀내고 정의를 이루기 위해 당신의 탁월한 추리 능력을 필요로 합니다. 당신이 이 사건을 해결해준다면, 우리는 다시 평화를 되찾을 수 있을 것입니다. 시간이 촉박하니, 가능한 한 빨리 마을로 오셔서 사건 해결에 착수해주시길 바랍니다. |\n",
       "| closing | 촌장 올림 |\n",
       "| Key | Value |\n",
       "| --- | --- |\n",
       "| totalTokens | 964 |\n",
       "| promptTokens | 669 |\n",
       "| completionTokens | 295 |\n"
      ],
      "text/plain": [
       "<IPython.core.display.Markdown object>"
      ]
     },
     "metadata": {},
     "output_type": "display_data"
    },
    {
     "name": "stdout",
     "output_type": "stream",
     "text": [
      "8\n"
     ]
    },
    {
     "data": {
      "text/markdown": [
       "| Key | Value |\n",
       "| --- | --- |\n",
       "| greeting | 존경하는 탐정님께, |\n",
       "| content | 저희 마을에서 처음으로 참혹한 사건이 발생하여 귀하의 도움을 요청드립니다. 항상 평화로웠던 우리 마을에서 충격적인 살인 사건이 일어나 주민들이 큰 불안에 떨고 있습니다. 시간이 갈수록 상황은 악화되고 있으며, 밤이면 또 다른 소중한 생명이 사라질 위기에 처해있습니다. 귀하의 탁월한 추리 능력과 경험을 믿으며, 이 사건의 진상을 밝혀줄 것을 간곡히 부탁드립니다. 시급히 마을로 오셔서 이 암울한 사건을 해결해주시길 바랍니다. |\n",
       "| closing | 안전과 평화를 위해, 마을 촌장 올림. |\n",
       "| Key | Value |\n",
       "| --- | --- |\n",
       "| totalTokens | 967 |\n",
       "| promptTokens | 669 |\n",
       "| completionTokens | 298 |\n"
      ],
      "text/plain": [
       "<IPython.core.display.Markdown object>"
      ]
     },
     "metadata": {},
     "output_type": "display_data"
    },
    {
     "name": "stdout",
     "output_type": "stream",
     "text": [
      "9\n"
     ]
    },
    {
     "data": {
      "text/markdown": [
       "| Key | Value |\n",
       "| --- | --- |\n",
       "| greeting | 존경하는 탐정님, |\n",
       "| content | 우리 마을은 평화롭고 조용한 곳이었으나, 끔찍한 살인 사건이 발생해 마을 전체가 충격에 빠졌습니다. 사건의 심각성을 고려해 주민들을 안심시키고 진실을 밝혀낼 수 있도록 당신의 도움을 청합니다. 낮에는 주민들과 대화를 통해 단서를 찾고, 밤에는 새로운 희생자가 생기지 않도록 주의해주시기 바랍니다. 범인이 누구인지 알아내는 것이 우리 모두에게 매우 중요합니다. 당신의 추리와 판단력에 마을의 운명이 달려 있음을 잊지 마십시오. |\n",
       "| closing | 빠른 시일 내에 답장을 기다리겠습니다. 촌장 올림. |\n",
       "| Key | Value |\n",
       "| --- | --- |\n",
       "| totalTokens | 965 |\n",
       "| promptTokens | 669 |\n",
       "| completionTokens | 296 |\n"
      ],
      "text/plain": [
       "<IPython.core.display.Markdown object>"
      ]
     },
     "metadata": {},
     "output_type": "display_data"
    },
    {
     "data": {
      "text/markdown": [
       "| Key | Value |\n",
       "| --- | --- |\n",
       "| API name | /api/scenario/generate_intro |\n",
       "| cnt | 10 |\n",
       "| promptTokens  | 669 |\n",
       "| min completionTokens  | 239 |\n",
       "| max completionTokens  | 313 |\n",
       "| avg completionTokens  | 278.5 |\n",
       "| avg totalTokens | 947.5 |\n",
       "| min executionTime | 8.985 |\n",
       "| max executionTime | 19.834 |\n",
       "| avg executionTime | 13.685 |\n"
      ],
      "text/plain": [
       "<IPython.core.display.Markdown object>"
      ]
     },
     "metadata": {},
     "output_type": "display_data"
    }
   ],
   "source": [
    "data = {\n",
    "  \"gameNo\": 0,\n",
    "  \"secretKey\": \"string\",\n",
    "  \"characters\": [\n",
    "    \"string\"\n",
    "  ]\n",
    "}\n",
    "\n",
    "api_name = \"/api/scenario/generate_intro\"\n",
    "url = base_url + api_name\n",
    "\n",
    "cnt = 10\n",
    "\n",
    "cal_result_dict = API_calculate(data, url, cnt)\n",
    "\n",
    "# print(json.dumps(cal_result_dict, indent=4, ensure_ascii=False))\n",
    "\n",
    "result = make_result(api_name, cnt, cal_result_dict)\n",
    "\n",
    "markdown_table = dict_to_markdown_table(result)\n",
    "display(Markdown(markdown_table))"
   ]
  },
  {
   "cell_type": "code",
   "execution_count": 46,
   "metadata": {},
   "outputs": [
    {
     "data": {
      "text/markdown": [
       "| Key | Value |\n",
       "| --- | --- |\n",
       "| API name | /api/scenario/generate_intro |\n",
       "| cnt | 2 |\n",
       "| promptTokens  | 669 |\n",
       "| min completionTokens  | 278 |\n",
       "| max completionTokens  | 319 |\n",
       "| avg completionTokens  | 298.5 |\n",
       "| avg totalTokens | 967.5 |\n",
       "| min executionTime | 11.161 |\n",
       "| max executionTime | 25.82 |\n",
       "| avg executionTime | 18.491 |\n"
      ],
      "text/plain": [
       "<IPython.core.display.Markdown object>"
      ]
     },
     "metadata": {},
     "output_type": "display_data"
    }
   ],
   "source": [
    "result = make_result(api_name, cnt, cal_result_dict)\n",
    "\n",
    "markdown_table = dict_to_markdown_table(result)\n",
    "display(Markdown(markdown_table))"
   ]
  },
  {
   "cell_type": "markdown",
   "metadata": {},
   "source": [
    "### /api/scenario/generate_victim"
   ]
  },
  {
   "cell_type": "code",
   "execution_count": 50,
   "metadata": {},
   "outputs": [
    {
     "name": "stdout",
     "output_type": "stream",
     "text": [
      "0\n"
     ]
    },
    {
     "data": {
      "text/markdown": [
       "| Key | Value |\n",
       "| --- | --- |\n",
       "| victim | 소피아 |\n",
       "| crimeScene | 부동산 |\n",
       "| method | 칼 |\n",
       "| witness | 마르코 |\n",
       "| eyewitnessInformation | 마르코는 부동산 근처를 지나가다가 수상한 인물이 소피아를 뒤따라가는 것을 목격했다고 진술함. |\n",
       "| dailySummary | day 0 - 부동산에서 소피아가 칼에 찔려 살해됨. |\n",
       "| alibis | [{'name': '마르코', 'alibi': '살해 당시 부동산 근처를 지나가고 있었음.'}, {'name': '이사벨', 'alibi': '마을 광장에서 주민들과 함께 축제 준비 중이었음.'}, {'name': '알렉스', 'alibi': '다른 마을에서 물건을 구입하기 위해 여행 중이었음.'}, {'name': '니콜라스', 'alibi': '도서관에서 책을 읽고 있었음.'}] |\n",
       "| Key | Value |\n",
       "| --- | --- |\n",
       "| totalTokens | 1550 |\n",
       "| promptTokens | 1252 |\n",
       "| completionTokens | 298 |\n"
      ],
      "text/plain": [
       "<IPython.core.display.Markdown object>"
      ]
     },
     "metadata": {},
     "output_type": "display_data"
    },
    {
     "name": "stdout",
     "output_type": "stream",
     "text": [
      "1\n"
     ]
    },
    {
     "data": {
      "text/markdown": [
       "| Key | Value |\n",
       "| --- | --- |\n",
       "| victim | 소피아 |\n",
       "| crimeScene | 돼지 우리 |\n",
       "| method | 칼 |\n",
       "| witness | 마르코 |\n",
       "| eyewitnessInformation | 마르코는 돼지 우리 근처에서 수상한 움직임을 목격했다고 보고했습니다. 범인은 아마도 밤에 활동했을 것입니다. |\n",
       "| dailySummary | day 0 - 소피아가 돼지 우리에서 칼에 찔려 살해되었습니다. |\n",
       "| alibis | [{'name': '마르코', 'alibi': '밤에 활동하는 것을 선호해 밤 시간에 마을 근처를 돌아다녔다고 주장합니다.'}, {'name': '이사벨', 'alibi': '살인 사건 발생 당시 마을회관에서 주민들과 함께 있었다고 합니다.'}, {'name': '알렉스', 'alibi': '다른 마을에서 하룻밤을 보내고 아침에 돌아왔다고 말합니다.'}, {'name': '니콜라스', 'alibi': '자신의 집에서 책을 읽고 있었다고 주장합니다.'}] |\n",
       "| Key | Value |\n",
       "| --- | --- |\n",
       "| totalTokens | 1585 |\n",
       "| promptTokens | 1255 |\n",
       "| completionTokens | 330 |\n"
      ],
      "text/plain": [
       "<IPython.core.display.Markdown object>"
      ]
     },
     "metadata": {},
     "output_type": "display_data"
    },
    {
     "name": "stdout",
     "output_type": "stream",
     "text": [
      "2\n"
     ]
    },
    {
     "data": {
      "text/markdown": [
       "| Key | Value |\n",
       "| --- | --- |\n",
       "| victim | 마르코 |\n",
       "| crimeScene | 경찰서 |\n",
       "| method | 칼 |\n",
       "| witness | 니콜라스 |\n",
       "| eyewitnessInformation | 니콜라스가 경찰서 근처에서 수상한 인물을 목격하였으며, 그 인물이 칼을 들고 있었다고 함. |\n",
       "| dailySummary | day 0 - 마을의 마르코가 경찰서에서 칼에 찔려 살해되었다. |\n",
       "| alibis | [{'name': '소피아', 'alibi': '사건 당시 관찰을 하고 있었으며, 마을 밖에서 혼자 시간을 보냈다고 함.'}, {'name': '이사벨', 'alibi': \"사건 당시 마을의 다른 주민들과 함께 있었으며, 모두가 그녀의 존재를 확인해줄 수 있을 것이라고 '냥' 하며 대답함.\"}, {'name': '알렉스', 'alibi': '마을을 떠돌다가 다른 마을에서 밤을 보냈다고 주장함.'}] |\n",
       "| Key | Value |\n",
       "| --- | --- |\n",
       "| totalTokens | 1556 |\n",
       "| promptTokens | 1251 |\n",
       "| completionTokens | 305 |\n"
      ],
      "text/plain": [
       "<IPython.core.display.Markdown object>"
      ]
     },
     "metadata": {},
     "output_type": "display_data"
    },
    {
     "name": "stdout",
     "output_type": "stream",
     "text": [
      "3\n"
     ]
    },
    {
     "data": {
      "text/markdown": [
       "| Key | Value |\n",
       "| --- | --- |\n",
       "| victim | 니콜라스 |\n",
       "| crimeScene | 꽃 가게 |\n",
       "| method | 칼 |\n",
       "| witness | 마르코 |\n",
       "| eyewitnessInformation | 마르코가 꽃 가게 주변을 배회하며 수상한 인물을 목격했다고 함. |\n",
       "| dailySummary | day 0 - 마을의 꽃 가게에서 주민 니콜라스가 칼에 의해 살해됨. |\n",
       "| alibis | [{'name': '소피아', 'alibi': '사건 발생 시간에 집에서 책을 읽고 있었다고 주장.'}, {'name': '이사벨', 'alibi': '마을 공동체 센터에서 주민들과 함께 시간을 보냈다고 함.'}, {'name': '알렉스', 'alibi': '사건 당일 마을 바깥에서 새로운 장소를 탐험하고 있었다고 함.'}] |\n",
       "| Key | Value |\n",
       "| --- | --- |\n",
       "| totalTokens | 1494 |\n",
       "| promptTokens | 1239 |\n",
       "| completionTokens | 255 |\n"
      ],
      "text/plain": [
       "<IPython.core.display.Markdown object>"
      ]
     },
     "metadata": {},
     "output_type": "display_data"
    },
    {
     "name": "stdout",
     "output_type": "stream",
     "text": [
      "4\n"
     ]
    },
    {
     "data": {
      "text/markdown": [
       "| Key | Value |\n",
       "| --- | --- |\n",
       "| victim | 마르코 |\n",
       "| crimeScene | 돼지 우리 |\n",
       "| method | 칼 |\n",
       "| witness | 이사벨 |\n",
       "| eyewitnessInformation | 이사벨은 '냥'이라는 말을 끝에 붙이며 목격자 진술을 함: '레오가 마르코를 돼지 우리 쪽으로 끌고 가는 것을 봤어요, 냥. 그는 손에 뭔가 번쩍이는 것을 들고 있었어요, 냥.' |\n",
       "| dailySummary | day 0 - 마르코가 돼지 우리에서 칼에 찔려 살해되었습니다. |\n",
       "| alibis | [{'name': '소피아', 'alibi': '사건 발생 당시 관찰을 통해 마을의 동쪽 경계를 살피고 있었다고 주장함.'}, {'name': '알렉스', 'alibi': '여러 마을을 떠돈다며, 사건 당시에는 마을에서 멀리 떨어진 곳에 있었다고 함.'}, {'name': '니콜라스', 'alibi': '옛날 양식의 말투로, 사건 시간에 자신은 도서관에서 책을 읽고 있었다고 말함.'}] |\n",
       "| Key | Value |\n",
       "| --- | --- |\n",
       "| totalTokens | 1611 |\n",
       "| promptTokens | 1251 |\n",
       "| completionTokens | 360 |\n"
      ],
      "text/plain": [
       "<IPython.core.display.Markdown object>"
      ]
     },
     "metadata": {},
     "output_type": "display_data"
    },
    {
     "name": "stdout",
     "output_type": "stream",
     "text": [
      "5\n"
     ]
    },
    {
     "data": {
      "text/markdown": [
       "| Key | Value |\n",
       "| --- | --- |\n",
       "| victim | 이사벨 |\n",
       "| crimeScene | 전당포 |\n",
       "| method | 칼 |\n",
       "| witness | 알렉스 |\n",
       "| eyewitnessInformation | 알렉스는 전당포 근처에서 수상한 인물을 보았으며, 그 인물은 레오와 유사한 특징을 가지고 있었다고 증언함. |\n",
       "| dailySummary | day 0 - 이사벨이 전당포에서 칼에 의해 살해되었음. |\n",
       "| alibis | [{'name': '소피아', 'alibi': '사건 당시 마을 외곽에서 혼자 명상을 하고 있었다고 주장함.'}, {'name': '마르코', 'alibi': '밤에 자신의 집에서 혼자 음악을 듣고 있었다고 함.'}, {'name': '니콜라스', 'alibi': '사건 발생 시간에 마을 도서관에서 책을 읽고 있었다고 주장함.'}] |\n",
       "| Key | Value |\n",
       "| --- | --- |\n",
       "| totalTokens | 1522 |\n",
       "| promptTokens | 1245 |\n",
       "| completionTokens | 277 |\n"
      ],
      "text/plain": [
       "<IPython.core.display.Markdown object>"
      ]
     },
     "metadata": {},
     "output_type": "display_data"
    },
    {
     "name": "stdout",
     "output_type": "stream",
     "text": [
      "6\n"
     ]
    },
    {
     "data": {
      "text/markdown": [
       "| Key | Value |\n",
       "| --- | --- |\n",
       "| victim | 마르코 |\n",
       "| crimeScene | 편의점 |\n",
       "| method | 칼 |\n",
       "| witness | 소피아 |\n",
       "| eyewitnessInformation | 소피아는 살인 사건이 발생한 편의점 근처를 지나가다가 레오가 마르코를 칼로 찌르는 장면을 목격했다고 진술함. |\n",
       "| dailySummary | day 0 - 마을의 편의점에서 마르코가 칼에 의해 살해당함. |\n",
       "| alibis | [{'name': '이사벨', 'alibi': '사건 당시 마을 광장에서 고양이와 놀고 있었다고 주장함.'}, {'name': '알렉스', 'alibi': '다른 마을로 여행을 떠난 상태여서 현장에 없었다고 주장함.'}, {'name': '니콜라스', 'alibi': '도서관에서 책을 읽고 있었다고 주장함.'}] |\n",
       "| Key | Value |\n",
       "| --- | --- |\n",
       "| totalTokens | 1529 |\n",
       "| promptTokens | 1252 |\n",
       "| completionTokens | 277 |\n"
      ],
      "text/plain": [
       "<IPython.core.display.Markdown object>"
      ]
     },
     "metadata": {},
     "output_type": "display_data"
    },
    {
     "name": "stdout",
     "output_type": "stream",
     "text": [
      "7\n"
     ]
    },
    {
     "data": {
      "text/markdown": [
       "| Key | Value |\n",
       "| --- | --- |\n",
       "| victim | 이사벨 |\n",
       "| crimeScene | 기차역 |\n",
       "| method | 칼 |\n",
       "| witness | 알렉스 |\n",
       "| eyewitnessInformation | 알렉스는 기차역 근처에서 레오가 이사벨을 칼로 위협하는 것을 목격했다고 주장함. |\n",
       "| dailySummary | day 0 - 이사벨이 기차역에서 칼에 의해 살해당함. |\n",
       "| alibis | [{'name': '소피아', 'alibi': '사건 당시 마을의 서재에서 책을 읽고 있었다고 함.'}, {'name': '마르코', 'alibi': '밤에 활동을 선호하기 때문에, 사건 발생 시간에는 집에서 잠을 자고 있었다고 함.'}, {'name': '니콜라스', 'alibi': '옛날 양식의 춤을 추는 모임에 있었다고 함.'}] |\n",
       "| Key | Value |\n",
       "| --- | --- |\n",
       "| totalTokens | 1499 |\n",
       "| promptTokens | 1245 |\n",
       "| completionTokens | 254 |\n"
      ],
      "text/plain": [
       "<IPython.core.display.Markdown object>"
      ]
     },
     "metadata": {},
     "output_type": "display_data"
    },
    {
     "name": "stdout",
     "output_type": "stream",
     "text": [
      "8\n"
     ]
    },
    {
     "data": {
      "text/markdown": [
       "| Key | Value |\n",
       "| --- | --- |\n",
       "| victim | 니콜라스 |\n",
       "| crimeScene | 남쪽 다리 |\n",
       "| method | 칼 |\n",
       "| witness | 이사벨 |\n",
       "| eyewitnessInformation | 이사벨은 남쪽 다리 근처에서 수상한 인물이 니콜라스를 뒤따라가는 것을 목격했다고 함. 목격자는 인물이 레오와 비슷하다고 생각했지만 어두워서 확신할 수 없었음. |\n",
       "| dailySummary | day 0 - 남쪽 다리에서 니콜라스가 칼에 찔려 살해됨. |\n",
       "| alibis | [{'name': '소피아', 'alibi': '사건 당시 마을 서쪽에서 책을 읽고 있었음.'}, {'name': '마르코', 'alibi': '밤에는 항상 집에 있으며, 마을 사람들과 잘 어울리지 않음.'}, {'name': '알렉스', 'alibi': '니콜라스가 살해되던 날, 알렉스는 마을 북쪽에서 새로운 경험을 찾아 여행 중이었음.'}] |\n",
       "| Key | Value |\n",
       "| --- | --- |\n",
       "| totalTokens | 1577 |\n",
       "| promptTokens | 1239 |\n",
       "| completionTokens | 338 |\n"
      ],
      "text/plain": [
       "<IPython.core.display.Markdown object>"
      ]
     },
     "metadata": {},
     "output_type": "display_data"
    },
    {
     "name": "stdout",
     "output_type": "stream",
     "text": [
      "9\n"
     ]
    },
    {
     "data": {
      "text/markdown": [
       "| Key | Value |\n",
       "| --- | --- |\n",
       "| victim | 이사벨 |\n",
       "| crimeScene | 부동산 |\n",
       "| method | 칼 |\n",
       "| witness | 소피아 |\n",
       "| eyewitnessInformation | 목격자 소피아는 관찰을 통해 이사벨이 부동산에서 칼에 의해 살해된 것을 목격했다고 주장함. |\n",
       "| dailySummary | day 0 - 이사벨이 부동산에서 칼로 살해됨. |\n",
       "| alibis | [{'name': '마르코', 'alibi': '범행 시간에 마을 주변을 돌아다니며 밤의 정취를 즐기고 있었다고 함.'}, {'name': '알렉스', 'alibi': '새로운 경험을 찾아 다른 마을을 방문 중이었다고 주장함.'}, {'name': '니콜라스', 'alibi': '옛날 양식의 책을 읽으며 집에서 시간을 보냈다고 함.'}] |\n",
       "| Key | Value |\n",
       "| --- | --- |\n",
       "| totalTokens | 1507 |\n",
       "| promptTokens | 1243 |\n",
       "| completionTokens | 264 |\n"
      ],
      "text/plain": [
       "<IPython.core.display.Markdown object>"
      ]
     },
     "metadata": {},
     "output_type": "display_data"
    },
    {
     "data": {
      "text/markdown": [
       "| Key | Value |\n",
       "| --- | --- |\n",
       "| API name | /api/scenario/generate_victim |\n",
       "| cnt | 10 |\n",
       "| promptTokens  | 1239 |\n",
       "| min completionTokens  | 254 |\n",
       "| max completionTokens  | 360 |\n",
       "| avg completionTokens  | 295.8 |\n",
       "| avg totalTokens | 1543.0 |\n",
       "| min executionTime | 8.357 |\n",
       "| max executionTime | 24.248 |\n",
       "| avg executionTime | 16.418 |\n"
      ],
      "text/plain": [
       "<IPython.core.display.Markdown object>"
      ]
     },
     "metadata": {},
     "output_type": "display_data"
    }
   ],
   "source": [
    "data = {\n",
    "  \"gameNo\": 0,\n",
    "  \"secretKey\": \"string\",\n",
    "  \"day\": 0,\n",
    "  \"murderer\": \"레오\",\n",
    "  \"livingCharacters\": [\n",
    "    \"소피아\", \"마르코\", \"이사벨\", \"알렉스\", \"니콜라스\", \"레오\"\n",
    "  ],\n",
    "  \"previousStory\": \"string\"\n",
    "}\n",
    "\n",
    "api_name = \"/api/scenario/generate_victim\"\n",
    "url = base_url + api_name\n",
    "\n",
    "cnt = 10\n",
    "\n",
    "cal_result_dict = API_calculate(data, url, cnt)\n",
    "\n",
    "# print(json.dumps(cal_result_dict, indent=4, ensure_ascii=False))\n",
    "\n",
    "result = make_result(api_name, cnt, cal_result_dict)\n",
    "\n",
    "markdown_table = dict_to_markdown_table(result)\n",
    "display(Markdown(markdown_table))"
   ]
  },
  {
   "cell_type": "markdown",
   "metadata": {},
   "source": [
    "### /api/scenario/generate_final_words"
   ]
  },
  {
   "cell_type": "code",
   "execution_count": 52,
   "metadata": {},
   "outputs": [
    {
     "name": "stdout",
     "output_type": "stream",
     "text": [
      "0\n"
     ]
    },
    {
     "data": {
      "text/markdown": [
       "| Key | Value |\n",
       "| --- | --- |\n",
       "| finalWords | 결국 당신의 손에 졌군요, 탐정님. 조직의 지령이었지만, 이 마을 사람들에게 내가 행한 일들은 용서받을 수 없을 거예요. 이사벨로서는 여기까지인가 봅니다. 마지막으로, 평화를 되찾은 마을을 지켜주세요. |\n",
       "| Key | Value |\n",
       "| --- | --- |\n",
       "| totalTokens | 909 |\n",
       "| promptTokens | 787 |\n",
       "| completionTokens | 122 |\n"
      ],
      "text/plain": [
       "<IPython.core.display.Markdown object>"
      ]
     },
     "metadata": {},
     "output_type": "display_data"
    },
    {
     "name": "stdout",
     "output_type": "stream",
     "text": [
      "1\n"
     ]
    },
    {
     "data": {
      "text/markdown": [
       "| Key | Value |\n",
       "| --- | --- |\n",
       "| finalWords | 이렇게 끝나는 거군. 내가 어둠의 조직을 위해 모든 것을 건 줄 알았는데... 결국, 너에게 패배하다니. 잘 해봐, 탐정, 이 마을은 이제 네가 지켜야 할 테니까. |\n",
       "| Key | Value |\n",
       "| --- | --- |\n",
       "| totalTokens | 891 |\n",
       "| promptTokens | 787 |\n",
       "| completionTokens | 104 |\n"
      ],
      "text/plain": [
       "<IPython.core.display.Markdown object>"
      ]
     },
     "metadata": {},
     "output_type": "display_data"
    },
    {
     "name": "stdout",
     "output_type": "stream",
     "text": [
      "2\n"
     ]
    },
    {
     "data": {
      "text/markdown": [
       "| Key | Value |\n",
       "| --- | --- |\n",
       "| finalWords | 이 모든 것은 조직의 명령이었을 뿐... 결국 나를 이기다니, 당신이 대단한 탐정이군요. 하지만 조직은 계속 남아 있어, 마지막까지 조심하시길. |\n",
       "| Key | Value |\n",
       "| --- | --- |\n",
       "| totalTokens | 877 |\n",
       "| promptTokens | 787 |\n",
       "| completionTokens | 90 |\n"
      ],
      "text/plain": [
       "<IPython.core.display.Markdown object>"
      ]
     },
     "metadata": {},
     "output_type": "display_data"
    },
    {
     "name": "stdout",
     "output_type": "stream",
     "text": [
      "3\n"
     ]
    },
    {
     "data": {
      "text/markdown": [
       "| Key | Value |\n",
       "| --- | --- |\n",
       "| finalWords | 당신이 이겼군요, 탐정님. 제가 놓친 단 한 가지 실수가 결국 제 패배를 가져왔습니다. 어둠의 조직은 제가 없어도 계속될 거예요. 하지만, 이 마을에서의 제 임무는 여기까지인 것 같습니다. |\n",
       "| Key | Value |\n",
       "| --- | --- |\n",
       "| totalTokens | 896 |\n",
       "| promptTokens | 787 |\n",
       "| completionTokens | 109 |\n"
      ],
      "text/plain": [
       "<IPython.core.display.Markdown object>"
      ]
     },
     "metadata": {},
     "output_type": "display_data"
    },
    {
     "name": "stdout",
     "output_type": "stream",
     "text": [
      "4\n"
     ]
    },
    {
     "data": {
      "text/markdown": [
       "| Key | Value |\n",
       "| --- | --- |\n",
       "| finalWords | 당신이 나를 잡을 줄은 몰랐군요. 조직의 명령이었지만, 이제는 끝이네요. 나의 패배를 인정합니다. 그럼, 이 마을의 평화를 지켜주시길. |\n",
       "| Key | Value |\n",
       "| --- | --- |\n",
       "| totalTokens | 875 |\n",
       "| promptTokens | 787 |\n",
       "| completionTokens | 88 |\n"
      ],
      "text/plain": [
       "<IPython.core.display.Markdown object>"
      ]
     },
     "metadata": {},
     "output_type": "display_data"
    },
    {
     "name": "stdout",
     "output_type": "stream",
     "text": [
      "5\n"
     ]
    },
    {
     "data": {
      "text/markdown": [
       "| Key | Value |\n",
       "| --- | --- |\n",
       "| finalWords | 결국 내가 지다니, 이게 끝이라니... 조직에 얼굴을 못 들고 나가겠군. 탐정, 네가 나를 이겼어. 하지만 조직은 계속 존재할 거야. |\n",
       "| Key | Value |\n",
       "| --- | --- |\n",
       "| totalTokens | 870 |\n",
       "| promptTokens | 787 |\n",
       "| completionTokens | 83 |\n"
      ],
      "text/plain": [
       "<IPython.core.display.Markdown object>"
      ]
     },
     "metadata": {},
     "output_type": "display_data"
    },
    {
     "name": "stdout",
     "output_type": "stream",
     "text": [
      "6\n"
     ]
    },
    {
     "data": {
      "text/markdown": [
       "| Key | Value |\n",
       "| --- | --- |\n",
       "| finalWords | 이것으로 내 임무는 실패했군. 네가 나를 잡을 줄이야... 조직에는 실패가 용납되지 않아. 나를 기다리는 건... 끔찍한 대가겠지. |\n",
       "| Key | Value |\n",
       "| --- | --- |\n",
       "| totalTokens | 868 |\n",
       "| promptTokens | 787 |\n",
       "| completionTokens | 81 |\n"
      ],
      "text/plain": [
       "<IPython.core.display.Markdown object>"
      ]
     },
     "metadata": {},
     "output_type": "display_data"
    },
    {
     "name": "stdout",
     "output_type": "stream",
     "text": [
      "7\n"
     ]
    },
    {
     "data": {
      "text/markdown": [
       "| Key | Value |\n",
       "| --- | --- |\n",
       "| finalWords | 결국 당신의 손에 이르렀군요, 탐정님. 저의 조직도, 이 마을도 이제 끝인가 봅니다. 하지만 알아두세요, 어둠의 조직은 결코 하나만이 아니란 걸. 제 뒤에는 더 많은 그림자가 숨어 있습니다. |\n",
       "| Key | Value |\n",
       "| --- | --- |\n",
       "| totalTokens | 905 |\n",
       "| promptTokens | 787 |\n",
       "| completionTokens | 118 |\n"
      ],
      "text/plain": [
       "<IPython.core.display.Markdown object>"
      ]
     },
     "metadata": {},
     "output_type": "display_data"
    },
    {
     "name": "stdout",
     "output_type": "stream",
     "text": [
      "8\n"
     ]
    },
    {
     "data": {
      "text/markdown": [
       "| Key | Value |\n",
       "| --- | --- |\n",
       "| finalWords | 당신이 나를 잡을 줄은 몰랐군요. 조직의 지령이었지만, 결국 제가 너무 앞서 나갔습니다. 이 마을에서의 마지막 밤이 될 줄은... 잘했습니다, 탐정. |\n",
       "| Key | Value |\n",
       "| --- | --- |\n",
       "| totalTokens | 876 |\n",
       "| promptTokens | 787 |\n",
       "| completionTokens | 89 |\n"
      ],
      "text/plain": [
       "<IPython.core.display.Markdown object>"
      ]
     },
     "metadata": {},
     "output_type": "display_data"
    },
    {
     "name": "stdout",
     "output_type": "stream",
     "text": [
      "9\n"
     ]
    },
    {
     "data": {
      "text/markdown": [
       "| Key | Value |\n",
       "| --- | --- |\n",
       "| finalWords | 이럴 수가, 내 계획이 이렇게 끝나다니... 당신은 정말 대단한 탐정이군요. 어둠의 조직에게 배신당한 기분입니다. 이 마을 사람들을 모두 살릴 수 있어 영광이었습니다. |\n",
       "| Key | Value |\n",
       "| --- | --- |\n",
       "| totalTokens | 888 |\n",
       "| promptTokens | 787 |\n",
       "| completionTokens | 101 |\n"
      ],
      "text/plain": [
       "<IPython.core.display.Markdown object>"
      ]
     },
     "metadata": {},
     "output_type": "display_data"
    },
    {
     "data": {
      "text/markdown": [
       "| Key | Value |\n",
       "| --- | --- |\n",
       "| API name | /api/scenario/generate_final_words |\n",
       "| cnt | 10 |\n",
       "| promptTokens  | 787 |\n",
       "| min completionTokens  | 81 |\n",
       "| max completionTokens  | 122 |\n",
       "| avg completionTokens  | 98.5 |\n",
       "| avg totalTokens | 885.5 |\n",
       "| min executionTime | 3.041 |\n",
       "| max executionTime | 9.531 |\n",
       "| avg executionTime | 6.449 |\n"
      ],
      "text/plain": [
       "<IPython.core.display.Markdown object>"
      ]
     },
     "metadata": {},
     "output_type": "display_data"
    }
   ],
   "source": [
    "data = {\n",
    "  \"gameNo\": 0,\n",
    "  \"secretKey\": \"string\",\n",
    "  \"gameResult\": \"victory\",\n",
    "  \"murderer\": \"이사벨\",\n",
    "  \"livingCharacters\": [\n",
    "    \"레오\"\n",
    "  ],\n",
    "  \"previousStory\": \"\"\n",
    "}\n",
    "\n",
    "api_name = \"/api/scenario/generate_final_words\"\n",
    "url = base_url + api_name\n",
    "\n",
    "cnt = 10\n",
    "\n",
    "cal_result_dict = API_calculate(data, url, cnt)\n",
    "\n",
    "# print(json.dumps(cal_result_dict, indent=4, ensure_ascii=False))\n",
    "\n",
    "result = make_result(api_name, cnt, cal_result_dict)\n",
    "\n",
    "markdown_table = dict_to_markdown_table(result)\n",
    "display(Markdown(markdown_table))"
   ]
  },
  {
   "cell_type": "markdown",
   "metadata": {},
   "source": [
    "### /api/user/conversation_with_user"
   ]
  },
  {
   "cell_type": "code",
   "execution_count": 54,
   "metadata": {},
   "outputs": [
    {
     "name": "stdout",
     "output_type": "stream",
     "text": [
      "0\n"
     ]
    },
    {
     "data": {
      "text/markdown": [
       "| Key | Value |\n",
       "| --- | --- |\n",
       "| chatContent | 그렇지, 네 이름은 형구라고 들었네. 우리 마을 잔치에서 뵈었을지도 모르겠군. |\n",
       "| Key | Value |\n",
       "| --- | --- |\n",
       "| totalTokens | 952 |\n",
       "| promptTokens | 896 |\n",
       "| completionTokens | 56 |\n"
      ],
      "text/plain": [
       "<IPython.core.display.Markdown object>"
      ]
     },
     "metadata": {},
     "output_type": "display_data"
    },
    {
     "name": "stdout",
     "output_type": "stream",
     "text": [
      "1\n"
     ]
    },
    {
     "data": {
      "text/markdown": [
       "| Key | Value |\n",
       "| --- | --- |\n",
       "| chatContent | 맞아, 네가 형구라고? 기억하고 있네. 어떤 도움이 필요하신가? |\n",
       "| Key | Value |\n",
       "| --- | --- |\n",
       "| totalTokens | 944 |\n",
       "| promptTokens | 896 |\n",
       "| completionTokens | 48 |\n"
      ],
      "text/plain": [
       "<IPython.core.display.Markdown object>"
      ]
     },
     "metadata": {},
     "output_type": "display_data"
    },
    {
     "name": "stdout",
     "output_type": "stream",
     "text": [
      "2\n"
     ]
    },
    {
     "data": {
      "text/markdown": [
       "| Key | Value |\n",
       "| --- | --- |\n",
       "| chatContent | 그렇지, 내 이름은 레오라네. 네가 물어본 것처럼, 노래 부르듯 대답하는 걸 즐기지. |\n",
       "| Key | Value |\n",
       "| --- | --- |\n",
       "| totalTokens | 958 |\n",
       "| promptTokens | 896 |\n",
       "| completionTokens | 62 |\n"
      ],
      "text/plain": [
       "<IPython.core.display.Markdown object>"
      ]
     },
     "metadata": {},
     "output_type": "display_data"
    },
    {
     "name": "stdout",
     "output_type": "stream",
     "text": [
      "3\n"
     ]
    },
    {
     "data": {
      "text/markdown": [
       "| Key | Value |\n",
       "| --- | --- |\n",
       "| chatContent | 그렇다면 네가 형구란 말인가? 용감한 이름이군. 반가워, 형구. |\n",
       "| Key | Value |\n",
       "| --- | --- |\n",
       "| totalTokens | 943 |\n",
       "| promptTokens | 896 |\n",
       "| completionTokens | 47 |\n"
      ],
      "text/plain": [
       "<IPython.core.display.Markdown object>"
      ]
     },
     "metadata": {},
     "output_type": "display_data"
    },
    {
     "name": "stdout",
     "output_type": "stream",
     "text": [
      "4\n"
     ]
    },
    {
     "data": {
      "text/markdown": [
       "| Key | Value |\n",
       "| --- | --- |\n",
       "| chatContent | 그렇지, 형구여. 내 이름이 레오라네. 네가 물어보는 걸 보면, 내 소문을 들은 것 같군. |\n",
       "| Key | Value |\n",
       "| --- | --- |\n",
       "| totalTokens | 956 |\n",
       "| promptTokens | 896 |\n",
       "| completionTokens | 60 |\n"
      ],
      "text/plain": [
       "<IPython.core.display.Markdown object>"
      ]
     },
     "metadata": {},
     "output_type": "display_data"
    },
    {
     "name": "stdout",
     "output_type": "stream",
     "text": [
      "5\n"
     ]
    },
    {
     "data": {
      "text/markdown": [
       "| Key | Value |\n",
       "| --- | --- |\n",
       "| chatContent | 당연하네, 형구라는 이름이 기억에 남는군. 너의 목소리에 담긴 진심이 마음에 와 닿아서일세. |\n",
       "| Key | Value |\n",
       "| --- | --- |\n",
       "| totalTokens | 959 |\n",
       "| promptTokens | 896 |\n",
       "| completionTokens | 63 |\n"
      ],
      "text/plain": [
       "<IPython.core.display.Markdown object>"
      ]
     },
     "metadata": {},
     "output_type": "display_data"
    },
    {
     "name": "stdout",
     "output_type": "stream",
     "text": [
      "6\n"
     ]
    },
    {
     "data": {
      "text/markdown": [
       "| Key | Value |\n",
       "| --- | --- |\n",
       "| chatContent | 당연하지, 형구라고 들었네. 우리 마을 사람들 사이에선 이미 네 소문이 자자하니까. |\n",
       "| Key | Value |\n",
       "| --- | --- |\n",
       "| totalTokens | 951 |\n",
       "| promptTokens | 896 |\n",
       "| completionTokens | 55 |\n"
      ],
      "text/plain": [
       "<IPython.core.display.Markdown object>"
      ]
     },
     "metadata": {},
     "output_type": "display_data"
    },
    {
     "name": "stdout",
     "output_type": "stream",
     "text": [
      "7\n"
     ]
    },
    {
     "data": {
      "text/markdown": [
       "| Key | Value |\n",
       "| --- | --- |\n",
       "| chatContent | 물론이지, 형구여. 네 이름은 잊히지 않는 멜로디와 같아. |\n",
       "| Key | Value |\n",
       "| --- | --- |\n",
       "| totalTokens | 941 |\n",
       "| promptTokens | 896 |\n",
       "| completionTokens | 45 |\n"
      ],
      "text/plain": [
       "<IPython.core.display.Markdown object>"
      ]
     },
     "metadata": {},
     "output_type": "display_data"
    },
    {
     "name": "stdout",
     "output_type": "stream",
     "text": [
      "8\n"
     ]
    },
    {
     "data": {
      "text/markdown": [
       "| Key | Value |\n",
       "| --- | --- |\n",
       "| chatContent | 그렇지, 네가 형구라는 것 잘 알고 있네. 네 명성은 우리 마을까지 들리니까. |\n",
       "| Key | Value |\n",
       "| --- | --- |\n",
       "| totalTokens | 950 |\n",
       "| promptTokens | 896 |\n",
       "| completionTokens | 54 |\n"
      ],
      "text/plain": [
       "<IPython.core.display.Markdown object>"
      ]
     },
     "metadata": {},
     "output_type": "display_data"
    },
    {
     "name": "stdout",
     "output_type": "stream",
     "text": [
      "9\n"
     ]
    },
    {
     "data": {
      "text/markdown": [
       "| Key | Value |\n",
       "| --- | --- |\n",
       "| chatContent | 그렇다네, 친구. 네 이름이 형구라는 건 이미 알고 있었지. 기억에 남는 이름이야. |\n",
       "| Key | Value |\n",
       "| --- | --- |\n",
       "| totalTokens | 950 |\n",
       "| promptTokens | 896 |\n",
       "| completionTokens | 54 |\n"
      ],
      "text/plain": [
       "<IPython.core.display.Markdown object>"
      ]
     },
     "metadata": {},
     "output_type": "display_data"
    },
    {
     "data": {
      "text/markdown": [
       "| Key | Value |\n",
       "| --- | --- |\n",
       "| API name | /api/user/conversation_with_user |\n",
       "| cnt | 10 |\n",
       "| promptTokens  | 896 |\n",
       "| min completionTokens  | 45 |\n",
       "| max completionTokens  | 63 |\n",
       "| avg completionTokens  | 54.4 |\n",
       "| avg totalTokens | 950.4 |\n",
       "| min executionTime | 3.549 |\n",
       "| max executionTime | 8.243 |\n",
       "| avg executionTime | 5.246 |\n"
      ],
      "text/plain": [
       "<IPython.core.display.Markdown object>"
      ]
     },
     "metadata": {},
     "output_type": "display_data"
    }
   ],
   "source": [
    "data = {\n",
    "  \"gameNo\": 0,\n",
    "  \"secretKey\": \"string\",\n",
    "  \"sender\": \"형구\",\n",
    "  \"receiver\": {\n",
    "\t  \"name\": \"레오\",\n",
    "\t  \"alibi\": \"지난 밤 마을 잔치에 참여함\"\n",
    "\t  },\n",
    "  \"chatContent\": \"내 이름이 뭔지 알아?\",\n",
    "  \"chatDay\": 0,\n",
    "  \"previousStory\": \"\",\n",
    "  \"previousChatContents\": [\n",
    "    {\n",
    "      \"sender\": \"형구\",\n",
    "      \"receiver\": \"레오\",\n",
    "      \"chatContent\": \"넌 누구야?\",\n",
    "      \"chatDay\": 0\n",
    "    },\n",
    "    {\n",
    "      \"sender\": \"레오\",\n",
    "      \"receiver\": \"형구\",\n",
    "      \"chatContent\": \"안녕하신가, 나는 레오라고 하네. 용기 있게 행동하는 것을 좋아하고, 대답할 땐 마치 노래를 부르듯이 말하네.\",\n",
    "      \"chatDay\": 0\n",
    "    }\n",
    "  ]\n",
    "}\n",
    "\n",
    "api_name = \"/api/user/conversation_with_user\" \n",
    "url = base_url + api_name\n",
    "\n",
    "cnt = 10\n",
    "\n",
    "cal_result_dict = API_calculate(data, url, cnt)\n",
    "\n",
    "# print(json.dumps(cal_result_dict, indent=4, ensure_ascii=False))\n",
    "\n",
    "result = make_result(api_name, cnt, cal_result_dict)\n",
    "\n",
    "markdown_table = dict_to_markdown_table(result)\n",
    "display(Markdown(markdown_table))"
   ]
  },
  {
   "cell_type": "markdown",
   "metadata": {},
   "source": [
    "### /api/user/conversation_between_npcs"
   ]
  },
  {
   "cell_type": "code",
   "execution_count": 55,
   "metadata": {},
   "outputs": [
    {
     "name": "stdout",
     "output_type": "stream",
     "text": [
      "0\n"
     ]
    },
    {
     "data": {
      "text/markdown": [
       "| Key | Value |\n",
       "| --- | --- |\n",
       "| chatContent | [{'sender': '레오', 'receiver': '이사벨', 'chatContent': '이사벨, 너도 어젯밤 잔치에서 니콜라스가 이상하게 구석에 혼자 있던 거 봤지? 노래를 부르듯이 말하자면, 그게 마지막 모습이 될 줄은 몰랐어.'}, {'sender': '이사벨', 'receiver': '레오', 'chatContent': '응, 봤어 냥. 니콜라스가 무언가 걱정하는 것 같더라 냥. 그리고, 네가 잔치에서 늦게 나간 것도 봤어 냥.'}, {'sender': '레오', 'receiver': '이사벨', 'chatContent': '그래, 나도 마음이 불편해서 일찍 자러 갔지. 하지만 너는 어떻게 그렇게 밝을 수 있어? 용기 있게 말하지만, 이런 상황에서도...'}, {'sender': '이사벨', 'receiver': '레오', 'chatContent': '우리 모두 힘을 내야 하니까 냥. 우리 중 누군가가 이 일을 저질렀다는 건 슬프지만, 진실은 밝혀져야 해 냥. 그리고 레오, 네가 일찍 떠난 건 조금 이상해 보여 냥.'}] |\n",
       "| Key | Value |\n",
       "| --- | --- |\n",
       "| totalTokens | 1447 |\n",
       "| promptTokens | 1005 |\n",
       "| completionTokens | 442 |\n"
      ],
      "text/plain": [
       "<IPython.core.display.Markdown object>"
      ]
     },
     "metadata": {},
     "output_type": "display_data"
    },
    {
     "name": "stdout",
     "output_type": "stream",
     "text": [
      "1\n"
     ]
    },
    {
     "data": {
      "text/markdown": [
       "| Key | Value |\n",
       "| --- | --- |\n",
       "| chatContent | [{'sender': '레오', 'receiver': '이사벨', 'chatContent': '이사벨, 너도 어젯밤 잔치에 있었지? 노래를 부르며 춤을 추는 모습, 정말 멋졌어.'}, {'sender': '이사벨', 'receiver': '레오', 'chatContent': '그래, 레오! 즐거웠어, 냥! 하지만, 너도 봤잖아. 니콜라스가 잔치에 안 나타나서 좀 이상했었지, 냥.'}, {'sender': '레오', 'receiver': '이사벨', 'chatContent': '맞아, 니콜라스는 항상 잔치의 중심이었는데... 그런데, 해변에서 발견된 발자국은 본 적 있어?'}, {'sender': '이사벨', 'receiver': '레오', 'chatContent': '아니, 냥. 나는 해변 쪽엔 안 갔어. 하지만 마을 사람들 중 누군가는 봤을지도 몰라, 냥. 잔치 끝나고 몇몇 사람들이 해변으로 갔다던데, 냥.'}] |\n",
       "| Key | Value |\n",
       "| --- | --- |\n",
       "| totalTokens | 1394 |\n",
       "| promptTokens | 1005 |\n",
       "| completionTokens | 389 |\n"
      ],
      "text/plain": [
       "<IPython.core.display.Markdown object>"
      ]
     },
     "metadata": {},
     "output_type": "display_data"
    },
    {
     "name": "stdout",
     "output_type": "stream",
     "text": [
      "2\n"
     ]
    },
    {
     "data": {
      "text/markdown": [
       "| Key | Value |\n",
       "| --- | --- |\n",
       "| chatContent | [{'sender': '레오', 'receiver': '이사벨', 'chatContent': '이사벨, 너도 지난 밤 잔치에 있었지? 모두가 놀란 것 같던데, 냥.'}, {'sender': '이사벨', 'receiver': '레오', 'chatContent': '그래, 레오. 정말 끔찍한 일이야, 냥. 니콜라스가 그렇게 될 줄은 몰랐어, 냥.'}, {'sender': '레오', 'receiver': '이사벨', 'chatContent': '음, 나도 그렇게 생각해. 그런데, 너는 행사가 끝난 뒤에 뭘 했는지 기억나, 냥?'}, {'sender': '이사벨', 'receiver': '레오', 'chatContent': '잘 기억이 안 나는 걸, 냥. 나는 그냥 집에 바로 돌아왔어. 레오는 뭘 했어, 냥?'}, {'sender': '레오', 'receiver': '이사벨', 'chatContent': '난 그 후로 잠시 해변 쪽을 산책했어. 정말 조용하더라고, 냥.'}] |\n",
       "| Key | Value |\n",
       "| --- | --- |\n",
       "| totalTokens | 1402 |\n",
       "| promptTokens | 1005 |\n",
       "| completionTokens | 397 |\n"
      ],
      "text/plain": [
       "<IPython.core.display.Markdown object>"
      ]
     },
     "metadata": {},
     "output_type": "display_data"
    },
    {
     "name": "stdout",
     "output_type": "stream",
     "text": [
      "3\n"
     ]
    },
    {
     "data": {
      "text/markdown": [
       "| Key | Value |\n",
       "| --- | --- |\n",
       "| chatContent | [{'sender': '레오', 'receiver': '이사벨', 'chatContent': '이사벨, 니콜라스가 해변에서 살해당한 걸 들었어. 지난 밤 마을 잔치에 우리 모두 있었잖아. 누군가 거짓말을 하고 있는 거야.'}, {'sender': '이사벨', 'receiver': '레오', 'chatContent': '맞아요, 레오. 다들 잔치에 있었다고 생각했는데, 누구 하나가 잠시 자리를 비웠을 수도 있어요냥.'}, {'sender': '레오', 'receiver': '이사벨', 'chatContent': '그래. 나는 누구도 의심하고 싶지 않아. 하지만, 이런 사건을 해결하려면 냉정해야 해. 네가 본 게 뭐든, 들은 게 뭐든 말해줘.'}, {'sender': '이사벨', 'receiver': '레오', 'chatContent': '음, 난 잔치에서 톰이 이상하게 구석에 혼자 서있는 걸 봤어요. 모두가 춤을 추고 있을 때 말이죠냥. 하지만 이게 무슨 의미가 있는지는 모르겠어요냥.'}] |\n",
       "| Key | Value |\n",
       "| --- | --- |\n",
       "| totalTokens | 1420 |\n",
       "| promptTokens | 1005 |\n",
       "| completionTokens | 415 |\n"
      ],
      "text/plain": [
       "<IPython.core.display.Markdown object>"
      ]
     },
     "metadata": {},
     "output_type": "display_data"
    },
    {
     "name": "stdout",
     "output_type": "stream",
     "text": [
      "4\n"
     ]
    },
    {
     "data": {
      "text/markdown": [
       "| Key | Value |\n",
       "| --- | --- |\n",
       "| chatContent | [{'sender': '레오', 'receiver': '이사벨', 'chatContent': '이사벨, 너도 어젯밤 잔치에 있었잖아, 냥. 누군가 니콜라스에게 가는 걸 보지 않았니?'}, {'sender': '이사벨', 'receiver': '레오', 'chatContent': '오, 레오! 나는 아무것도 못 봤어, 냥. 하지만 잔치가 끝나고 나서, 미카엘이 뭔가 급하게 해변 쪽으로 가는 것 같았어, 냥.'}, {'sender': '레오', 'receiver': '이사벨', 'chatContent': '미카엘, 그 사람이야? 하지만 그는 항상 조용하고 차분한데, 냥... 의심스럽군.'}, {'sender': '이사벨', 'receiver': '레오', 'chatContent': '그렇긴 하지만, 어젯밤은 뭔가 달랐던 것 같아, 냥. 누군가를 피하려는 것처럼 보였거든, 냥. 하지만 누가 그런 일을 할 수 있을까, 냥?'}] |\n",
       "| Key | Value |\n",
       "| --- | --- |\n",
       "| totalTokens | 1397 |\n",
       "| promptTokens | 1005 |\n",
       "| completionTokens | 392 |\n"
      ],
      "text/plain": [
       "<IPython.core.display.Markdown object>"
      ]
     },
     "metadata": {},
     "output_type": "display_data"
    },
    {
     "name": "stdout",
     "output_type": "stream",
     "text": [
      "5\n"
     ]
    },
    {
     "data": {
      "text/markdown": [
       "| Key | Value |\n",
       "| --- | --- |\n",
       "| chatContent | [{'sender': '레오', 'receiver': '이사벨', 'chatContent': \"이사벨, 너도 어제 잔치에 있었지? '냥' 이런 일이 일어날 줄 누가 알았겠어...\"}, {'sender': '이사벨', 'receiver': '레오', 'chatContent': '그치, 레오! 나도 너무 놀랐어냥. 니콜라스가 그렇게 될 줄은 상상도 못 했어냥.'}, {'sender': '레오', 'receiver': '이사벨', 'chatContent': '혹시, 잔치에서 누군가 수상한 행동을 한 사람 없었나? 너는 늘 밝은 눈을 하고 있으니까 뭐든 잘 보일 거야.'}, {'sender': '이사벨', 'receiver': '레오', 'chatContent': '음... 잘 모르겠어냥. 하지만, 마리가 잔치 끝나기 전에 일찍 떠난 것 같더라냥. 왜 그랬는지는 모르겠지만, 이상하긴 했어냥.'}] |\n",
       "| Key | Value |\n",
       "| --- | --- |\n",
       "| totalTokens | 1375 |\n",
       "| promptTokens | 1005 |\n",
       "| completionTokens | 370 |\n"
      ],
      "text/plain": [
       "<IPython.core.display.Markdown object>"
      ]
     },
     "metadata": {},
     "output_type": "display_data"
    },
    {
     "name": "stdout",
     "output_type": "stream",
     "text": [
      "6\n"
     ]
    },
    {
     "data": {
      "text/markdown": [
       "| Key | Value |\n",
       "| --- | --- |\n",
       "| chatContent | [{'sender': '레오', 'receiver': '이사벨', 'chatContent': '너도 니콜라스가 살해된 거 들었어? 노래하듯이 말하지만, 이건 정말 충격적인 일이야.'}, {'sender': '이사벨', 'receiver': '레오', 'chatContent': '그럼, 레오. 나도 그 소식에 마음이 많이 아프다냥. 평화로운 마을에서 이런 일이 일어날 줄은 몰랐어냥.'}, {'sender': '레오', 'receiver': '이사벨', 'chatContent': '잔치에서 본 사람들 중에 범인이 있다고 생각해? 누군가는 수상한 행동을 했을지도 몰라.'}, {'sender': '이사벨', 'receiver': '레오', 'chatContent': '음, 잔치 때 마틴이 조금 이상했어냥. 평소와 달리 조용하고 불안해 보였다냥. 하지만 그게 무슨 의미인지는 모르겠다냥.'}] |\n",
       "| Key | Value |\n",
       "| --- | --- |\n",
       "| totalTokens | 1367 |\n",
       "| promptTokens | 1005 |\n",
       "| completionTokens | 362 |\n"
      ],
      "text/plain": [
       "<IPython.core.display.Markdown object>"
      ]
     },
     "metadata": {},
     "output_type": "display_data"
    },
    {
     "name": "stdout",
     "output_type": "stream",
     "text": [
      "7\n"
     ]
    },
    {
     "data": {
      "text/markdown": [
       "| Key | Value |\n",
       "| --- | --- |\n",
       "| chatContent | [{'sender': '레오', 'receiver': '이사벨', 'chatContent': '이사벨, 너도 어제 잔치에서 노래를 들었어? 나는 마치 선율이 우리를 하나로 모으는 것만 같았단다.'}, {'sender': '이사벨', 'receiver': '레오', 'chatContent': '그렇다냥! 모두가 즐거워 보였어냥. 하지만, 니콜라스가 빠져서 조금 이상했지 냥.'}, {'sender': '레오', 'receiver': '이사벨', 'chatContent': '맞아, 그 날 니콜라스가 보이지 않았어. 어쩌면 그게 우리가 놓친 실마리일지도 모르지.'}, {'sender': '이사벨', 'receiver': '레오', 'chatContent': '그렇게 생각하지 마냥. 니콜라스는 혼자 있는 시간이 필요했을 거야냥. 우리가 할 수 있는 건, 그의 마지막을 추억하는 것뿐이야냥.'}] |\n",
       "| Key | Value |\n",
       "| --- | --- |\n",
       "| totalTokens | 1370 |\n",
       "| promptTokens | 1005 |\n",
       "| completionTokens | 365 |\n"
      ],
      "text/plain": [
       "<IPython.core.display.Markdown object>"
      ]
     },
     "metadata": {},
     "output_type": "display_data"
    },
    {
     "name": "stdout",
     "output_type": "stream",
     "text": [
      "8\n"
     ]
    },
    {
     "data": {
      "text/markdown": [
       "| Key | Value |\n",
       "| --- | --- |\n",
       "| chatContent | [{'sender': '레오', 'receiver': '이사벨', 'chatContent': '이사벨, 너도 어제 잔치에 있었잖아. 누군가 니콜라스를 해변에서 보지 않았을까?'}, {'sender': '이사벨', 'receiver': '레오', 'chatContent': '음, 나는 그런 건 못 봤어요, 냥. 하지만 해변 쪽에는 마리오가 자주 가는 것 같더라고요, 냥.'}, {'sender': '레오', 'receiver': '이사벨', 'chatContent': '마리오가? 그는 항상 수상쩍었어. 어쩌면 그가 니콜라스를 노렸을 수도 있겠군.'}, {'sender': '이사벨', 'receiver': '레오', 'chatContent': '하지만 마리오도 어제 잔치에 있었어요, 냥. 저와 함께 춤을 추기도 했고요, 냥. 그 시간에 니콜라스를 해할 수는 없었을 거예요, 냥.'}] |\n",
       "| Key | Value |\n",
       "| --- | --- |\n",
       "| totalTokens | 1362 |\n",
       "| promptTokens | 1005 |\n",
       "| completionTokens | 357 |\n"
      ],
      "text/plain": [
       "<IPython.core.display.Markdown object>"
      ]
     },
     "metadata": {},
     "output_type": "display_data"
    },
    {
     "name": "stdout",
     "output_type": "stream",
     "text": [
      "9\n"
     ]
    },
    {
     "data": {
      "text/markdown": [
       "| Key | Value |\n",
       "| --- | --- |\n",
       "| chatContent | [{'sender': '레오', 'receiver': '이사벨', 'chatContent': '이사벨, 니콜라스가 해변에서 발견됐다며? 정말 충격적이야. 너는 누구를 의심하고 있냐?'}, {'sender': '이사벨', 'receiver': '레오', 'chatContent': '음, 정말 모르겠어요, 레오. 모두가 마을 잔치에 있었으니까요. 누군가가 몰래 나갔을 수도 있겠죠, 냥?'}, {'sender': '레오', 'receiver': '이사벨', 'chatContent': '그렇지. 잔치에선 너의 노래가 정말 인상적이었어. 혹시 다른 이상한 일은 눈치채지 못했어?'}, {'sender': '이사벨', 'receiver': '레오', 'chatContent': '아무래도 마을 서쪽 숲 쪽에서 이상한 소리가 들렸던 것 같아요. 누군가가 서둘러 가는 발걸음 소리였을까요, 냥?'}] |\n",
       "| Key | Value |\n",
       "| --- | --- |\n",
       "| totalTokens | 1377 |\n",
       "| promptTokens | 1005 |\n",
       "| completionTokens | 372 |\n"
      ],
      "text/plain": [
       "<IPython.core.display.Markdown object>"
      ]
     },
     "metadata": {},
     "output_type": "display_data"
    },
    {
     "data": {
      "text/markdown": [
       "| Key | Value |\n",
       "| --- | --- |\n",
       "| API name | /api/user/conversation_between_npcs |\n",
       "| cnt | 10 |\n",
       "| promptTokens  | 1005 |\n",
       "| min completionTokens  | 357 |\n",
       "| max completionTokens  | 442 |\n",
       "| avg completionTokens  | 386.1 |\n",
       "| avg totalTokens | 1391.1 |\n",
       "| min executionTime | 12.682 |\n",
       "| max executionTime | 38.412 |\n",
       "| avg executionTime | 21.902 |\n"
      ],
      "text/plain": [
       "<IPython.core.display.Markdown object>"
      ]
     },
     "metadata": {},
     "output_type": "display_data"
    }
   ],
   "source": [
    "data = {\n",
    "  \"gameNo\": 0,\n",
    "  \"secretKey\": \"string\",\n",
    "  \"sender\": \"형구\",\n",
    "  \"npcName1\": {\n",
    "    \"name\": \"레오\",\n",
    "    \"alibi\": \"지난 밤 마을 잔치에 참여함\"\n",
    "  },\n",
    "  \"npcName2\": {\n",
    "    \"name\": \"이사벨\",\n",
    "    \"alibi\": \"지난 밤 마을 잔치에 참여함\"\n",
    "  },\n",
    "  \"chatDay\": 0,\n",
    "  \"previousStory\": \"day0 - 니콜라스가 해변에서 살해된채로 발견\"\n",
    "}\n",
    "\n",
    "api_name = \"/api/user/conversation_between_npcs\"\n",
    "url = base_url + api_name\n",
    "\n",
    "cnt = 10\n",
    "\n",
    "cal_result_dict = API_calculate(data, url, cnt)\n",
    "\n",
    "# print(json.dumps(cal_result_dict, indent=4, ensure_ascii=False))\n",
    "\n",
    "result = make_result(api_name, cnt, cal_result_dict)\n",
    "\n",
    "markdown_table = dict_to_markdown_table(result)\n",
    "display(Markdown(markdown_table))"
   ]
  }
 ],
 "metadata": {
  "kernelspec": {
   "display_name": "muderer",
   "language": "python",
   "name": "python3"
  },
  "language_info": {
   "codemirror_mode": {
    "name": "ipython",
    "version": 3
   },
   "file_extension": ".py",
   "mimetype": "text/x-python",
   "name": "python",
   "nbconvert_exporter": "python",
   "pygments_lexer": "ipython3",
   "version": "3.10.13"
  }
 },
 "nbformat": 4,
 "nbformat_minor": 2
}
