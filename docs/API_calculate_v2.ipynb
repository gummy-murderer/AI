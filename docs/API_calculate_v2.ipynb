{
 "cells": [
  {
   "cell_type": "code",
   "execution_count": 1,
   "metadata": {},
   "outputs": [],
   "source": [
    "import requests\n",
    "import time\n",
    "import json\n",
    "from IPython.display import display, Markdown"
   ]
  },
  {
   "cell_type": "code",
   "execution_count": 2,
   "metadata": {},
   "outputs": [],
   "source": [
    "base_url = \"http://127.0.0.1:8000\""
   ]
  },
  {
   "cell_type": "code",
   "execution_count": 3,
   "metadata": {},
   "outputs": [],
   "source": [
    "def dict_to_markdown_table(data):\n",
    "    markdown_table = \"| Key | Value |\\n| --- | --- |\\n\"\n",
    "    for key, value in data.items():\n",
    "        markdown_table += f\"| {key} | {value} |\\n\"\n",
    "    return markdown_table"
   ]
  },
  {
   "cell_type": "code",
   "execution_count": 7,
   "metadata": {},
   "outputs": [],
   "source": [
    "def API_calculate(data, url, cnt):\n",
    "    cal_result_dict = {\n",
    "        \"totalTokens_list\": [],\n",
    "        \"prompt_tokens_list\": [],\n",
    "        \"completion_tokens_list\": [],\n",
    "        \"executionTime_list\": [],\n",
    "    }\n",
    "\n",
    "    for i in range(cnt):\n",
    "        start_time = time.time()\n",
    "\n",
    "        response = requests.post(url, json=data)\n",
    "\n",
    "        end_time = time.time()\n",
    "        execution_time = round(end_time - start_time, 3)\n",
    "\n",
    "        anwser = eval(response.text)\n",
    "\n",
    "        cal_result_dict[\"totalTokens_list\"].append(anwser['tokens']['totalTokens'])\n",
    "        cal_result_dict[\"prompt_tokens_list\"].append(anwser['tokens']['promptTokens'])\n",
    "        cal_result_dict[\"completion_tokens_list\"].append(anwser['tokens']['completionTokens'])\n",
    "        cal_result_dict[\"executionTime_list\"].append(execution_time)\n",
    "\n",
    "        markdown_table_answer = dict_to_markdown_table(anwser['answer'])\n",
    "        markdown_table_tokens = dict_to_markdown_table(anwser['tokens'])\n",
    "        print(i)\n",
    "        display(Markdown(markdown_table_answer + markdown_table_tokens))\n",
    "\n",
    "\n",
    "    return cal_result_dict"
   ]
  },
  {
   "cell_type": "code",
   "execution_count": 5,
   "metadata": {},
   "outputs": [],
   "source": [
    "def make_result(api_name, cnt, cal_result_dict):\n",
    "    prompt_tokens_list = cal_result_dict[\"prompt_tokens_list\"]\n",
    "    completion_tokens_list = cal_result_dict[\"completion_tokens_list\"]\n",
    "    totalTokens_list = cal_result_dict[\"totalTokens_list\"]\n",
    "    executionTime_list = cal_result_dict[\"executionTime_list\"]\n",
    "\n",
    "    result = {\n",
    "        \"API name\": api_name,\n",
    "        \"cnt\": cnt,\n",
    "        \"promptTokens \": min(prompt_tokens_list),\n",
    "        \"min completionTokens \": min(completion_tokens_list),\n",
    "        \"max completionTokens \": max(completion_tokens_list),\n",
    "        \"avg completionTokens \": sum(completion_tokens_list) / len(totalTokens_list),\n",
    "        \"avg totalTokens\": sum(totalTokens_list) / len(totalTokens_list),\n",
    "        \"min executionTime\": min(executionTime_list),\n",
    "        \"max executionTime\": max(executionTime_list),\n",
    "        \"avg executionTime\": round(sum(executionTime_list) / len(executionTime_list), 3)\n",
    "    }\n",
    "    return result"
   ]
  },
  {
   "cell_type": "markdown",
   "metadata": {},
   "source": [
    "### /api/scenario/generate_intro"
   ]
  },
  {
   "cell_type": "code",
   "execution_count": 23,
   "metadata": {},
   "outputs": [
    {
     "name": "stdout",
     "output_type": "stream",
     "text": [
      "<Response [200]>\n",
      "0\n"
     ]
    },
    {
     "data": {
      "text/markdown": [
       "| Key | Value |\n",
       "| --- | --- |\n",
       "| greeting | 존경하는 탐정님께, |\n",
       "| content | 평화로운 저희 마을에 충격적인 살인 사건이 발생하였습니다. 이 사건으로 인해 마을 주민들이 큰 불안에 떨고 있습니다. 탐정님의 뛰어난 능력을 믿고 이 사건 해결을 부탁드리고자 합니다. 낮 동안 주민들과 대화를 통해 진실을 밝혀 주십시오. 마을의 평화를 되찾기 위해 꼭 도움을 주시길 바랍니다. |\n",
       "| closing | 촌장 드림 |\n",
       "| Key | Value |\n",
       "| --- | --- |\n",
       "| totalTokens | 620 |\n",
       "| promptTokens | 497 |\n",
       "| completionTokens | 123 |\n"
      ],
      "text/plain": [
       "<IPython.core.display.Markdown object>"
      ]
     },
     "metadata": {},
     "output_type": "display_data"
    },
    {
     "name": "stdout",
     "output_type": "stream",
     "text": [
      "<Response [200]>\n",
      "1\n"
     ]
    },
    {
     "data": {
      "text/markdown": [
       "| Key | Value |\n",
       "| --- | --- |\n",
       "| greeting | 존경하는 탐정님께, |\n",
       "| content | 저희 마을에서 처음으로 살인 사건이 발생하여 도움을 요청드립니다. 평화롭던 이곳이 큰 충격에 빠졌습니다. 사건을 해결해 주시기를 간절히 부탁드립니다. 주민들과 대화를 나누며 진실을 밝혀주세요. 부디 다시 마을에 평화를 되찾아 주시길 바랍니다. |\n",
       "| closing | 감사합니다, 촌장 올림. |\n",
       "| Key | Value |\n",
       "| --- | --- |\n",
       "| totalTokens | 614 |\n",
       "| promptTokens | 497 |\n",
       "| completionTokens | 117 |\n"
      ],
      "text/plain": [
       "<IPython.core.display.Markdown object>"
      ]
     },
     "metadata": {},
     "output_type": "display_data"
    },
    {
     "name": "stdout",
     "output_type": "stream",
     "text": [
      "<Response [200]>\n",
      "2\n"
     ]
    },
    {
     "data": {
      "text/markdown": [
       "| Key | Value |\n",
       "| --- | --- |\n",
       "| greeting | 안녕하세요, 탐정님. |\n",
       "| content | 우리 마을에서 처음으로 충격적인 살인 사건이 발생했습니다. 평화로웠던 마을이 불안에 휩싸였습니다. 주민들의 안전을 위해 당신의 도움이 시급합니다. 낮 동안 주민들과 대화를 통해 단서를 찾아주세요. 밤이 되면 범인이 다시 움직일 수 있습니다. 부디 범인을 밝혀 마을의 평화를 되찾아주세요. |\n",
       "| closing | 촌장 드림 |\n",
       "| Key | Value |\n",
       "| --- | --- |\n",
       "| totalTokens | 616 |\n",
       "| promptTokens | 497 |\n",
       "| completionTokens | 119 |\n"
      ],
      "text/plain": [
       "<IPython.core.display.Markdown object>"
      ]
     },
     "metadata": {},
     "output_type": "display_data"
    },
    {
     "name": "stdout",
     "output_type": "stream",
     "text": [
      "<Response [200]>\n",
      "3\n"
     ]
    },
    {
     "data": {
      "text/markdown": [
       "| Key | Value |\n",
       "| --- | --- |\n",
       "| greeting | 존경하는 탐정님께, |\n",
       "| content | 우리 마을에서 충격적인 살인 사건이 발생했습니다. 평화롭던 마을에 불안감이 가득합니다. 부디 이 사건을 해결해 주시길 간곡히 부탁드립니다. 주민들과 대화를 통해 진실을 밝혀주세요. 매일 밤마다 새로운 희생자가 나오고 있습니다. 당신의 도움이 절실합니다. |\n",
       "| closing | 촌장 올림 |\n",
       "| Key | Value |\n",
       "| --- | --- |\n",
       "| totalTokens | 609 |\n",
       "| promptTokens | 497 |\n",
       "| completionTokens | 112 |\n"
      ],
      "text/plain": [
       "<IPython.core.display.Markdown object>"
      ]
     },
     "metadata": {},
     "output_type": "display_data"
    },
    {
     "name": "stdout",
     "output_type": "stream",
     "text": [
      "<Response [200]>\n",
      "4\n"
     ]
    },
    {
     "data": {
      "text/markdown": [
       "| Key | Value |\n",
       "| --- | --- |\n",
       "| greeting | 존경하는 탐정님께, |\n",
       "| content | 우리 마을에서 전례 없는 살인 사건이 발생하여 크게 불안해하고 있습니다. 평화롭던 마을이 한순간에 어둠에 휩싸였기에 해결이 시급합니다. 부디 이 사건을 해결해 주시길 간절히 부탁드립니다. 주민들과 대화를 통해 진상을 밝혀 주시길 바랍니다. 당신의 능력을 믿고 있습니다. |\n",
       "| closing | 촌장 드림 |\n",
       "| Key | Value |\n",
       "| --- | --- |\n",
       "| totalTokens | 618 |\n",
       "| promptTokens | 497 |\n",
       "| completionTokens | 121 |\n"
      ],
      "text/plain": [
       "<IPython.core.display.Markdown object>"
      ]
     },
     "metadata": {},
     "output_type": "display_data"
    },
    {
     "name": "stdout",
     "output_type": "stream",
     "text": [
      "<Response [200]>\n",
      "5\n"
     ]
    },
    {
     "data": {
      "text/markdown": [
       "| Key | Value |\n",
       "| --- | --- |\n",
       "| greeting | 존경하는 탐정님께, |\n",
       "| content | 우리 마을에서 충격적인 살인 사건이 발생했습니다. 평화로웠던 이곳에 불안감이 감돌고 있습니다. 당신의 명석한 두뇌와 경험을 빌려 이 사건을 해결해 주시길 간절히 바랍니다. 마을 주민들과 대화를 나누며 진실을 밝혀 주십시오. 밤마다 새로운 희생자가 생길 수 있으니 서둘러 주십시오. |\n",
       "| closing | 마을의 촌장 올림 |\n",
       "| Key | Value |\n",
       "| --- | --- |\n",
       "| totalTokens | 629 |\n",
       "| promptTokens | 497 |\n",
       "| completionTokens | 132 |\n"
      ],
      "text/plain": [
       "<IPython.core.display.Markdown object>"
      ]
     },
     "metadata": {},
     "output_type": "display_data"
    },
    {
     "name": "stdout",
     "output_type": "stream",
     "text": [
      "<Response [200]>\n",
      "6\n"
     ]
    },
    {
     "data": {
      "text/markdown": [
       "| Key | Value |\n",
       "| --- | --- |\n",
       "| greeting | 존경하는 탐정님께, |\n",
       "| content | 평화로웠던 우리 마을에 충격적인 살인 사건이 발생하였습니다. 이 사건은 모든 주민들에게 큰 불안감을 주고 있습니다. 저희는 당신의 뛰어난 추리력과 경험에 의지하고자 합니다. 주민들과 대화를 통해 진실을 밝혀주시기를 부탁드립니다. 당신의 도움이 절실히 필요합니다. |\n",
       "| closing | 촌장 드림 |\n",
       "| Key | Value |\n",
       "| --- | --- |\n",
       "| totalTokens | 610 |\n",
       "| promptTokens | 497 |\n",
       "| completionTokens | 113 |\n"
      ],
      "text/plain": [
       "<IPython.core.display.Markdown object>"
      ]
     },
     "metadata": {},
     "output_type": "display_data"
    },
    {
     "name": "stdout",
     "output_type": "stream",
     "text": [
      "<Response [200]>\n",
      "7\n"
     ]
    },
    {
     "data": {
      "text/markdown": [
       "| Key | Value |\n",
       "| --- | --- |\n",
       "| greeting | 존경하는 탐정님께, |\n",
       "| content | 우리 마을에서 처음으로 살인 사건이 발생했습니다. 평화롭던 우리 마을은 큰 충격에 빠졌습니다. 주민들은 불안에 떨고 있으며 상황은 점점 악화되고 있습니다. 당신의 명성에 의지하여 이 사건을 해결해 주시길 부탁드립니다. 마을의 안전을 되찾아 주시길 간절히 바랍니다. |\n",
       "| closing | 감사합니다, 촌장 올림. |\n",
       "| Key | Value |\n",
       "| --- | --- |\n",
       "| totalTokens | 620 |\n",
       "| promptTokens | 497 |\n",
       "| completionTokens | 123 |\n"
      ],
      "text/plain": [
       "<IPython.core.display.Markdown object>"
      ]
     },
     "metadata": {},
     "output_type": "display_data"
    },
    {
     "name": "stdout",
     "output_type": "stream",
     "text": [
      "<Response [200]>\n",
      "8\n"
     ]
    },
    {
     "data": {
      "text/markdown": [
       "| Key | Value |\n",
       "| --- | --- |\n",
       "| greeting | 존경하는 탐정님께, |\n",
       "| content | 우리 마을에서 충격적인 살인 사건이 발생하였습니다. 평화롭던 마을이 큰 혼란에 빠졌습니다. 주민들은 모두 두려움에 떨고 있습니다. 탐정님의 뛰어난 능력으로 이 사건을 해결해주실 수 있기를 간절히 바랍니다. |\n",
       "| closing | 마을 촌장 드림 |\n",
       "| Key | Value |\n",
       "| --- | --- |\n",
       "| totalTokens | 601 |\n",
       "| promptTokens | 497 |\n",
       "| completionTokens | 104 |\n"
      ],
      "text/plain": [
       "<IPython.core.display.Markdown object>"
      ]
     },
     "metadata": {},
     "output_type": "display_data"
    },
    {
     "name": "stdout",
     "output_type": "stream",
     "text": [
      "<Response [200]>\n",
      "9\n"
     ]
    },
    {
     "data": {
      "text/markdown": [
       "| Key | Value |\n",
       "| --- | --- |\n",
       "| greeting | 존경하는 탐정님께, |\n",
       "| content | 우리 마을에서 충격적인 살인 사건이 발생하여 모두가 불안해하고 있습니다. 평화롭던 마을이 혼란에 빠졌습니다. 당신의 뛰어난 능력으로 이 사건을 해결해 주시길 간절히 바랍니다. 마을 주민들과 대화를 통해 진실을 밝혀주시길 부탁드립니다. |\n",
       "| closing | 감사합니다. 촌장 드림. |\n",
       "| Key | Value |\n",
       "| --- | --- |\n",
       "| totalTokens | 610 |\n",
       "| promptTokens | 497 |\n",
       "| completionTokens | 113 |\n"
      ],
      "text/plain": [
       "<IPython.core.display.Markdown object>"
      ]
     },
     "metadata": {},
     "output_type": "display_data"
    },
    {
     "data": {
      "text/markdown": [
       "| Key | Value |\n",
       "| --- | --- |\n",
       "| API name | /api/scenario/generate_intro |\n",
       "| cnt | 10 |\n",
       "| promptTokens  | 497 |\n",
       "| min completionTokens  | 104 |\n",
       "| max completionTokens  | 132 |\n",
       "| avg completionTokens  | 117.7 |\n",
       "| avg totalTokens | 614.7 |\n",
       "| min executionTime | 3.223 |\n",
       "| max executionTime | 6.184 |\n",
       "| avg executionTime | 4.236 |\n"
      ],
      "text/plain": [
       "<IPython.core.display.Markdown object>"
      ]
     },
     "metadata": {},
     "output_type": "display_data"
    }
   ],
   "source": [
    "data = {\n",
    "  \"gameNo\": 0,\n",
    "  \"secretKey\": \"mafia\",\n",
    "  \"characters\": [\n",
    "    \"string\"\n",
    "  ]\n",
    "}\n",
    "\n",
    "\n",
    "api_name = \"/api/scenario/generate_intro\"\n",
    "url = base_url + api_name\n",
    "\n",
    "cnt = 10\n",
    "\n",
    "cal_result_dict = API_calculate(data, url, cnt)\n",
    "\n",
    "# print(json.dumps(cal_result_dict, indent=4, ensure_ascii=False))\n",
    "\n",
    "result = make_result(api_name, cnt, cal_result_dict)\n",
    "\n",
    "markdown_table = dict_to_markdown_table(result)\n",
    "display(Markdown(markdown_table))"
   ]
  },
  {
   "cell_type": "code",
   "execution_count": 24,
   "metadata": {},
   "outputs": [
    {
     "data": {
      "text/markdown": [
       "| Key | Value |\n",
       "| --- | --- |\n",
       "| API name | /api/scenario/generate_intro |\n",
       "| cnt | 10 |\n",
       "| promptTokens  | 497 |\n",
       "| min completionTokens  | 104 |\n",
       "| max completionTokens  | 132 |\n",
       "| avg completionTokens  | 117.7 |\n",
       "| avg totalTokens | 614.7 |\n",
       "| min executionTime | 3.223 |\n",
       "| max executionTime | 6.184 |\n",
       "| avg executionTime | 4.236 |\n"
      ],
      "text/plain": [
       "<IPython.core.display.Markdown object>"
      ]
     },
     "metadata": {},
     "output_type": "display_data"
    }
   ],
   "source": [
    "result = make_result(api_name, cnt, cal_result_dict)\n",
    "\n",
    "markdown_table = dict_to_markdown_table(result)\n",
    "display(Markdown(markdown_table))"
   ]
  },
  {
   "cell_type": "markdown",
   "metadata": {},
   "source": [
    "### /api/scenario/generate_victim"
   ]
  },
  {
   "cell_type": "code",
   "execution_count": 28,
   "metadata": {},
   "outputs": [
    {
     "name": "stdout",
     "output_type": "stream",
     "text": [
      "<Response [200]>\n",
      "0\n"
     ]
    },
    {
     "data": {
      "text/markdown": [
       "| Key | Value |\n",
       "| --- | --- |\n",
       "| victim | 니콜라스 |\n",
       "| crimeScene | UnderPig |\n",
       "| method | 칼 |\n",
       "| witness | 짠짠영 |\n",
       "| eyewitnessInformation | 짠짠영은 돼지 우리 근처에서 레오가 니콜라스를 살해하는 것을 목격함. |\n",
       "| dailySummary | day 0 - 니콜라스가 돼지 우리에서 칼에 의해 살해됨. |\n",
       "| alibis | [{'name': '이사벨', 'alibi': '이사벨은 사건 당시 마을 광장에서 주민들과 이야기를 나누고 있었음.', 'gameNpcNo': 21}, {'name': '짠짠영', 'alibi': '짠짠영은 춘식이와 관련된 새로운 물건을 찾기 위해 마을 상점에 있었음.', 'gameNpcNo': 21}] |\n",
       "| Key | Value |\n",
       "| --- | --- |\n",
       "| totalTokens | 1080 |\n",
       "| promptTokens | 913 |\n",
       "| completionTokens | 167 |\n"
      ],
      "text/plain": [
       "<IPython.core.display.Markdown object>"
      ]
     },
     "metadata": {},
     "output_type": "display_data"
    },
    {
     "name": "stdout",
     "output_type": "stream",
     "text": [
      "<Response [200]>\n",
      "1\n"
     ]
    },
    {
     "data": {
      "text/markdown": [
       "| Key | Value |\n",
       "| --- | --- |\n",
       "| victim | 이사벨 |\n",
       "| crimeScene | LeftTree |\n",
       "| method | 칼 |\n",
       "| witness | 니콜라스 |\n",
       "| eyewitnessInformation | 니콜라스는 밤중에 서쪽 마을 나무 근처에서 뭔가 이상한 소리를 들었지만, 너무 어두워서 잘 보이지 않았다고 합니다. 그가 본 것은 검은 그림자뿐이었으며, 그 후 이사벨이 칼에 찔려 죽어 있는 것을 발견했습니다. |\n",
       "| dailySummary | day 0 - 서쪽 마을 나무 밑에서 이사벨이 칼에 찔려 살해되었습니다. |\n",
       "| alibis | [{'name': '니콜라스', 'alibi': '니콜라스는 밤에 자신의 집에서 혼자 책을 읽고 있었다고 주장합니다.', 'gameNpcNo': 21}, {'name': '짠짠영', 'alibi': '짠짠영은 춘식이 관련 물품을 정리하며 밤을 보냈다고 말합니다.', 'gameNpcNo': 21}] |\n",
       "| Key | Value |\n",
       "| --- | --- |\n",
       "| totalTokens | 1136 |\n",
       "| promptTokens | 921 |\n",
       "| completionTokens | 215 |\n"
      ],
      "text/plain": [
       "<IPython.core.display.Markdown object>"
      ]
     },
     "metadata": {},
     "output_type": "display_data"
    },
    {
     "name": "stdout",
     "output_type": "stream",
     "text": [
      "<Response [200]>\n",
      "2\n"
     ]
    },
    {
     "data": {
      "text/markdown": [
       "| Key | Value |\n",
       "| --- | --- |\n",
       "| victim | 이사벨 |\n",
       "| crimeScene | Cafe |\n",
       "| method | 칼 |\n",
       "| witness | 니콜라스 |\n",
       "| eyewitnessInformation | 니콜라스는 사건 당시 카페 근처에서 수상한 인물 레오가 급히 떠나는 것을 목격함. |\n",
       "| dailySummary | day 0 - 이사벨이 카페에서 칼에 찔려 살해됨. |\n",
       "| alibis | [{'name': '니콜라스', 'alibi': '니콜라스는 사건 당시 카페 근처에서 관찰을 하고 있었음.', 'gameNpcNo': 21}, {'name': '짠짠영', 'alibi': '짠짠영은 사건 당시 춘식이 관련 물건을 수집하러 마을 시장에 있었음.', 'gameNpcNo': 21}] |\n",
       "| Key | Value |\n",
       "| --- | --- |\n",
       "| totalTokens | 1081 |\n",
       "| promptTokens | 915 |\n",
       "| completionTokens | 166 |\n"
      ],
      "text/plain": [
       "<IPython.core.display.Markdown object>"
      ]
     },
     "metadata": {},
     "output_type": "display_data"
    },
    {
     "name": "stdout",
     "output_type": "stream",
     "text": [
      "<Response [200]>\n",
      "3\n"
     ]
    },
    {
     "data": {
      "text/markdown": [
       "| Key | Value |\n",
       "| --- | --- |\n",
       "| victim | 이사벨 |\n",
       "| crimeScene | RealEstateAgancy |\n",
       "| method | 칼 |\n",
       "| witness | 짠짠영 |\n",
       "| eyewitnessInformation | 짠짠영은 사건 당시 부동산 근처에서 춘식이 인형을 보고 있었다고 증언함. |\n",
       "| dailySummary | day 0 - 이사벨이 부동산에서 칼에 의해 살해됨. |\n",
       "| alibis | [{'name': '니콜라스', 'alibi': '니콜라스는 사건 당시 자신의 집에서 옛날 서적을 읽고 있었음.', 'gameNpcNo': 21}, {'name': '짠짠영', 'alibi': '짠짠영은 사건 당시 부동산 근처에서 춘식이 인형을 보고 있었음.', 'gameNpcNo': 21}] |\n",
       "| Key | Value |\n",
       "| --- | --- |\n",
       "| totalTokens | 1081 |\n",
       "| promptTokens | 917 |\n",
       "| completionTokens | 164 |\n"
      ],
      "text/plain": [
       "<IPython.core.display.Markdown object>"
      ]
     },
     "metadata": {},
     "output_type": "display_data"
    },
    {
     "name": "stdout",
     "output_type": "stream",
     "text": [
      "<Response [200]>\n",
      "4\n"
     ]
    },
    {
     "data": {
      "text/markdown": [
       "| Key | Value |\n",
       "| --- | --- |\n",
       "| victim | 짠짠영 |\n",
       "| crimeScene | LeftRock |\n",
       "| method | 칼 |\n",
       "| witness | 이사벨 |\n",
       "| eyewitnessInformation | 이사벨은 사건 당일 서쪽 바다 근처에서 레오가 칼을 들고 있는 것을 보았다고 증언함. 그녀는 레오가 평소와 다른 긴장된 표정을 지니고 있었다고 함. |\n",
       "| dailySummary | day 0 - 짠짠영이 서쪽 바다의 거대한 돌 근처에서 칼에 의해 살해됨. |\n",
       "| alibis | [{'name': '이사벨', 'alibi': '사건 당시 서쪽 바다 근처에서 산책하고 있었음.', 'gameNpcNo': 21}, {'name': '니콜라스', 'alibi': '사건 당시 집에서 책을 읽고 있었다고 주장함.', 'gameNpcNo': 21}] |\n",
       "| Key | Value |\n",
       "| --- | --- |\n",
       "| totalTokens | 1081 |\n",
       "| promptTokens | 902 |\n",
       "| completionTokens | 179 |\n"
      ],
      "text/plain": [
       "<IPython.core.display.Markdown object>"
      ]
     },
     "metadata": {},
     "output_type": "display_data"
    },
    {
     "name": "stdout",
     "output_type": "stream",
     "text": [
      "<Response [200]>\n",
      "5\n"
     ]
    },
    {
     "data": {
      "text/markdown": [
       "| Key | Value |\n",
       "| --- | --- |\n",
       "| victim | 니콜라스 |\n",
       "| crimeScene | LeftRock |\n",
       "| method | 칼 |\n",
       "| witness | 짠짠영 |\n",
       "| eyewitnessInformation | 짠짠영은 서쪽 바다의 거대한 돌 근처에서 이상한 소리를 들었다고 합니다. 그는 그 근처에서 누군가가 급히 떠나는 모습을 보았지만, 얼굴은 보지 못했다고 합니다. |\n",
       "| dailySummary | day 0 - 니콜라스가 서쪽 바다의 거대한 돌 근처에서 칼에 의해 살해되었음. |\n",
       "| alibis | [{'name': '이사벨', 'alibi': '이사벨은 사건 당시 마을 광장에서 춘식이 인형을 가지고 놀고 있었음. 많은 주민들이 그 모습을 보았다고 증언함.', 'gameNpcNo': 21}, {'name': '짠짠영', 'alibi': '짠짠영은 사건 당시 서쪽 바다 근처에서 춘식이와 관련된 물건을 찾고 있었음. 살인 사건을 목격한 후 바로 경찰에 신고함.', 'gameNpcNo': 21}] |\n",
       "| Key | Value |\n",
       "| --- | --- |\n",
       "| totalTokens | 1148 |\n",
       "| promptTokens | 918 |\n",
       "| completionTokens | 230 |\n"
      ],
      "text/plain": [
       "<IPython.core.display.Markdown object>"
      ]
     },
     "metadata": {},
     "output_type": "display_data"
    },
    {
     "name": "stdout",
     "output_type": "stream",
     "text": [
      "<Response [200]>\n",
      "6\n"
     ]
    },
    {
     "data": {
      "text/markdown": [
       "| Key | Value |\n",
       "| --- | --- |\n",
       "| victim | 이사벨 |\n",
       "| crimeScene | Cafe |\n",
       "| method | 칼 |\n",
       "| witness | 니콜라스 |\n",
       "| eyewitnessInformation | 니콜라스는 카페 근처에서 레오와 이사벨이 다투는 것을 목격함. 레오는 매우 화가 나 보였고, 이사벨은 두려워하는 듯 보였음. |\n",
       "| dailySummary | day 0 - 이사벨이 카페에서 칼에 찔려 살해됨. |\n",
       "| alibis | [{'name': '니콜라스', 'alibi': '카페 근처에서 사건을 목격함. 레오와 이사벨이 다투는 것을 봄.', 'gameNpcNo': 21}, {'name': '짠짠영', 'alibi': '춘식이와 관련된 물건들을 모으기 위해 집에 있었음.', 'gameNpcNo': 21}] |\n",
       "| Key | Value |\n",
       "| --- | --- |\n",
       "| totalTokens | 1097 |\n",
       "| promptTokens | 915 |\n",
       "| completionTokens | 182 |\n"
      ],
      "text/plain": [
       "<IPython.core.display.Markdown object>"
      ]
     },
     "metadata": {},
     "output_type": "display_data"
    },
    {
     "name": "stdout",
     "output_type": "stream",
     "text": [
      "<Response [200]>\n",
      "7\n"
     ]
    },
    {
     "data": {
      "text/markdown": [
       "| Key | Value |\n",
       "| --- | --- |\n",
       "| victim | 니콜라스 |\n",
       "| crimeScene | Flower |\n",
       "| method | 칼 |\n",
       "| witness | 이사벨 |\n",
       "| eyewitnessInformation | 이사벨은 꽃 가게 근처에서 니콜라스와 레오가 말다툼하는 것을 목격했으며, 레오가 칼을 들고 있는 것을 보았다고 증언함. |\n",
       "| dailySummary | day 0 - 니콜라스가 꽃 가게에서 칼에 찔려 살해됨. |\n",
       "| alibis | [{'name': '이사벨', 'alibi': '이사벨은 사건 당일 오후 내내 꽃 가게 근처에서 고양이를 돌보며 시간을 보냈다고 주장함.', 'gameNpcNo': 21}, {'name': '짠짠영', 'alibi': '짠짠영은 사건 당일 춘식이 관련 물품을 사고 있었으며, 상점 주인이 이를 증명함.', 'gameNpcNo': 21}] |\n",
       "| Key | Value |\n",
       "| --- | --- |\n",
       "| totalTokens | 1108 |\n",
       "| promptTokens | 911 |\n",
       "| completionTokens | 197 |\n"
      ],
      "text/plain": [
       "<IPython.core.display.Markdown object>"
      ]
     },
     "metadata": {},
     "output_type": "display_data"
    },
    {
     "name": "stdout",
     "output_type": "stream",
     "text": [
      "<Response [200]>\n",
      "8\n"
     ]
    },
    {
     "data": {
      "text/markdown": [
       "| Key | Value |\n",
       "| --- | --- |\n",
       "| victim | 이사벨 |\n",
       "| crimeScene | Hotel |\n",
       "| method | 칼 |\n",
       "| witness | 니콜라스 |\n",
       "| eyewitnessInformation | 니콜라스는 호텔 근처에서 레오가 수상한 행동을 하는 것을 목격하였음. 그는 레오가 호텔로 들어가는 것을 보았고, 그 후에는 호텔에서 나오는 것을 보지 못했음. |\n",
       "| dailySummary | day 0 - 이사벨은 호텔에서 칼에 의해 살해됨. |\n",
       "| alibis | [{'name': '니콜라스', 'alibi': '니콜라스는 사건 당시 호텔 근처에 있었지만, 레오의 행동을 관찰하느라 다른 사람들과는 접촉하지 않았음.', 'gameNpcNo': 21}, {'name': '짠짠영', 'alibi': '짠짠영은 사건 당시 춘식이 관련 물품을 정리하고 있었음. 그의 집에서 춘식이와 관련된 많은 물품들이 발견됨.', 'gameNpcNo': 21}] |\n",
       "| Key | Value |\n",
       "| --- | --- |\n",
       "| totalTokens | 1127 |\n",
       "| promptTokens | 914 |\n",
       "| completionTokens | 213 |\n"
      ],
      "text/plain": [
       "<IPython.core.display.Markdown object>"
      ]
     },
     "metadata": {},
     "output_type": "display_data"
    },
    {
     "name": "stdout",
     "output_type": "stream",
     "text": [
      "<Response [200]>\n",
      "9\n"
     ]
    },
    {
     "data": {
      "text/markdown": [
       "| Key | Value |\n",
       "| --- | --- |\n",
       "| victim | 짠짠영 |\n",
       "| crimeScene | UnderPig |\n",
       "| method | 칼 |\n",
       "| witness | 이사벨 |\n",
       "| eyewitnessInformation | 이사벨은 돼지 우리 근처에서 누군가가 빠르게 도망가는 것을 목격했으며, 그 사람은 레오처럼 보였다고 말함. |\n",
       "| dailySummary | day 0 - 짠짠영이 돼지 우리에서 칼에 찔려 살해됨. |\n",
       "| alibis | [{'name': '이사벨', 'alibi': '이사벨은 사건 당시 돼지 우리 근처에서 고양이들에게 먹이를 주고 있었음.', 'gameNpcNo': 21}, {'name': '니콜라스', 'alibi': '니콜라스는 사건 당시 자신의 집에서 책을 읽고 있었으며, 여러 주민들이 그를 봤다고 증언함.', 'gameNpcNo': 21}] |\n",
       "| Key | Value |\n",
       "| --- | --- |\n",
       "| totalTokens | 1081 |\n",
       "| promptTokens | 897 |\n",
       "| completionTokens | 184 |\n"
      ],
      "text/plain": [
       "<IPython.core.display.Markdown object>"
      ]
     },
     "metadata": {},
     "output_type": "display_data"
    },
    {
     "data": {
      "text/markdown": [
       "| Key | Value |\n",
       "| --- | --- |\n",
       "| API name | /api/scenario/generate_victim |\n",
       "| cnt | 10 |\n",
       "| promptTokens  | 897 |\n",
       "| min completionTokens  | 164 |\n",
       "| max completionTokens  | 230 |\n",
       "| avg completionTokens  | 189.7 |\n",
       "| avg totalTokens | 1102.0 |\n",
       "| min executionTime | 3.254 |\n",
       "| max executionTime | 5.421 |\n",
       "| avg executionTime | 4.518 |\n"
      ],
      "text/plain": [
       "<IPython.core.display.Markdown object>"
      ]
     },
     "metadata": {},
     "output_type": "display_data"
    }
   ],
   "source": [
    "data = {\n",
    "  \"gameNo\": 0,\n",
    "  \"secretKey\": \"mafia\",\n",
    "  \"day\": 0,\n",
    "  \"murderer\": \"레오\",\n",
    "  \"livingCharacters\": [\n",
    "    {\n",
    "\t    \"name\": \"레오\", \n",
    "\t    \"gameNpcNo\": 21 \n",
    "\t}, \n",
    "\t{\n",
    "\t\t\"name\":\"이사벨\", \n",
    "\t\t\"gameNpcNo\": 21 \n",
    "\t},\n",
    "\t{\n",
    "\t\t\"name\":\"니콜라스\", \n",
    "\t\t\"gameNpcNo\": 21 \n",
    "\t},\n",
    "\t{\n",
    "\t\t\"name\":\"짠짠영\", \n",
    "\t\t\"gameNpcNo\": 21 \n",
    "\t}\n",
    "  ],\n",
    "  \"previousStory\": \"string\"\n",
    "}\n",
    "\n",
    "\n",
    "api_name = \"/api/scenario/generate_victim\"\n",
    "url = base_url + api_name\n",
    "\n",
    "cnt = 10\n",
    "\n",
    "cal_result_dict = API_calculate(data, url, cnt)\n",
    "\n",
    "# print(json.dumps(cal_result_dict, indent=4, ensure_ascii=False))\n",
    "\n",
    "result = make_result(api_name, cnt, cal_result_dict)\n",
    "\n",
    "markdown_table = dict_to_markdown_table(result)\n",
    "display(Markdown(markdown_table))"
   ]
  },
  {
   "cell_type": "markdown",
   "metadata": {},
   "source": [
    "### /api/scenario/generate_final_words"
   ]
  },
  {
   "cell_type": "code",
   "execution_count": 31,
   "metadata": {},
   "outputs": [
    {
     "name": "stdout",
     "output_type": "stream",
     "text": [
      "<Response [200]>\n",
      "0\n"
     ]
    },
    {
     "data": {
      "text/markdown": [
       "| Key | Value |\n",
       "| --- | --- |\n",
       "| finalWords | 이겼다고 생각했겠지, 탐정? 하지만 어둠의 조직은 이렇게 쉽게 물러나지 않아. |\n",
       "| Key | Value |\n",
       "| --- | --- |\n",
       "| totalTokens | 606 |\n",
       "| promptTokens | 568 |\n",
       "| completionTokens | 38 |\n"
      ],
      "text/plain": [
       "<IPython.core.display.Markdown object>"
      ]
     },
     "metadata": {},
     "output_type": "display_data"
    },
    {
     "name": "stdout",
     "output_type": "stream",
     "text": [
      "<Response [200]>\n",
      "1\n"
     ]
    },
    {
     "data": {
      "text/markdown": [
       "| Key | Value |\n",
       "| --- | --- |\n",
       "| finalWords | 이겼군. 하지만 내 조직은 멈추지 않을 것이다. 당신이 막을 수 있을까? |\n",
       "| Key | Value |\n",
       "| --- | --- |\n",
       "| totalTokens | 603 |\n",
       "| promptTokens | 568 |\n",
       "| completionTokens | 35 |\n"
      ],
      "text/plain": [
       "<IPython.core.display.Markdown object>"
      ]
     },
     "metadata": {},
     "output_type": "display_data"
    },
    {
     "name": "stdout",
     "output_type": "stream",
     "text": [
      "<Response [200]>\n",
      "2\n"
     ]
    },
    {
     "data": {
      "text/markdown": [
       "| Key | Value |\n",
       "| --- | --- |\n",
       "| finalWords | 이겼다고 생각하나, 어둠의 조직은 쉽게 물러나지 않을 것이다. 이사벨의 패배는 시작에 불과해. |\n",
       "| Key | Value |\n",
       "| --- | --- |\n",
       "| totalTokens | 614 |\n",
       "| promptTokens | 568 |\n",
       "| completionTokens | 46 |\n"
      ],
      "text/plain": [
       "<IPython.core.display.Markdown object>"
      ]
     },
     "metadata": {},
     "output_type": "display_data"
    },
    {
     "name": "stdout",
     "output_type": "stream",
     "text": [
      "<Response [200]>\n",
      "3\n"
     ]
    },
    {
     "data": {
      "text/markdown": [
       "| Key | Value |\n",
       "| --- | --- |\n",
       "| finalWords | 이제 끝이군요. 조직의 명령을 따르지 못했네요. 당신이 승리했어요, 탐정. |\n",
       "| Key | Value |\n",
       "| --- | --- |\n",
       "| totalTokens | 609 |\n",
       "| promptTokens | 568 |\n",
       "| completionTokens | 41 |\n"
      ],
      "text/plain": [
       "<IPython.core.display.Markdown object>"
      ]
     },
     "metadata": {},
     "output_type": "display_data"
    },
    {
     "name": "stdout",
     "output_type": "stream",
     "text": [
      "<Response [200]>\n",
      "4\n"
     ]
    },
    {
     "data": {
      "text/markdown": [
       "| Key | Value |\n",
       "| --- | --- |\n",
       "| finalWords | 내가 졌다니 믿을 수 없어... 하지만 조직은 나를 잊지 않을 것이다. |\n",
       "| Key | Value |\n",
       "| --- | --- |\n",
       "| totalTokens | 602 |\n",
       "| promptTokens | 568 |\n",
       "| completionTokens | 34 |\n"
      ],
      "text/plain": [
       "<IPython.core.display.Markdown object>"
      ]
     },
     "metadata": {},
     "output_type": "display_data"
    },
    {
     "name": "stdout",
     "output_type": "stream",
     "text": [
      "<Response [200]>\n",
      "5\n"
     ]
    },
    {
     "data": {
      "text/markdown": [
       "| Key | Value |\n",
       "| --- | --- |\n",
       "| finalWords | 이겨냈군. 하지만 기억해, 나는 단지 조직의 일부분일 뿐이야. 우리의 그림자는 영원히 사라지지 않을 거야. |\n",
       "| Key | Value |\n",
       "| --- | --- |\n",
       "| totalTokens | 615 |\n",
       "| promptTokens | 568 |\n",
       "| completionTokens | 47 |\n"
      ],
      "text/plain": [
       "<IPython.core.display.Markdown object>"
      ]
     },
     "metadata": {},
     "output_type": "display_data"
    },
    {
     "name": "stdout",
     "output_type": "stream",
     "text": [
      "<Response [200]>\n",
      "6\n"
     ]
    },
    {
     "data": {
      "text/markdown": [
       "| Key | Value |\n",
       "| --- | --- |\n",
       "| finalWords | 끝났군요... 하지만 조직은 결코 멈추지 않을 것입니다. |\n",
       "| Key | Value |\n",
       "| --- | --- |\n",
       "| totalTokens | 597 |\n",
       "| promptTokens | 568 |\n",
       "| completionTokens | 29 |\n"
      ],
      "text/plain": [
       "<IPython.core.display.Markdown object>"
      ]
     },
     "metadata": {},
     "output_type": "display_data"
    },
    {
     "name": "stdout",
     "output_type": "stream",
     "text": [
      "<Response [200]>\n",
      "7\n"
     ]
    },
    {
     "data": {
      "text/markdown": [
       "| Key | Value |\n",
       "| --- | --- |\n",
       "| finalWords | 이제 끝이야, 탐정. 내 임무는 실패했지만, 조직은 나를 대신할 자를 보낼 거야. |\n",
       "| Key | Value |\n",
       "| --- | --- |\n",
       "| totalTokens | 610 |\n",
       "| promptTokens | 568 |\n",
       "| completionTokens | 42 |\n"
      ],
      "text/plain": [
       "<IPython.core.display.Markdown object>"
      ]
     },
     "metadata": {},
     "output_type": "display_data"
    },
    {
     "name": "stdout",
     "output_type": "stream",
     "text": [
      "<Response [200]>\n",
      "8\n"
     ]
    },
    {
     "data": {
      "text/markdown": [
       "| Key | Value |\n",
       "| --- | --- |\n",
       "| finalWords | 당신이 이겼군요. 하지만 어둠의 조직은 당신을 그냥 두지 않을 겁니다. |\n",
       "| Key | Value |\n",
       "| --- | --- |\n",
       "| totalTokens | 605 |\n",
       "| promptTokens | 568 |\n",
       "| completionTokens | 37 |\n"
      ],
      "text/plain": [
       "<IPython.core.display.Markdown object>"
      ]
     },
     "metadata": {},
     "output_type": "display_data"
    },
    {
     "name": "stdout",
     "output_type": "stream",
     "text": [
      "<Response [200]>\n",
      "9\n"
     ]
    },
    {
     "data": {
      "text/markdown": [
       "| Key | Value |\n",
       "| --- | --- |\n",
       "| finalWords | 나는 실패했지만, 조직은 나보다 더 강한 자들을 보낼 것이다. 너희는 그들을 막을 수 있을까? |\n",
       "| Key | Value |\n",
       "| --- | --- |\n",
       "| totalTokens | 609 |\n",
       "| promptTokens | 568 |\n",
       "| completionTokens | 41 |\n"
      ],
      "text/plain": [
       "<IPython.core.display.Markdown object>"
      ]
     },
     "metadata": {},
     "output_type": "display_data"
    },
    {
     "data": {
      "text/markdown": [
       "| Key | Value |\n",
       "| --- | --- |\n",
       "| API name | /api/scenario/generate_final_words |\n",
       "| cnt | 10 |\n",
       "| promptTokens  | 568 |\n",
       "| min completionTokens  | 29 |\n",
       "| max completionTokens  | 47 |\n",
       "| avg completionTokens  | 39.0 |\n",
       "| avg totalTokens | 607.0 |\n",
       "| min executionTime | 1.81 |\n",
       "| max executionTime | 2.543 |\n",
       "| avg executionTime | 2.196 |\n"
      ],
      "text/plain": [
       "<IPython.core.display.Markdown object>"
      ]
     },
     "metadata": {},
     "output_type": "display_data"
    }
   ],
   "source": [
    "data = {\n",
    "  \"gameNo\": 0,\n",
    "  \"secretKey\": \"mafia\",\n",
    "  \"gameResult\": \"victory\",\n",
    "  \"murderer\": \"이사벨\",\n",
    "  \"livingCharacters\": [\n",
    "    \"레오\"\n",
    "  ],\n",
    "  \"previousStory\": \"\"\n",
    "}\n",
    "\n",
    "\n",
    "api_name = \"/api/scenario/generate_final_words\"\n",
    "url = base_url + api_name\n",
    "\n",
    "cnt = 10\n",
    "\n",
    "cal_result_dict = API_calculate(data, url, cnt)\n",
    "\n",
    "# print(json.dumps(cal_result_dict, indent=4, ensure_ascii=False))\n",
    "\n",
    "result = make_result(api_name, cnt, cal_result_dict)\n",
    "\n",
    "markdown_table = dict_to_markdown_table(result)\n",
    "display(Markdown(markdown_table))"
   ]
  },
  {
   "cell_type": "markdown",
   "metadata": {},
   "source": [
    "### /api/user/conversation_with_user"
   ]
  },
  {
   "cell_type": "code",
   "execution_count": 33,
   "metadata": {},
   "outputs": [
    {
     "name": "stdout",
     "output_type": "stream",
     "text": [
      "<Response [200]>\n",
      "0\n"
     ]
    },
    {
     "data": {
      "text/markdown": [
       "| Key | Value |\n",
       "| --- | --- |\n",
       "| chatContent | 당신의 이름은 형구로군요. 반가워요! |\n",
       "| Key | Value |\n",
       "| --- | --- |\n",
       "| totalTokens | 694 |\n",
       "| promptTokens | 666 |\n",
       "| completionTokens | 28 |\n"
      ],
      "text/plain": [
       "<IPython.core.display.Markdown object>"
      ]
     },
     "metadata": {},
     "output_type": "display_data"
    },
    {
     "name": "stdout",
     "output_type": "stream",
     "text": [
      "<Response [200]>\n",
      "1\n"
     ]
    },
    {
     "data": {
      "text/markdown": [
       "| Key | Value |\n",
       "| --- | --- |\n",
       "| chatContent | 내 이름은 형구라고 했지. 맞췄네! |\n",
       "| Key | Value |\n",
       "| --- | --- |\n",
       "| totalTokens | 693 |\n",
       "| promptTokens | 666 |\n",
       "| completionTokens | 27 |\n"
      ],
      "text/plain": [
       "<IPython.core.display.Markdown object>"
      ]
     },
     "metadata": {},
     "output_type": "display_data"
    },
    {
     "name": "stdout",
     "output_type": "stream",
     "text": [
      "<Response [200]>\n",
      "2\n"
     ]
    },
    {
     "data": {
      "text/markdown": [
       "| Key | Value |\n",
       "| --- | --- |\n",
       "| chatContent | 형구, 넌 내 이름이 레오라는 것을 기억해야 해! |\n",
       "| Key | Value |\n",
       "| --- | --- |\n",
       "| totalTokens | 694 |\n",
       "| promptTokens | 666 |\n",
       "| completionTokens | 28 |\n"
      ],
      "text/plain": [
       "<IPython.core.display.Markdown object>"
      ]
     },
     "metadata": {},
     "output_type": "display_data"
    },
    {
     "name": "stdout",
     "output_type": "stream",
     "text": [
      "<Response [200]>\n",
      "3\n"
     ]
    },
    {
     "data": {
      "text/markdown": [
       "| Key | Value |\n",
       "| --- | --- |\n",
       "| chatContent | 형구, 내 이름은 레오라고 했잖아~ 기억해줘! |\n",
       "| Key | Value |\n",
       "| --- | --- |\n",
       "| totalTokens | 696 |\n",
       "| promptTokens | 666 |\n",
       "| completionTokens | 30 |\n"
      ],
      "text/plain": [
       "<IPython.core.display.Markdown object>"
      ]
     },
     "metadata": {},
     "output_type": "display_data"
    },
    {
     "name": "stdout",
     "output_type": "stream",
     "text": [
      "<Response [200]>\n",
      "4\n"
     ]
    },
    {
     "data": {
      "text/markdown": [
       "| Key | Value |\n",
       "| --- | --- |\n",
       "| chatContent | 형구, 내 이름은 레오라고 했지. 기억하나? |\n",
       "| Key | Value |\n",
       "| --- | --- |\n",
       "| totalTokens | 694 |\n",
       "| promptTokens | 666 |\n",
       "| completionTokens | 28 |\n"
      ],
      "text/plain": [
       "<IPython.core.display.Markdown object>"
      ]
     },
     "metadata": {},
     "output_type": "display_data"
    },
    {
     "name": "stdout",
     "output_type": "stream",
     "text": [
      "<Response [200]>\n",
      "5\n"
     ]
    },
    {
     "data": {
      "text/markdown": [
       "| Key | Value |\n",
       "| --- | --- |\n",
       "| chatContent | 형구씨, 당신의 이름은 형구라고 들었네. |\n",
       "| Key | Value |\n",
       "| --- | --- |\n",
       "| totalTokens | 691 |\n",
       "| promptTokens | 666 |\n",
       "| completionTokens | 25 |\n"
      ],
      "text/plain": [
       "<IPython.core.display.Markdown object>"
      ]
     },
     "metadata": {},
     "output_type": "display_data"
    },
    {
     "name": "stdout",
     "output_type": "stream",
     "text": [
      "<Response [200]>\n",
      "6\n"
     ]
    },
    {
     "data": {
      "text/markdown": [
       "| Key | Value |\n",
       "| --- | --- |\n",
       "| chatContent | 형구, 내 이름은 레오라고 했잖아. 기억나지 않나? |\n",
       "| Key | Value |\n",
       "| --- | --- |\n",
       "| totalTokens | 696 |\n",
       "| promptTokens | 666 |\n",
       "| completionTokens | 30 |\n"
      ],
      "text/plain": [
       "<IPython.core.display.Markdown object>"
      ]
     },
     "metadata": {},
     "output_type": "display_data"
    },
    {
     "name": "stdout",
     "output_type": "stream",
     "text": [
      "<Response [200]>\n",
      "7\n"
     ]
    },
    {
     "data": {
      "text/markdown": [
       "| Key | Value |\n",
       "| --- | --- |\n",
       "| chatContent | 물론이지, 형구! 너의 이름이야. |\n",
       "| Key | Value |\n",
       "| --- | --- |\n",
       "| totalTokens | 691 |\n",
       "| promptTokens | 666 |\n",
       "| completionTokens | 25 |\n"
      ],
      "text/plain": [
       "<IPython.core.display.Markdown object>"
      ]
     },
     "metadata": {},
     "output_type": "display_data"
    },
    {
     "name": "stdout",
     "output_type": "stream",
     "text": [
      "<Response [200]>\n",
      "8\n"
     ]
    },
    {
     "data": {
      "text/markdown": [
       "| Key | Value |\n",
       "| --- | --- |\n",
       "| chatContent | 형구, 내 이름은 레오야. |\n",
       "| Key | Value |\n",
       "| --- | --- |\n",
       "| totalTokens | 688 |\n",
       "| promptTokens | 666 |\n",
       "| completionTokens | 22 |\n"
      ],
      "text/plain": [
       "<IPython.core.display.Markdown object>"
      ]
     },
     "metadata": {},
     "output_type": "display_data"
    },
    {
     "name": "stdout",
     "output_type": "stream",
     "text": [
      "<Response [200]>\n",
      "9\n"
     ]
    },
    {
     "data": {
      "text/markdown": [
       "| Key | Value |\n",
       "| --- | --- |\n",
       "| chatContent | 당연하지, 형구! 기억력이 대단하군요~ |\n",
       "| Key | Value |\n",
       "| --- | --- |\n",
       "| totalTokens | 694 |\n",
       "| promptTokens | 666 |\n",
       "| completionTokens | 28 |\n"
      ],
      "text/plain": [
       "<IPython.core.display.Markdown object>"
      ]
     },
     "metadata": {},
     "output_type": "display_data"
    },
    {
     "data": {
      "text/markdown": [
       "| Key | Value |\n",
       "| --- | --- |\n",
       "| API name | /api/user/conversation_with_user |\n",
       "| cnt | 10 |\n",
       "| promptTokens  | 666 |\n",
       "| min completionTokens  | 22 |\n",
       "| max completionTokens  | 30 |\n",
       "| avg completionTokens  | 27.1 |\n",
       "| avg totalTokens | 693.1 |\n",
       "| min executionTime | 1.762 |\n",
       "| max executionTime | 2.88 |\n",
       "| avg executionTime | 2.047 |\n"
      ],
      "text/plain": [
       "<IPython.core.display.Markdown object>"
      ]
     },
     "metadata": {},
     "output_type": "display_data"
    }
   ],
   "source": [
    "data = {\n",
    "  \"gameNo\": 0,\n",
    "  \"secretKey\": \"mafia\",\n",
    "  \"sender\": \"형구\",\n",
    "  \"receiver\": {\n",
    "\t  \"name\": \"레오\",\n",
    "\t  \"alibi\": \"지난 밤 마을 잔치에 참여함\"\n",
    "\t  },\n",
    "  \"chatContent\": \"내 이름이 뭔지 알아?\",\n",
    "  \"chatDay\": 0,\n",
    "  \"previousStory\": \"\",\n",
    "  \"previousChatContents\": [\n",
    "    {\n",
    "      \"sender\": \"형구\",\n",
    "      \"receiver\": \"레오\",\n",
    "      \"chatContent\": \"넌 누구야?\",\n",
    "      \"chatDay\": 0\n",
    "    },\n",
    "    {\n",
    "      \"sender\": \"레오\",\n",
    "      \"receiver\": \"형구\",\n",
    "      \"chatContent\": \"안녕하신가, 나는 레오라고 하네. 용기 있게 행동하는 것을 좋아하고, 대답할 땐 마치 노래를 부르듯이 말하네.\",\n",
    "      \"chatDay\": 0\n",
    "    }\n",
    "  ]\n",
    "}\n",
    "\n",
    "\n",
    "api_name = \"/api/user/conversation_with_user\" \n",
    "url = base_url + api_name\n",
    "\n",
    "cnt = 10\n",
    "\n",
    "cal_result_dict = API_calculate(data, url, cnt)\n",
    "\n",
    "# print(json.dumps(cal_result_dict, indent=4, ensure_ascii=False))\n",
    "\n",
    "result = make_result(api_name, cnt, cal_result_dict)\n",
    "\n",
    "markdown_table = dict_to_markdown_table(result)\n",
    "display(Markdown(markdown_table))"
   ]
  },
  {
   "cell_type": "markdown",
   "metadata": {},
   "source": [
    "### /api/user/conversation_between_npcs"
   ]
  },
  {
   "cell_type": "code",
   "execution_count": 55,
   "metadata": {},
   "outputs": [
    {
     "name": "stdout",
     "output_type": "stream",
     "text": [
      "0\n"
     ]
    },
    {
     "data": {
      "text/markdown": [
       "| Key | Value |\n",
       "| --- | --- |\n",
       "| chatContent | [{'sender': '레오', 'receiver': '이사벨', 'chatContent': '이사벨, 너도 어젯밤 잔치에서 니콜라스가 이상하게 구석에 혼자 있던 거 봤지? 노래를 부르듯이 말하자면, 그게 마지막 모습이 될 줄은 몰랐어.'}, {'sender': '이사벨', 'receiver': '레오', 'chatContent': '응, 봤어 냥. 니콜라스가 무언가 걱정하는 것 같더라 냥. 그리고, 네가 잔치에서 늦게 나간 것도 봤어 냥.'}, {'sender': '레오', 'receiver': '이사벨', 'chatContent': '그래, 나도 마음이 불편해서 일찍 자러 갔지. 하지만 너는 어떻게 그렇게 밝을 수 있어? 용기 있게 말하지만, 이런 상황에서도...'}, {'sender': '이사벨', 'receiver': '레오', 'chatContent': '우리 모두 힘을 내야 하니까 냥. 우리 중 누군가가 이 일을 저질렀다는 건 슬프지만, 진실은 밝혀져야 해 냥. 그리고 레오, 네가 일찍 떠난 건 조금 이상해 보여 냥.'}] |\n",
       "| Key | Value |\n",
       "| --- | --- |\n",
       "| totalTokens | 1447 |\n",
       "| promptTokens | 1005 |\n",
       "| completionTokens | 442 |\n"
      ],
      "text/plain": [
       "<IPython.core.display.Markdown object>"
      ]
     },
     "metadata": {},
     "output_type": "display_data"
    },
    {
     "name": "stdout",
     "output_type": "stream",
     "text": [
      "1\n"
     ]
    },
    {
     "data": {
      "text/markdown": [
       "| Key | Value |\n",
       "| --- | --- |\n",
       "| chatContent | [{'sender': '레오', 'receiver': '이사벨', 'chatContent': '이사벨, 너도 어젯밤 잔치에 있었지? 노래를 부르며 춤을 추는 모습, 정말 멋졌어.'}, {'sender': '이사벨', 'receiver': '레오', 'chatContent': '그래, 레오! 즐거웠어, 냥! 하지만, 너도 봤잖아. 니콜라스가 잔치에 안 나타나서 좀 이상했었지, 냥.'}, {'sender': '레오', 'receiver': '이사벨', 'chatContent': '맞아, 니콜라스는 항상 잔치의 중심이었는데... 그런데, 해변에서 발견된 발자국은 본 적 있어?'}, {'sender': '이사벨', 'receiver': '레오', 'chatContent': '아니, 냥. 나는 해변 쪽엔 안 갔어. 하지만 마을 사람들 중 누군가는 봤을지도 몰라, 냥. 잔치 끝나고 몇몇 사람들이 해변으로 갔다던데, 냥.'}] |\n",
       "| Key | Value |\n",
       "| --- | --- |\n",
       "| totalTokens | 1394 |\n",
       "| promptTokens | 1005 |\n",
       "| completionTokens | 389 |\n"
      ],
      "text/plain": [
       "<IPython.core.display.Markdown object>"
      ]
     },
     "metadata": {},
     "output_type": "display_data"
    },
    {
     "name": "stdout",
     "output_type": "stream",
     "text": [
      "2\n"
     ]
    },
    {
     "data": {
      "text/markdown": [
       "| Key | Value |\n",
       "| --- | --- |\n",
       "| chatContent | [{'sender': '레오', 'receiver': '이사벨', 'chatContent': '이사벨, 너도 지난 밤 잔치에 있었지? 모두가 놀란 것 같던데, 냥.'}, {'sender': '이사벨', 'receiver': '레오', 'chatContent': '그래, 레오. 정말 끔찍한 일이야, 냥. 니콜라스가 그렇게 될 줄은 몰랐어, 냥.'}, {'sender': '레오', 'receiver': '이사벨', 'chatContent': '음, 나도 그렇게 생각해. 그런데, 너는 행사가 끝난 뒤에 뭘 했는지 기억나, 냥?'}, {'sender': '이사벨', 'receiver': '레오', 'chatContent': '잘 기억이 안 나는 걸, 냥. 나는 그냥 집에 바로 돌아왔어. 레오는 뭘 했어, 냥?'}, {'sender': '레오', 'receiver': '이사벨', 'chatContent': '난 그 후로 잠시 해변 쪽을 산책했어. 정말 조용하더라고, 냥.'}] |\n",
       "| Key | Value |\n",
       "| --- | --- |\n",
       "| totalTokens | 1402 |\n",
       "| promptTokens | 1005 |\n",
       "| completionTokens | 397 |\n"
      ],
      "text/plain": [
       "<IPython.core.display.Markdown object>"
      ]
     },
     "metadata": {},
     "output_type": "display_data"
    },
    {
     "name": "stdout",
     "output_type": "stream",
     "text": [
      "3\n"
     ]
    },
    {
     "data": {
      "text/markdown": [
       "| Key | Value |\n",
       "| --- | --- |\n",
       "| chatContent | [{'sender': '레오', 'receiver': '이사벨', 'chatContent': '이사벨, 니콜라스가 해변에서 살해당한 걸 들었어. 지난 밤 마을 잔치에 우리 모두 있었잖아. 누군가 거짓말을 하고 있는 거야.'}, {'sender': '이사벨', 'receiver': '레오', 'chatContent': '맞아요, 레오. 다들 잔치에 있었다고 생각했는데, 누구 하나가 잠시 자리를 비웠을 수도 있어요냥.'}, {'sender': '레오', 'receiver': '이사벨', 'chatContent': '그래. 나는 누구도 의심하고 싶지 않아. 하지만, 이런 사건을 해결하려면 냉정해야 해. 네가 본 게 뭐든, 들은 게 뭐든 말해줘.'}, {'sender': '이사벨', 'receiver': '레오', 'chatContent': '음, 난 잔치에서 톰이 이상하게 구석에 혼자 서있는 걸 봤어요. 모두가 춤을 추고 있을 때 말이죠냥. 하지만 이게 무슨 의미가 있는지는 모르겠어요냥.'}] |\n",
       "| Key | Value |\n",
       "| --- | --- |\n",
       "| totalTokens | 1420 |\n",
       "| promptTokens | 1005 |\n",
       "| completionTokens | 415 |\n"
      ],
      "text/plain": [
       "<IPython.core.display.Markdown object>"
      ]
     },
     "metadata": {},
     "output_type": "display_data"
    },
    {
     "name": "stdout",
     "output_type": "stream",
     "text": [
      "4\n"
     ]
    },
    {
     "data": {
      "text/markdown": [
       "| Key | Value |\n",
       "| --- | --- |\n",
       "| chatContent | [{'sender': '레오', 'receiver': '이사벨', 'chatContent': '이사벨, 너도 어젯밤 잔치에 있었잖아, 냥. 누군가 니콜라스에게 가는 걸 보지 않았니?'}, {'sender': '이사벨', 'receiver': '레오', 'chatContent': '오, 레오! 나는 아무것도 못 봤어, 냥. 하지만 잔치가 끝나고 나서, 미카엘이 뭔가 급하게 해변 쪽으로 가는 것 같았어, 냥.'}, {'sender': '레오', 'receiver': '이사벨', 'chatContent': '미카엘, 그 사람이야? 하지만 그는 항상 조용하고 차분한데, 냥... 의심스럽군.'}, {'sender': '이사벨', 'receiver': '레오', 'chatContent': '그렇긴 하지만, 어젯밤은 뭔가 달랐던 것 같아, 냥. 누군가를 피하려는 것처럼 보였거든, 냥. 하지만 누가 그런 일을 할 수 있을까, 냥?'}] |\n",
       "| Key | Value |\n",
       "| --- | --- |\n",
       "| totalTokens | 1397 |\n",
       "| promptTokens | 1005 |\n",
       "| completionTokens | 392 |\n"
      ],
      "text/plain": [
       "<IPython.core.display.Markdown object>"
      ]
     },
     "metadata": {},
     "output_type": "display_data"
    },
    {
     "name": "stdout",
     "output_type": "stream",
     "text": [
      "5\n"
     ]
    },
    {
     "data": {
      "text/markdown": [
       "| Key | Value |\n",
       "| --- | --- |\n",
       "| chatContent | [{'sender': '레오', 'receiver': '이사벨', 'chatContent': \"이사벨, 너도 어제 잔치에 있었지? '냥' 이런 일이 일어날 줄 누가 알았겠어...\"}, {'sender': '이사벨', 'receiver': '레오', 'chatContent': '그치, 레오! 나도 너무 놀랐어냥. 니콜라스가 그렇게 될 줄은 상상도 못 했어냥.'}, {'sender': '레오', 'receiver': '이사벨', 'chatContent': '혹시, 잔치에서 누군가 수상한 행동을 한 사람 없었나? 너는 늘 밝은 눈을 하고 있으니까 뭐든 잘 보일 거야.'}, {'sender': '이사벨', 'receiver': '레오', 'chatContent': '음... 잘 모르겠어냥. 하지만, 마리가 잔치 끝나기 전에 일찍 떠난 것 같더라냥. 왜 그랬는지는 모르겠지만, 이상하긴 했어냥.'}] |\n",
       "| Key | Value |\n",
       "| --- | --- |\n",
       "| totalTokens | 1375 |\n",
       "| promptTokens | 1005 |\n",
       "| completionTokens | 370 |\n"
      ],
      "text/plain": [
       "<IPython.core.display.Markdown object>"
      ]
     },
     "metadata": {},
     "output_type": "display_data"
    },
    {
     "name": "stdout",
     "output_type": "stream",
     "text": [
      "6\n"
     ]
    },
    {
     "data": {
      "text/markdown": [
       "| Key | Value |\n",
       "| --- | --- |\n",
       "| chatContent | [{'sender': '레오', 'receiver': '이사벨', 'chatContent': '너도 니콜라스가 살해된 거 들었어? 노래하듯이 말하지만, 이건 정말 충격적인 일이야.'}, {'sender': '이사벨', 'receiver': '레오', 'chatContent': '그럼, 레오. 나도 그 소식에 마음이 많이 아프다냥. 평화로운 마을에서 이런 일이 일어날 줄은 몰랐어냥.'}, {'sender': '레오', 'receiver': '이사벨', 'chatContent': '잔치에서 본 사람들 중에 범인이 있다고 생각해? 누군가는 수상한 행동을 했을지도 몰라.'}, {'sender': '이사벨', 'receiver': '레오', 'chatContent': '음, 잔치 때 마틴이 조금 이상했어냥. 평소와 달리 조용하고 불안해 보였다냥. 하지만 그게 무슨 의미인지는 모르겠다냥.'}] |\n",
       "| Key | Value |\n",
       "| --- | --- |\n",
       "| totalTokens | 1367 |\n",
       "| promptTokens | 1005 |\n",
       "| completionTokens | 362 |\n"
      ],
      "text/plain": [
       "<IPython.core.display.Markdown object>"
      ]
     },
     "metadata": {},
     "output_type": "display_data"
    },
    {
     "name": "stdout",
     "output_type": "stream",
     "text": [
      "7\n"
     ]
    },
    {
     "data": {
      "text/markdown": [
       "| Key | Value |\n",
       "| --- | --- |\n",
       "| chatContent | [{'sender': '레오', 'receiver': '이사벨', 'chatContent': '이사벨, 너도 어제 잔치에서 노래를 들었어? 나는 마치 선율이 우리를 하나로 모으는 것만 같았단다.'}, {'sender': '이사벨', 'receiver': '레오', 'chatContent': '그렇다냥! 모두가 즐거워 보였어냥. 하지만, 니콜라스가 빠져서 조금 이상했지 냥.'}, {'sender': '레오', 'receiver': '이사벨', 'chatContent': '맞아, 그 날 니콜라스가 보이지 않았어. 어쩌면 그게 우리가 놓친 실마리일지도 모르지.'}, {'sender': '이사벨', 'receiver': '레오', 'chatContent': '그렇게 생각하지 마냥. 니콜라스는 혼자 있는 시간이 필요했을 거야냥. 우리가 할 수 있는 건, 그의 마지막을 추억하는 것뿐이야냥.'}] |\n",
       "| Key | Value |\n",
       "| --- | --- |\n",
       "| totalTokens | 1370 |\n",
       "| promptTokens | 1005 |\n",
       "| completionTokens | 365 |\n"
      ],
      "text/plain": [
       "<IPython.core.display.Markdown object>"
      ]
     },
     "metadata": {},
     "output_type": "display_data"
    },
    {
     "name": "stdout",
     "output_type": "stream",
     "text": [
      "8\n"
     ]
    },
    {
     "data": {
      "text/markdown": [
       "| Key | Value |\n",
       "| --- | --- |\n",
       "| chatContent | [{'sender': '레오', 'receiver': '이사벨', 'chatContent': '이사벨, 너도 어제 잔치에 있었잖아. 누군가 니콜라스를 해변에서 보지 않았을까?'}, {'sender': '이사벨', 'receiver': '레오', 'chatContent': '음, 나는 그런 건 못 봤어요, 냥. 하지만 해변 쪽에는 마리오가 자주 가는 것 같더라고요, 냥.'}, {'sender': '레오', 'receiver': '이사벨', 'chatContent': '마리오가? 그는 항상 수상쩍었어. 어쩌면 그가 니콜라스를 노렸을 수도 있겠군.'}, {'sender': '이사벨', 'receiver': '레오', 'chatContent': '하지만 마리오도 어제 잔치에 있었어요, 냥. 저와 함께 춤을 추기도 했고요, 냥. 그 시간에 니콜라스를 해할 수는 없었을 거예요, 냥.'}] |\n",
       "| Key | Value |\n",
       "| --- | --- |\n",
       "| totalTokens | 1362 |\n",
       "| promptTokens | 1005 |\n",
       "| completionTokens | 357 |\n"
      ],
      "text/plain": [
       "<IPython.core.display.Markdown object>"
      ]
     },
     "metadata": {},
     "output_type": "display_data"
    },
    {
     "name": "stdout",
     "output_type": "stream",
     "text": [
      "9\n"
     ]
    },
    {
     "data": {
      "text/markdown": [
       "| Key | Value |\n",
       "| --- | --- |\n",
       "| chatContent | [{'sender': '레오', 'receiver': '이사벨', 'chatContent': '이사벨, 니콜라스가 해변에서 발견됐다며? 정말 충격적이야. 너는 누구를 의심하고 있냐?'}, {'sender': '이사벨', 'receiver': '레오', 'chatContent': '음, 정말 모르겠어요, 레오. 모두가 마을 잔치에 있었으니까요. 누군가가 몰래 나갔을 수도 있겠죠, 냥?'}, {'sender': '레오', 'receiver': '이사벨', 'chatContent': '그렇지. 잔치에선 너의 노래가 정말 인상적이었어. 혹시 다른 이상한 일은 눈치채지 못했어?'}, {'sender': '이사벨', 'receiver': '레오', 'chatContent': '아무래도 마을 서쪽 숲 쪽에서 이상한 소리가 들렸던 것 같아요. 누군가가 서둘러 가는 발걸음 소리였을까요, 냥?'}] |\n",
       "| Key | Value |\n",
       "| --- | --- |\n",
       "| totalTokens | 1377 |\n",
       "| promptTokens | 1005 |\n",
       "| completionTokens | 372 |\n"
      ],
      "text/plain": [
       "<IPython.core.display.Markdown object>"
      ]
     },
     "metadata": {},
     "output_type": "display_data"
    },
    {
     "data": {
      "text/markdown": [
       "| Key | Value |\n",
       "| --- | --- |\n",
       "| API name | /api/user/conversation_between_npcs |\n",
       "| cnt | 10 |\n",
       "| promptTokens  | 1005 |\n",
       "| min completionTokens  | 357 |\n",
       "| max completionTokens  | 442 |\n",
       "| avg completionTokens  | 386.1 |\n",
       "| avg totalTokens | 1391.1 |\n",
       "| min executionTime | 12.682 |\n",
       "| max executionTime | 38.412 |\n",
       "| avg executionTime | 21.902 |\n"
      ],
      "text/plain": [
       "<IPython.core.display.Markdown object>"
      ]
     },
     "metadata": {},
     "output_type": "display_data"
    }
   ],
   "source": [
    "data = {\n",
    "  \"gameNo\": 0,\n",
    "  \"secretKey\": \"string\",\n",
    "  \"sender\": \"형구\",\n",
    "  \"npcName1\": {\n",
    "    \"name\": \"레오\",\n",
    "    \"alibi\": \"지난 밤 마을 잔치에 참여함\"\n",
    "  },\n",
    "  \"npcName2\": {\n",
    "    \"name\": \"이사벨\",\n",
    "    \"alibi\": \"지난 밤 마을 잔치에 참여함\"\n",
    "  },\n",
    "  \"chatDay\": 0,\n",
    "  \"previousStory\": \"day0 - 니콜라스가 해변에서 살해된채로 발견\"\n",
    "}\n",
    "\n",
    "api_name = \"/api/user/conversation_between_npcs\"\n",
    "url = base_url + api_name\n",
    "\n",
    "cnt = 10\n",
    "\n",
    "cal_result_dict = API_calculate(data, url, cnt)\n",
    "\n",
    "# print(json.dumps(cal_result_dict, indent=4, ensure_ascii=False))\n",
    "\n",
    "result = make_result(api_name, cnt, cal_result_dict)\n",
    "\n",
    "markdown_table = dict_to_markdown_table(result)\n",
    "display(Markdown(markdown_table))"
   ]
  }
 ],
 "metadata": {
  "kernelspec": {
   "display_name": "muderer",
   "language": "python",
   "name": "python3"
  },
  "language_info": {
   "codemirror_mode": {
    "name": "ipython",
    "version": 3
   },
   "file_extension": ".py",
   "mimetype": "text/x-python",
   "name": "python",
   "nbconvert_exporter": "python",
   "pygments_lexer": "ipython3",
   "version": "3.10.14"
  }
 },
 "nbformat": 4,
 "nbformat_minor": 2
}
