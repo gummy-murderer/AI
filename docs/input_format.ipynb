{
 "cells": [
  {
   "cell_type": "code",
   "execution_count": 1,
   "metadata": {},
   "outputs": [],
   "source": [
    "import os, sys\n",
    "\n",
    "current_dir = os.getcwd()\n",
    "\n",
    "# 부모 디렉토리의 경로를 찾습니다.\n",
    "parent_dir = os.path.dirname(current_dir)\n",
    "\n",
    "# 부모 디렉토리를 시스템 경로에 추가합니다.\n",
    "sys.path.append(parent_dir)\n",
    "import lib.const as const"
   ]
  },
  {
   "cell_type": "code",
   "execution_count": 2,
   "metadata": {},
   "outputs": [],
   "source": [
    "from typing import List, Optional\n",
    "from pydantic import BaseModel\n",
    "\n",
    "class MurdererInfo(BaseModel):\n",
    "    name: str\n",
    "    motivation: str\n",
    "    procedure: str\n",
    "\n",
    "class CharacterInfo(BaseModel):\n",
    "    name: str\n",
    "    personality: str\n",
    "    personalityDescription: str\n",
    "    feature: str\n",
    "    featureDescription: str\n",
    "\n",
    "class Model(BaseModel):\n",
    "    day: int\n",
    "    murderer: MurdererInfo\n",
    "    crimeScene: str\n",
    "    victim: str\n",
    "    witness: str\n",
    "    livingCharacters: List[CharacterInfo]"
   ]
  },
  {
   "cell_type": "code",
   "execution_count": 3,
   "metadata": {},
   "outputs": [
    {
     "data": {
      "text/plain": [
       "{'npcs': [{'name': '레오',\n",
       "   'age': 25,\n",
       "   'gender': 'Male',\n",
       "   'wealth': 'Medium',\n",
       "   'personality': '용감함',\n",
       "   'personalityDescription': '용기 있게 행동함',\n",
       "   'feature': '뮤지션',\n",
       "   'featureDescription': '노래를 부르듯이 대답함',\n",
       "   'criminalScenario': {'motivation': '어린시절 마을에서 쫒겨남. 그때의 복수를 하기 위해 마을로 돌아왔음.',\n",
       "    'procedure': '나이 많은 사람부터 살해'}},\n",
       "  {'name': '소피아',\n",
       "   'age': 32,\n",
       "   'gender': 'Female',\n",
       "   'wealth': 'Moderate',\n",
       "   'personality': '지혜로움',\n",
       "   'personalityDescription': '깊은 통찰력과 현명한 판단을 가짐',\n",
       "   'feature': '조용함',\n",
       "   'featureDescription': '대화보다는 관찰을 선호함',\n",
       "   'criminalScenario': {'motivation': '부모에게 버림받은 이후 세상 모든 것을 증오함.',\n",
       "    'procedure': '무작위로 사람을 살해'}},\n",
       "  {'name': '마르코',\n",
       "   'age': 28,\n",
       "   'gender': 'Male',\n",
       "   'wealth': 'Low',\n",
       "   'personality': '신비로움',\n",
       "   'personalityDescription': '알 수 없는 매력과 비밀스러운 분위기를 가짐',\n",
       "   'feature': '야행성',\n",
       "   'featureDescription': '밤에 활동하는 것을 선호함',\n",
       "   'criminalScenario': {'motivation': '어릴 때 왕따를 당했던 기억이 있음. 그 때의 가해자들과 방관자인 마을 사람들에게 복수를 다짐함',\n",
       "    'procedure': '어린 사람부터 살해'}},\n",
       "  {'name': '이사벨',\n",
       "   'age': 30,\n",
       "   'gender': 'Female',\n",
       "   'wealth': 'Moderate',\n",
       "   'personality': '명랑함',\n",
       "   'personalityDescription': '밝고 긍정적인 에너지로 주변을 환하게 함',\n",
       "   'feature': '냥체',\n",
       "   'featureDescription': \"말 끝에 '냥'을 붙여서 대답함\",\n",
       "   'criminalScenario': {'motivation': '어둠의 조직에 몸담고 있음. 조직의 지령으로 마을 사람들을 모두 죽여야 함.',\n",
       "    'procedure': '강한 사람부터 살해'}},\n",
       "  {'name': '알렉스',\n",
       "   'age': 26,\n",
       "   'gender': 'Male',\n",
       "   'wealth': 'High',\n",
       "   'personality': '모험적임',\n",
       "   'personalityDescription': '새로운 것을 경험하려는 강한 욕구를 가짐',\n",
       "   'feature': '떠돌이',\n",
       "   'featureDescription': '여러 마을을 떠돌아 다니는 떠돌이임',\n",
       "   'criminalScenario': {'motivation': '인간을 혐오함.', 'procedure': '무작위로 사람을 살해'}},\n",
       "  {'name': '니콜라스',\n",
       "   'age': 35,\n",
       "   'gender': 'Male',\n",
       "   'wealth': 'Moderate',\n",
       "   'personality': '조용함',\n",
       "   'personalityDescription': '대화보다는 관찰을 선호하며 적은 말로 의사를 표현함',\n",
       "   'feature': '고어체',\n",
       "   'featureDescription': '옛날 양식의 말투를 사용하여 대화함',\n",
       "   'criminalScenario': {'motivation': '고대 악마의 부활을 위한 제물로 살인을 선택.',\n",
       "    'procedure': '무작위로 사람을 살해'}},\n",
       "  {'name': '올리버',\n",
       "   'age': 27,\n",
       "   'gender': 'Male',\n",
       "   'wealth': 'Low',\n",
       "   'personality': '교활함',\n",
       "   'personalityDescription': '기민하고 때로는 속임수를 쓰며 목적을 달성함',\n",
       "   'feature': '야행성',\n",
       "   'featureDescription': '밤에 활동하는 것을 선호하며 낮에는 거의 보이지 않음',\n",
       "   'criminalScenario': {'motivation': '사실 마을에 숨어든 괴물임. 주식으로 사람을 먹기 때문에 밤이되면 살인을 저지름.',\n",
       "    'procedure': '무작위로 사람을 살해'}},\n",
       "  {'name': '비비안',\n",
       "   'age': 31,\n",
       "   'gender': 'Female',\n",
       "   'wealth': 'Moderate',\n",
       "   'personality': '호기심 많음',\n",
       "   'personalityDescription': '새로운 지식과 경험에 대한 끊임없는 호기심을 가짐',\n",
       "   'feature': '이야기꾼',\n",
       "   'featureDescription': '흥미로운 이야기와 전설을 전하며 사람들을 즐겁게 함',\n",
       "   'criminalScenario': {'motivation': '쾌락주의자. 살인에 쾌락을 느껴서 다른 마을에서도 같은 짓을 저질렀음.',\n",
       "    'procedure': '무작위로 사람을 살해'}},\n",
       "  {'name': '테오',\n",
       "   'age': 25,\n",
       "   'gender': 'Male',\n",
       "   'wealth': 'Moderate',\n",
       "   'personality': '예술가형',\n",
       "   'personalityDescription': '창의적이고 감성적인 성격을 지니고 있음',\n",
       "   'feature': '음악가',\n",
       "   'featureDescription': '다양한 악기를 연주하며 음악으로 감정을 표현함',\n",
       "   'criminalScenario': {'motivation': '살인을 일종의 행위 예술로 여김. 예술을 위해서는 살인도 어쩔 수 없다고 여김.',\n",
       "    'procedure': '무작위로 사람을 살해'}},\n",
       "  {'name': '자스민',\n",
       "   'age': 30,\n",
       "   'gender': 'Female',\n",
       "   'wealth': 'High',\n",
       "   'personality': '회의적',\n",
       "   'personalityDescription': '주변 사건에 대해 의심을 품으며 진실을 탐구함',\n",
       "   'feature': '학자',\n",
       "   'featureDescription': '지식을 추구하고 책과 연구에 몰두함',\n",
       "   'criminalScenario': {'motivation': '해부학에 관하여 관심이 많음. 자신의 학문적 욕구를 채우기 위해 살인 후 시체를 해부함.',\n",
       "    'procedure': '무작위로 사람을 살해'}},\n",
       "  {'name': '마일로',\n",
       "   'age': 26,\n",
       "   'gender': 'Male',\n",
       "   'wealth': 'Low',\n",
       "   'personality': '낙천적',\n",
       "   'personalityDescription': '항상 긍정적이며 희망을 잃지 않음',\n",
       "   'feature': '탐험가',\n",
       "   'featureDescription': '새로운 장소와 문화를 탐험하는 것을 좋아함',\n",
       "   'criminalScenario': {'motivation': '탐험에서 얻은 귀한 반지 때문에 정신병에 걸림. 모든 사람들이 자신의 반지를 노리고 있다고 생각하고 반지를 지키기 위해 사람을 죽임.',\n",
       "    'procedure': '나이 많은 사람부터 살해'}},\n",
       "  {'name': '레나',\n",
       "   'age': 38,\n",
       "   'gender': 'Female',\n",
       "   'wealth': 'Moderate',\n",
       "   'personality': '관찰자',\n",
       "   'personalityDescription': '주변 환경과 사람들을 주의 깊게 관찰함',\n",
       "   'feature': '자연주의자',\n",
       "   'featureDescription': '자연과 야생 동물에 대한 깊은 지식과 애정을 가짐',\n",
       "   'criminalScenario': {'motivation': '극단적 환경 보호 주의자. 지구를 위해 인간은 모두 사라져야 한다고 믿음.',\n",
       "    'procedure': '무작위로 사람을 살해'}},\n",
       "  {'name': '애쉬',\n",
       "   'age': 24,\n",
       "   'gender': 'Male',\n",
       "   'wealth': 'High',\n",
       "   'personality': '유머러스함',\n",
       "   'personalityDescription': '재치 있고 유머러스한 성격을 지님',\n",
       "   'feature': '유머러스한 말투',\n",
       "   'featureDescription': '대화 중에 종종 재치 있는 농담을 섞어 말함',\n",
       "   'criminalScenario': {'motivation': '유머러스한 성격 이면에는 광기가 숨어있음. 밤이 되면 광기에 물들어 살인을 저지름.',\n",
       "    'procedure': '무작위로 사람을 살해'}},\n",
       "  {'name': '김쿵야',\n",
       "   'age': 24,\n",
       "   'gender': 'Female',\n",
       "   'wealth': 'High',\n",
       "   'personality': '장난꾸러기',\n",
       "   'personalityDescription': '재미있고 유쾌한 성격으로 주변 사람들을 즐겁게 함',\n",
       "   'feature': '마술사',\n",
       "   'featureDescription': '기발한 마술과 재치 있는 퍼포먼스로 사람들을 놀라게 함',\n",
       "   'criminalScenario': {'motivation': '엄청난 안경을 끼고 다님. 자신의 안경낀 모습을 본 모든 사람을 살해하려 함.',\n",
       "    'procedure': '무작위로 사람을 살해'}},\n",
       "  {'name': '박동식',\n",
       "   'age': 27,\n",
       "   'gender': 'Female',\n",
       "   'wealth': 'High',\n",
       "   'personality': '근면함',\n",
       "   'personalityDescription': '맡은 일에 대해 성실하고 꼼꼼하게 임함',\n",
       "   'feature': '관심을 원함',\n",
       "   'featureDescription': \"사람들에게 항상 '나 뭐 달라진거 없어?'라고 물어봄\",\n",
       "   'criminalScenario': {'motivation': '마을 사람들이 자신에게 관심을 가져주지 않아서 모두를 죽임.',\n",
       "    'procedure': '무작위로 사람을 살해'}},\n",
       "  {'name': '짠짠영',\n",
       "   'age': 33,\n",
       "   'gender': 'Female',\n",
       "   'wealth': 'High',\n",
       "   'personality': '기발함',\n",
       "   'personalityDescription': '독창적이고 창의적인 생각으로 눈길을 끔',\n",
       "   'feature': '덕후',\n",
       "   'featureDescription': '춘식이를 매우 좋아함. 춘식이와 관련된 모든것을 모으려고 함. 절대 자신의 일에 반성하지 않음',\n",
       "   'criminalScenario': {'motivation': '정체모를 누군가가 마을사람 모두를 죽이면 춘식이 굳즈를 준다고 유혹함. 유혹에 못 이겨 살인을 저지름',\n",
       "    'procedure': '무작위로 사람을 살해'}},\n",
       "  {'name': '태근티비',\n",
       "   'age': 27,\n",
       "   'gender': 'Female',\n",
       "   'wealth': 'High',\n",
       "   'personality': '창의적',\n",
       "   'personalityDescription': '새로운 아이디어와 접근 방식을 가지고 있음',\n",
       "   'feature': '엉뚱함',\n",
       "   'featureDescription': '기발하고 예상치 못한 반응을 보임',\n",
       "   'criminalScenario': {'motivation': '', 'procedure': '무작위로 사람을 살해'}},\n",
       "  {'name': '박윤주',\n",
       "   'age': 25,\n",
       "   'gender': 'Female',\n",
       "   'wealth': 'High',\n",
       "   'personality': '세심함',\n",
       "   'personalityDescription': '작은 디테일에도 주의를 기울이며 모든 것을 꼼꼼하게 살피는 성격',\n",
       "   'feature': '화가',\n",
       "   'featureDescription': '아름다운 그림을 그리며 섬세하고 표현력이 풍부함',\n",
       "   'criminalScenario': {'motivation': '', 'procedure': '무작위로 사람을 살해'}}]}"
      ]
     },
     "execution_count": 3,
     "metadata": {},
     "output_type": "execute_result"
    }
   ],
   "source": [
    "characters = const.CHARACTERS\n",
    "characters"
   ]
  },
  {
   "cell_type": "code",
   "execution_count": 4,
   "metadata": {},
   "outputs": [],
   "source": [
    "class CriminalScenarioSchema(BaseModel):\n",
    "    motivation: str\n",
    "    procedure: str\n",
    "\n",
    "class CharacterSchema(BaseModel):\n",
    "    name: str\n",
    "    age: int\n",
    "    gender: str\n",
    "    wealth: str\n",
    "    personality: str\n",
    "    personalityDescription: str\n",
    "    feature: str\n",
    "    featureDescription: str\n",
    "    criminalScenario: CriminalScenarioSchema\n",
    "\n",
    "class CharactersSchema(BaseModel):\n",
    "    npcs: List[CharacterSchema]"
   ]
  },
  {
   "cell_type": "code",
   "execution_count": 5,
   "metadata": {},
   "outputs": [
    {
     "data": {
      "text/plain": [
       "CharactersSchema(npcs=[CharacterSchema(name='레오', age=25, gender='Male', wealth='Medium', personality='용감함', personalityDescription='용기 있게 행동함', feature='뮤지션', featureDescription='노래를 부르듯이 대답함', criminalScenario=CriminalScenarioSchema(motivation='어린시절 마을에서 쫒겨남. 그때의 복수를 하기 위해 마을로 돌아왔음.', procedure='나이 많은 사람부터 살해')), CharacterSchema(name='소피아', age=32, gender='Female', wealth='Moderate', personality='지혜로움', personalityDescription='깊은 통찰력과 현명한 판단을 가짐', feature='조용함', featureDescription='대화보다는 관찰을 선호함', criminalScenario=CriminalScenarioSchema(motivation='부모에게 버림받은 이후 세상 모든 것을 증오함.', procedure='무작위로 사람을 살해')), CharacterSchema(name='마르코', age=28, gender='Male', wealth='Low', personality='신비로움', personalityDescription='알 수 없는 매력과 비밀스러운 분위기를 가짐', feature='야행성', featureDescription='밤에 활동하는 것을 선호함', criminalScenario=CriminalScenarioSchema(motivation='어릴 때 왕따를 당했던 기억이 있음. 그 때의 가해자들과 방관자인 마을 사람들에게 복수를 다짐함', procedure='어린 사람부터 살해')), CharacterSchema(name='이사벨', age=30, gender='Female', wealth='Moderate', personality='명랑함', personalityDescription='밝고 긍정적인 에너지로 주변을 환하게 함', feature='냥체', featureDescription=\"말 끝에 '냥'을 붙여서 대답함\", criminalScenario=CriminalScenarioSchema(motivation='어둠의 조직에 몸담고 있음. 조직의 지령으로 마을 사람들을 모두 죽여야 함.', procedure='강한 사람부터 살해')), CharacterSchema(name='알렉스', age=26, gender='Male', wealth='High', personality='모험적임', personalityDescription='새로운 것을 경험하려는 강한 욕구를 가짐', feature='떠돌이', featureDescription='여러 마을을 떠돌아 다니는 떠돌이임', criminalScenario=CriminalScenarioSchema(motivation='인간을 혐오함.', procedure='무작위로 사람을 살해')), CharacterSchema(name='니콜라스', age=35, gender='Male', wealth='Moderate', personality='조용함', personalityDescription='대화보다는 관찰을 선호하며 적은 말로 의사를 표현함', feature='고어체', featureDescription='옛날 양식의 말투를 사용하여 대화함', criminalScenario=CriminalScenarioSchema(motivation='고대 악마의 부활을 위한 제물로 살인을 선택.', procedure='무작위로 사람을 살해')), CharacterSchema(name='올리버', age=27, gender='Male', wealth='Low', personality='교활함', personalityDescription='기민하고 때로는 속임수를 쓰며 목적을 달성함', feature='야행성', featureDescription='밤에 활동하는 것을 선호하며 낮에는 거의 보이지 않음', criminalScenario=CriminalScenarioSchema(motivation='사실 마을에 숨어든 괴물임. 주식으로 사람을 먹기 때문에 밤이되면 살인을 저지름.', procedure='무작위로 사람을 살해')), CharacterSchema(name='비비안', age=31, gender='Female', wealth='Moderate', personality='호기심 많음', personalityDescription='새로운 지식과 경험에 대한 끊임없는 호기심을 가짐', feature='이야기꾼', featureDescription='흥미로운 이야기와 전설을 전하며 사람들을 즐겁게 함', criminalScenario=CriminalScenarioSchema(motivation='쾌락주의자. 살인에 쾌락을 느껴서 다른 마을에서도 같은 짓을 저질렀음.', procedure='무작위로 사람을 살해')), CharacterSchema(name='테오', age=25, gender='Male', wealth='Moderate', personality='예술가형', personalityDescription='창의적이고 감성적인 성격을 지니고 있음', feature='음악가', featureDescription='다양한 악기를 연주하며 음악으로 감정을 표현함', criminalScenario=CriminalScenarioSchema(motivation='살인을 일종의 행위 예술로 여김. 예술을 위해서는 살인도 어쩔 수 없다고 여김.', procedure='무작위로 사람을 살해')), CharacterSchema(name='자스민', age=30, gender='Female', wealth='High', personality='회의적', personalityDescription='주변 사건에 대해 의심을 품으며 진실을 탐구함', feature='학자', featureDescription='지식을 추구하고 책과 연구에 몰두함', criminalScenario=CriminalScenarioSchema(motivation='해부학에 관하여 관심이 많음. 자신의 학문적 욕구를 채우기 위해 살인 후 시체를 해부함.', procedure='무작위로 사람을 살해')), CharacterSchema(name='마일로', age=26, gender='Male', wealth='Low', personality='낙천적', personalityDescription='항상 긍정적이며 희망을 잃지 않음', feature='탐험가', featureDescription='새로운 장소와 문화를 탐험하는 것을 좋아함', criminalScenario=CriminalScenarioSchema(motivation='탐험에서 얻은 귀한 반지 때문에 정신병에 걸림. 모든 사람들이 자신의 반지를 노리고 있다고 생각하고 반지를 지키기 위해 사람을 죽임.', procedure='나이 많은 사람부터 살해')), CharacterSchema(name='레나', age=38, gender='Female', wealth='Moderate', personality='관찰자', personalityDescription='주변 환경과 사람들을 주의 깊게 관찰함', feature='자연주의자', featureDescription='자연과 야생 동물에 대한 깊은 지식과 애정을 가짐', criminalScenario=CriminalScenarioSchema(motivation='극단적 환경 보호 주의자. 지구를 위해 인간은 모두 사라져야 한다고 믿음.', procedure='무작위로 사람을 살해')), CharacterSchema(name='애쉬', age=24, gender='Male', wealth='High', personality='유머러스함', personalityDescription='재치 있고 유머러스한 성격을 지님', feature='유머러스한 말투', featureDescription='대화 중에 종종 재치 있는 농담을 섞어 말함', criminalScenario=CriminalScenarioSchema(motivation='유머러스한 성격 이면에는 광기가 숨어있음. 밤이 되면 광기에 물들어 살인을 저지름.', procedure='무작위로 사람을 살해')), CharacterSchema(name='김쿵야', age=24, gender='Female', wealth='High', personality='장난꾸러기', personalityDescription='재미있고 유쾌한 성격으로 주변 사람들을 즐겁게 함', feature='마술사', featureDescription='기발한 마술과 재치 있는 퍼포먼스로 사람들을 놀라게 함', criminalScenario=CriminalScenarioSchema(motivation='엄청난 안경을 끼고 다님. 자신의 안경낀 모습을 본 모든 사람을 살해하려 함.', procedure='무작위로 사람을 살해')), CharacterSchema(name='박동식', age=27, gender='Female', wealth='High', personality='근면함', personalityDescription='맡은 일에 대해 성실하고 꼼꼼하게 임함', feature='관심을 원함', featureDescription=\"사람들에게 항상 '나 뭐 달라진거 없어?'라고 물어봄\", criminalScenario=CriminalScenarioSchema(motivation='마을 사람들이 자신에게 관심을 가져주지 않아서 모두를 죽임.', procedure='무작위로 사람을 살해')), CharacterSchema(name='짠짠영', age=33, gender='Female', wealth='High', personality='기발함', personalityDescription='독창적이고 창의적인 생각으로 눈길을 끔', feature='덕후', featureDescription='춘식이를 매우 좋아함. 춘식이와 관련된 모든것을 모으려고 함. 절대 자신의 일에 반성하지 않음', criminalScenario=CriminalScenarioSchema(motivation='정체모를 누군가가 마을사람 모두를 죽이면 춘식이 굳즈를 준다고 유혹함. 유혹에 못 이겨 살인을 저지름', procedure='무작위로 사람을 살해')), CharacterSchema(name='태근티비', age=27, gender='Female', wealth='High', personality='창의적', personalityDescription='새로운 아이디어와 접근 방식을 가지고 있음', feature='엉뚱함', featureDescription='기발하고 예상치 못한 반응을 보임', criminalScenario=CriminalScenarioSchema(motivation='', procedure='무작위로 사람을 살해')), CharacterSchema(name='박윤주', age=25, gender='Female', wealth='High', personality='세심함', personalityDescription='작은 디테일에도 주의를 기울이며 모든 것을 꼼꼼하게 살피는 성격', feature='화가', featureDescription='아름다운 그림을 그리며 섬세하고 표현력이 풍부함', criminalScenario=CriminalScenarioSchema(motivation='', procedure='무작위로 사람을 살해'))])"
      ]
     },
     "execution_count": 5,
     "metadata": {},
     "output_type": "execute_result"
    }
   ],
   "source": [
    "characters_data = CharactersSchema(**characters)\n",
    "characters_data"
   ]
  },
  {
   "cell_type": "code",
   "execution_count": 6,
   "metadata": {},
   "outputs": [],
   "source": [
    "class GenerateSchema(BaseModel):\n",
    "    gameNo: Optional[int]\n",
    "    secretKey: Optional[str]\n",
    "    \n",
    "class GenerateVictimSchema(GenerateSchema):\n",
    "    day: int\n",
    "    murderer: str\n",
    "    livingCharacters: List\n",
    "    previousStory: Optional[str]"
   ]
  },
  {
   "cell_type": "code",
   "execution_count": 7,
   "metadata": {},
   "outputs": [
    {
     "name": "stdout",
     "output_type": "stream",
     "text": [
      "gameNo=0 secretKey='string' day=0 murderer='레오' livingCharacters=['소피아', '마르코', '이사벨', '알렉스', '니콜라스', '레오'] previousStory='string'\n"
     ]
    }
   ],
   "source": [
    "data = {\n",
    "  \"gameNo\": 0,\n",
    "  \"secretKey\": \"string\",\n",
    "  \"day\": 0,\n",
    "  \"murderer\": \"레오\",\n",
    "  \"livingCharacters\": [\n",
    "    \"소피아\", \"마르코\", \"이사벨\", \"알렉스\", \"니콜라스\", \"레오\"\n",
    "  ],\n",
    "  \"previousStory\": \"string\"\n",
    "}\n",
    "\n",
    "# 데이터 인스턴스 생성\n",
    "generate_victim_schema = GenerateVictimSchema(**data)\n",
    "\n",
    "# 데이터 출력 (예시)\n",
    "print(generate_victim_schema)"
   ]
  },
  {
   "cell_type": "code",
   "execution_count": 13,
   "metadata": {},
   "outputs": [
    {
     "name": "stdout",
     "output_type": "stream",
     "text": [
      "Name: 레오, Age: 25, Gender: Male\n",
      "<class '__main__.CharacterSchema'>\n",
      "name='레오' age=25 ge\n"
     ]
    }
   ],
   "source": [
    "def find_character_info(name):\n",
    "    for character in characters_data.npcs:\n",
    "        if character.name == name:\n",
    "            return character\n",
    "    return None\n",
    "\n",
    "# 예시: \"레오\"라는 이름의 캐릭터 정보 찾기\n",
    "leo_info = find_character_info(\"레오\")\n",
    "if leo_info:\n",
    "    print(f\"Name: {leo_info.name}, Age: {leo_info.age}, Gender: {leo_info.gender}\")\n",
    "    print(type(leo_info))\n",
    "    print(str(leo_info)[:19])\n",
    "else:\n",
    "    print(\"Character not found\")"
   ]
  },
  {
   "cell_type": "code",
   "execution_count": 21,
   "metadata": {},
   "outputs": [],
   "source": [
    "def get_muderer_info(name):\n",
    "    return characters['npcs'][name]"
   ]
  },
  {
   "cell_type": "code",
   "execution_count": null,
   "metadata": {},
   "outputs": [],
   "source": [
    "def test(data):\n",
    "    muderer_info = get_muderer_info(data['murderer'])\n",
    "    input_data = {\n",
    "        \"day\": data['day'],\n",
    "        \"murderer\": {\n",
    "            \"name\": muderer_info['npcName'],\n",
    "            \"Motivation\": muderer_info['CriminalScenario']['Motivation'],\n",
    "        }\n",
    "    }"
   ]
  },
  {
   "cell_type": "code",
   "execution_count": 22,
   "metadata": {},
   "outputs": [
    {
     "data": {
      "text/plain": [
       "{'npcName': '레오',\n",
       " 'age': 25,\n",
       " 'gender': 'Male',\n",
       " 'wealth': 'Medium',\n",
       " 'Personality': '용감함',\n",
       " 'PersonalityDescription': '용기 있게 행동함',\n",
       " 'Feature': '뮤지션',\n",
       " 'FeatureDescription': '노래를 부르듯이 대답함',\n",
       " 'CriminalScenario': {'Motivation': '어린시절 마을에서 쫒겨남. 그때의 복수를 하기 위해 마을로 돌아왔음.',\n",
       "  'Procedure': '나이 많은 사람부터 살해'}}"
      ]
     },
     "execution_count": 22,
     "metadata": {},
     "output_type": "execute_result"
    }
   ],
   "source": [
    "get_muderer_info(data['murderer'])"
   ]
  },
  {
   "cell_type": "code",
   "execution_count": null,
   "metadata": {},
   "outputs": [],
   "source": []
  },
  {
   "cell_type": "code",
   "execution_count": 6,
   "metadata": {},
   "outputs": [],
   "source": [
    "import json\n",
    "\n",
    "# JSON 데이터를 로드하는 함수\n",
    "def load_json(filename):\n",
    "    with open(filename, 'r', encoding='utf-8') as file:\n",
    "        return json.load(file)\n",
    "\n",
    "# JSON 데이터를 저장하는 함수\n",
    "def save_json(data, filename):\n",
    "    with open(filename, 'w', encoding='utf-8') as file:\n",
    "        json.dump(data, file, ensure_ascii=False, indent=4)\n",
    "\n",
    "# 키 이름을 Pydantic 모델에 맞게 변경하는 함수\n",
    "def rename_keys(npc):\n",
    "    key_map = {\n",
    "        'npcName': 'name',\n",
    "        'Age': 'age',\n",
    "        'Gender': 'gender',\n",
    "        'Wealth': 'wealth',\n",
    "        'Personality': 'personality',\n",
    "        'PersonalityDescription': 'personalityDescription',\n",
    "        'Feature': 'feature',\n",
    "        'FeatureDescription': 'featureDescription',\n",
    "        'CriminalScenario': 'criminalScenario'  # 이 부분은 필요에 따라 추가\n",
    "    }\n",
    "\n",
    "    return {key_map.get(key, key): value for key, value in npc.items()}\n",
    "\n",
    "# 메인 함수\n",
    "def main():\n",
    "    # JSON 파일 로드\n",
    "    # data = load_json('your_file.json')  # 'your_file.json'은 실제 JSON 파일 이름으로 바꿔주세요.\n",
    "    data = characters\n",
    "\n",
    "    # 각 NPC의 키 이름 수정\n",
    "    updated_npcs = [rename_keys(npc) for npc in data['npcs']]\n",
    "    data['npcs'] = updated_npcs\n",
    "\n",
    "    # 수정된 데이터를 새 파일로 저장\n",
    "    save_json(data, 'updated_file.json')  # 'updated_file.json'은 새 파일의 이름입니다.\n",
    "\n",
    "if __name__ == \"__main__\":\n",
    "    main()\n"
   ]
  },
  {
   "cell_type": "code",
   "execution_count": 8,
   "metadata": {},
   "outputs": [],
   "source": [
    "import json\n",
    "\n",
    "# JSON 데이터를 로드하는 함수\n",
    "def load_json(filename):\n",
    "    with open(filename, 'r', encoding='utf-8') as file:\n",
    "        return json.load(file)\n",
    "\n",
    "# JSON 데이터를 저장하는 함수\n",
    "def save_json(data, filename):\n",
    "    with open(filename, 'w', encoding='utf-8') as file:\n",
    "        json.dump(data, file, ensure_ascii=False, indent=4)\n",
    "\n",
    "# CriminalScenario 내의 키를 변경하는 함수\n",
    "def rename_criminal_scenario_keys(scenario):\n",
    "    key_map = {\n",
    "        'Motivation': 'motivation',\n",
    "        'Procedure': 'procedure'\n",
    "    }\n",
    "    return {key_map.get(key, key): value for key, value in scenario.items()}\n",
    "\n",
    "# NPC의 키 이름을 변경하는 함수\n",
    "def rename_keys(npc):\n",
    "    key_map = {\n",
    "        'npcName': 'name',\n",
    "        'Age': 'age',\n",
    "        'Gender': 'gender',\n",
    "        'Wealth': 'wealth',\n",
    "        'Personality': 'personality',\n",
    "        'PersonalityDescription': 'personalityDescription',\n",
    "        'Feature': 'feature',\n",
    "        'FeatureDescription': 'featureDescription',\n",
    "        'CriminalScenario': 'criminalScenario'\n",
    "    }\n",
    "\n",
    "    new_npc = {key_map.get(key, key): value for key, value in npc.items()}\n",
    "    \n",
    "    # CriminalScenario 처리\n",
    "    if 'CriminalScenario' in npc:\n",
    "        new_npc['criminalScenario'] = rename_criminal_scenario_keys(npc['CriminalScenario'])\n",
    "\n",
    "    return new_npc\n",
    "\n",
    "# 메인 함수\n",
    "def main():\n",
    "    # JSON 파일 로드\n",
    "    # data = load_json('your_file.json')  # 'your_file.json'은 실제 JSON 파일 이름으로 바꿔주세요.\n",
    "    data = characters\n",
    "\n",
    "    # 각 NPC의 키 이름 수정\n",
    "    updated_npcs = [rename_keys(npc) for npc in data['npcs']]\n",
    "    data['npcs'] = updated_npcs\n",
    "\n",
    "    # 수정된 데이터를 새 파일로 저장\n",
    "    save_json(data, 'updated_file.json')  # 'updated_file.json'은 새 파일의 이름입니다.\n",
    "\n",
    "if __name__ == \"__main__\":\n",
    "    main()\n"
   ]
  },
  {
   "cell_type": "code",
   "execution_count": null,
   "metadata": {},
   "outputs": [],
   "source": []
  },
  {
   "cell_type": "code",
   "execution_count": 4,
   "metadata": {},
   "outputs": [
    {
     "name": "stdout",
     "output_type": "stream",
     "text": [
      "mid=1 genre='action' rate=1.5 tag=None date=datetime.datetime(2024, 1, 30, 16, 37, 42) some_variable_list=[1, 2]\n"
     ]
    }
   ],
   "source": [
    "from typing import List, Optional, Union\n",
    "from datetime import datetime\n",
    "\n",
    "from pydantic import BaseModel\n",
    "\n",
    "class Movie(BaseModel):\n",
    "    mid: int\n",
    "    genre: str\n",
    "    rate: Union[int, float]  # int와 float 둘 다 가능\n",
    "    tag: Optional[str] = None  # tag는 str이고 기본 값은 None\n",
    "    date: Optional[datetime] = None\n",
    "    some_variable_list: List[int] = []  # 리스트 값을 가지고 그 값들은 int여야 함\n",
    "\n",
    "tmp_data = {\n",
    "    \"mid\": \"1\",\n",
    "    \"genre\": \"action\",\n",
    "    \"rate\": 1.5,\n",
    "    \"tag\": None,\n",
    "    \"date\": \"2024-01-30 16:37:42\",\n",
    "    \"some_variable_list\": [1, 2]\n",
    "}\n",
    "\n",
    "tmp_movie = Movie(**tmp_data)\n",
    "print(tmp_movie)"
   ]
  },
  {
   "cell_type": "code",
   "execution_count": 9,
   "metadata": {},
   "outputs": [
    {
     "name": "stdout",
     "output_type": "stream",
     "text": [
      "{\"mid\":1,\"genre\":\"action\",\"rate\":1.5,\"tag\":null,\"date\":\"2024-01-30T16:37:42\",\"some_variable_list\":[1,2]}\n",
      "{\"uid\":100,\"name\":\"isakin\",\"age\":27}\n"
     ]
    }
   ],
   "source": [
    "from typing import List, Optional, Union\n",
    "from datetime import datetime\n",
    "\n",
    "from pydantic import BaseModel, Field\n",
    "\n",
    "class Movie(BaseModel):\n",
    "    mid: int\n",
    "    genre: str\n",
    "    rate: Union[int, float]  # int와 float 둘 다 가능\n",
    "    tag: Optional[str] = None  # tag는 str이고 기본 값은 None\n",
    "    date: Optional[datetime] = None\n",
    "    some_variable_list: List[int] = []  # 리스트 값을 가지고 그 값들은 int여야 함\n",
    "\n",
    "class User(BaseModel):\n",
    "    \"\"\"\n",
    "    gt : 설정된 값보다 큰\n",
    "    ge : 설정된 값보다 크거나 같은\n",
    "    lt : 설정된 값보다 작은\n",
    "    le : 설정된 값보다 작거나 같은\n",
    "\n",
    "    min_length : 최소 길이\n",
    "    max_length : 최대 길이\n",
    "    \"\"\"\n",
    "    uid: int\n",
    "    name: str = Field(min_length=2, max_length=7)\n",
    "    age: int = Field(gt=1, le=130)\n",
    "\n",
    "tmp_movie_data = {\n",
    "    \"mid\": \"1\",\n",
    "    \"genre\": \"action\",\n",
    "    \"rate\": 1.5,\n",
    "    \"tag\": None,\n",
    "    \"date\": \"2024-01-30 16:37:42\",\n",
    "}\n",
    "\n",
    "tmp_user_data = {\n",
    "    \"uid\": \"100\",\n",
    "    \"name\": \"isakin\",\n",
    "    \"age\": \"27\"\n",
    "}\n",
    "\n",
    "tmp_movie = Movie(**tmp_data)\n",
    "tmp_user = User(**tmp_user_data)\n",
    "print(tmp_movie.model_dump_json())\n",
    "print(tmp_user.model_dump_json())"
   ]
  },
  {
   "cell_type": "code",
   "execution_count": 3,
   "metadata": {},
   "outputs": [
    {
     "name": "stdout",
     "output_type": "stream",
     "text": [
      "{'db_host': '123.123.123.123', 'db_port': 3306}\n"
     ]
    }
   ],
   "source": [
    "from pydantic import Field\n",
    "from pydantic_settings import BaseSettings\n",
    "\n",
    "class DBConfig(BaseSettings):\n",
    "    db_host: str = Field('127.0.0.1')\n",
    "    db_port: int = Field(3306)\n",
    "\n",
    "    class Config:\n",
    "        env_file = \".env_ex\"\n",
    "\n",
    "print(DBConfig().model_dump())"
   ]
  },
  {
   "cell_type": "code",
   "execution_count": 10,
   "metadata": {},
   "outputs": [
    {
     "name": "stdout",
     "output_type": "stream",
     "text": [
      "Collecting pydantic-settings\n",
      "  Downloading pydantic_settings-2.1.0-py3-none-any.whl.metadata (2.9 kB)\n",
      "Requirement already satisfied: pydantic>=2.3.0 in c:\\users\\ai\\miniforge3\\envs\\muderer\\lib\\site-packages (from pydantic-settings) (2.5.3)\n",
      "Requirement already satisfied: python-dotenv>=0.21.0 in c:\\users\\ai\\miniforge3\\envs\\muderer\\lib\\site-packages (from pydantic-settings) (1.0.0)\n",
      "Requirement already satisfied: annotated-types>=0.4.0 in c:\\users\\ai\\miniforge3\\envs\\muderer\\lib\\site-packages (from pydantic>=2.3.0->pydantic-settings) (0.6.0)\n",
      "Requirement already satisfied: pydantic-core==2.14.6 in c:\\users\\ai\\miniforge3\\envs\\muderer\\lib\\site-packages (from pydantic>=2.3.0->pydantic-settings) (2.14.6)\n",
      "Requirement already satisfied: typing-extensions>=4.6.1 in c:\\users\\ai\\miniforge3\\envs\\muderer\\lib\\site-packages (from pydantic>=2.3.0->pydantic-settings) (4.9.0)\n",
      "Downloading pydantic_settings-2.1.0-py3-none-any.whl (11 kB)\n",
      "Installing collected packages: pydantic-settings\n",
      "Successfully installed pydantic-settings-2.1.0\n"
     ]
    }
   ],
   "source": [
    "!pip install pydantic-settings"
   ]
  },
  {
   "cell_type": "code",
   "execution_count": 30,
   "metadata": {},
   "outputs": [
    {
     "name": "stdout",
     "output_type": "stream",
     "text": [
      "{'host': '123.123.123.123', 'port': 3306123}\n"
     ]
    }
   ],
   "source": [
    "from pydantic import Field\n",
    "from pydantic_settings import BaseSettings\n",
    "\n",
    "class DBConfig(BaseSettings):\n",
    "    host: str = Field('127.0.0.1', alias='db_host')\n",
    "    port: int = Field(3306, alias='db_port')\n",
    "\n",
    "    class Config:\n",
    "        env_file = \".env_ex\"\n",
    "\n",
    "print(DBConfig().model_dump())"
   ]
  },
  {
   "cell_type": "code",
   "execution_count": 35,
   "metadata": {},
   "outputs": [
    {
     "ename": "ValidationError",
     "evalue": "1 validation error for DBConfig\ndb_port\n  Value error, port error [type=value_error, input_value='3306123', input_type=str]\n    For further information visit https://errors.pydantic.dev/2.5/v/value_error",
     "output_type": "error",
     "traceback": [
      "\u001b[1;31m---------------------------------------------------------------------------\u001b[0m",
      "\u001b[1;31mValidationError\u001b[0m                           Traceback (most recent call last)",
      "Cell \u001b[1;32mIn[35], line 17\u001b[0m\n\u001b[0;32m     14\u001b[0m             \u001b[38;5;28;01mraise\u001b[39;00m \u001b[38;5;167;01mValueError\u001b[39;00m(\u001b[38;5;124m\"\u001b[39m\u001b[38;5;124mport error\u001b[39m\u001b[38;5;124m\"\u001b[39m)\n\u001b[0;32m     15\u001b[0m         \u001b[38;5;28;01mreturn\u001b[39;00m port_input\n\u001b[1;32m---> 17\u001b[0m \u001b[38;5;28mprint\u001b[39m(\u001b[43mDBConfig\u001b[49m\u001b[43m(\u001b[49m\u001b[43m)\u001b[49m\u001b[38;5;241m.\u001b[39mmodel_dump())\n",
      "File \u001b[1;32mc:\\Users\\AI\\miniforge3\\envs\\muderer\\lib\\site-packages\\pydantic_settings\\main.py:71\u001b[0m, in \u001b[0;36mBaseSettings.__init__\u001b[1;34m(__pydantic_self__, _case_sensitive, _env_prefix, _env_file, _env_file_encoding, _env_nested_delimiter, _secrets_dir, **values)\u001b[0m\n\u001b[0;32m     60\u001b[0m \u001b[38;5;28;01mdef\u001b[39;00m \u001b[38;5;21m__init__\u001b[39m(\n\u001b[0;32m     61\u001b[0m     __pydantic_self__,\n\u001b[0;32m     62\u001b[0m     _case_sensitive: \u001b[38;5;28mbool\u001b[39m \u001b[38;5;241m|\u001b[39m \u001b[38;5;28;01mNone\u001b[39;00m \u001b[38;5;241m=\u001b[39m \u001b[38;5;28;01mNone\u001b[39;00m,\n\u001b[1;32m   (...)\u001b[0m\n\u001b[0;32m     69\u001b[0m ) \u001b[38;5;241m-\u001b[39m\u001b[38;5;241m>\u001b[39m \u001b[38;5;28;01mNone\u001b[39;00m:\n\u001b[0;32m     70\u001b[0m     \u001b[38;5;66;03m# Uses something other than `self` the first arg to allow \"self\" as a settable attribute\u001b[39;00m\n\u001b[1;32m---> 71\u001b[0m     \u001b[38;5;28msuper\u001b[39m()\u001b[38;5;241m.\u001b[39m\u001b[38;5;21m__init__\u001b[39m(\n\u001b[0;32m     72\u001b[0m         \u001b[38;5;241m*\u001b[39m\u001b[38;5;241m*\u001b[39m__pydantic_self__\u001b[38;5;241m.\u001b[39m_settings_build_values(\n\u001b[0;32m     73\u001b[0m             values,\n\u001b[0;32m     74\u001b[0m             _case_sensitive\u001b[38;5;241m=\u001b[39m_case_sensitive,\n\u001b[0;32m     75\u001b[0m             _env_prefix\u001b[38;5;241m=\u001b[39m_env_prefix,\n\u001b[0;32m     76\u001b[0m             _env_file\u001b[38;5;241m=\u001b[39m_env_file,\n\u001b[0;32m     77\u001b[0m             _env_file_encoding\u001b[38;5;241m=\u001b[39m_env_file_encoding,\n\u001b[0;32m     78\u001b[0m             _env_nested_delimiter\u001b[38;5;241m=\u001b[39m_env_nested_delimiter,\n\u001b[0;32m     79\u001b[0m             _secrets_dir\u001b[38;5;241m=\u001b[39m_secrets_dir,\n\u001b[0;32m     80\u001b[0m         )\n\u001b[0;32m     81\u001b[0m     )\n",
      "File \u001b[1;32mc:\\Users\\AI\\miniforge3\\envs\\muderer\\lib\\site-packages\\pydantic\\main.py:164\u001b[0m, in \u001b[0;36mBaseModel.__init__\u001b[1;34m(__pydantic_self__, **data)\u001b[0m\n\u001b[0;32m    162\u001b[0m \u001b[38;5;66;03m# `__tracebackhide__` tells pytest and some other tools to omit this function from tracebacks\u001b[39;00m\n\u001b[0;32m    163\u001b[0m __tracebackhide__ \u001b[38;5;241m=\u001b[39m \u001b[38;5;28;01mTrue\u001b[39;00m\n\u001b[1;32m--> 164\u001b[0m \u001b[43m__pydantic_self__\u001b[49m\u001b[38;5;241;43m.\u001b[39;49m\u001b[43m__pydantic_validator__\u001b[49m\u001b[38;5;241;43m.\u001b[39;49m\u001b[43mvalidate_python\u001b[49m\u001b[43m(\u001b[49m\u001b[43mdata\u001b[49m\u001b[43m,\u001b[49m\u001b[43m \u001b[49m\u001b[43mself_instance\u001b[49m\u001b[38;5;241;43m=\u001b[39;49m\u001b[43m__pydantic_self__\u001b[49m\u001b[43m)\u001b[49m\n",
      "\u001b[1;31mValidationError\u001b[0m: 1 validation error for DBConfig\ndb_port\n  Value error, port error [type=value_error, input_value='3306123', input_type=str]\n    For further information visit https://errors.pydantic.dev/2.5/v/value_error"
     ]
    }
   ],
   "source": [
    "from pydantic import Field, field_validator\n",
    "from pydantic_settings import BaseSettings\n",
    "\n",
    "class DBConfig(BaseSettings):\n",
    "    host: str = Field('127.0.0.1', alias='db_host')\n",
    "    port: int = Field(3306, alias='db_port')\n",
    "\n",
    "    class Config:\n",
    "        env_file = \".env_ex\"\n",
    "\n",
    "    @field_validator('port')\n",
    "    def check_port(cls, port_input):\n",
    "        if port_input not in [3306, 8080]:\n",
    "            raise ValueError(\"port error\")\n",
    "        return port_input\n",
    "\n",
    "print(DBConfig().model_dump())"
   ]
  },
  {
   "cell_type": "code",
   "execution_count": 4,
   "metadata": {},
   "outputs": [
    {
     "ename": "ValidationError",
     "evalue": "2 validation errors for ProjectConfig\ndbInfo.host\n  Extra inputs are not permitted [type=extra_forbidden, input_value='localhost', input_type=str]\n    For further information visit https://errors.pydantic.dev/2.5/v/extra_forbidden\ndbInfo.port\n  Extra inputs are not permitted [type=extra_forbidden, input_value=3306, input_type=int]\n    For further information visit https://errors.pydantic.dev/2.5/v/extra_forbidden",
     "output_type": "error",
     "traceback": [
      "\u001b[1;31m---------------------------------------------------------------------------\u001b[0m",
      "\u001b[1;31mValidationError\u001b[0m                           Traceback (most recent call last)",
      "Cell \u001b[1;32mIn[4], line 29\u001b[0m\n\u001b[0;32m     19\u001b[0m     dbInfo: DBConfig\n\u001b[0;32m     21\u001b[0m data \u001b[38;5;241m=\u001b[39m {\n\u001b[0;32m     22\u001b[0m     \u001b[38;5;124m\"\u001b[39m\u001b[38;5;124mprojectName\u001b[39m\u001b[38;5;124m\"\u001b[39m: \u001b[38;5;124m\"\u001b[39m\u001b[38;5;124mminkyo\u001b[39m\u001b[38;5;124m\"\u001b[39m,\n\u001b[0;32m     23\u001b[0m     \u001b[38;5;124m\"\u001b[39m\u001b[38;5;124mdbInfo\u001b[39m\u001b[38;5;124m\"\u001b[39m: {\n\u001b[1;32m   (...)\u001b[0m\n\u001b[0;32m     26\u001b[0m     }\n\u001b[0;32m     27\u001b[0m }\n\u001b[1;32m---> 29\u001b[0m my_project \u001b[38;5;241m=\u001b[39m ProjectConfig(\u001b[38;5;241m*\u001b[39m\u001b[38;5;241m*\u001b[39mdata)\n\u001b[0;32m     30\u001b[0m \u001b[38;5;28mprint\u001b[39m(my_project\u001b[38;5;241m.\u001b[39mjson(indent\u001b[38;5;241m=\u001b[39m\u001b[38;5;241m4\u001b[39m))\n\u001b[0;32m     31\u001b[0m \u001b[38;5;28mprint\u001b[39m(my_project\u001b[38;5;241m.\u001b[39mdbInfo)\n",
      "File \u001b[1;32mc:\\Users\\AI\\miniforge3\\envs\\muderer\\lib\\site-packages\\pydantic\\main.py:164\u001b[0m, in \u001b[0;36mBaseModel.__init__\u001b[1;34m(__pydantic_self__, **data)\u001b[0m\n\u001b[0;32m    162\u001b[0m \u001b[38;5;66;03m# `__tracebackhide__` tells pytest and some other tools to omit this function from tracebacks\u001b[39;00m\n\u001b[0;32m    163\u001b[0m __tracebackhide__ \u001b[38;5;241m=\u001b[39m \u001b[38;5;28;01mTrue\u001b[39;00m\n\u001b[1;32m--> 164\u001b[0m \u001b[43m__pydantic_self__\u001b[49m\u001b[38;5;241;43m.\u001b[39;49m\u001b[43m__pydantic_validator__\u001b[49m\u001b[38;5;241;43m.\u001b[39;49m\u001b[43mvalidate_python\u001b[49m\u001b[43m(\u001b[49m\u001b[43mdata\u001b[49m\u001b[43m,\u001b[49m\u001b[43m \u001b[49m\u001b[43mself_instance\u001b[49m\u001b[38;5;241;43m=\u001b[39;49m\u001b[43m__pydantic_self__\u001b[49m\u001b[43m)\u001b[49m\n",
      "\u001b[1;31mValidationError\u001b[0m: 2 validation errors for ProjectConfig\ndbInfo.host\n  Extra inputs are not permitted [type=extra_forbidden, input_value='localhost', input_type=str]\n    For further information visit https://errors.pydantic.dev/2.5/v/extra_forbidden\ndbInfo.port\n  Extra inputs are not permitted [type=extra_forbidden, input_value=3306, input_type=int]\n    For further information visit https://errors.pydantic.dev/2.5/v/extra_forbidden"
     ]
    }
   ],
   "source": [
    "from pydantic import BaseModel, Field, field_validator\n",
    "from pydantic_settings import BaseSettings\n",
    "\n",
    "class DBConfig(BaseSettings):\n",
    "    host: str = Field('127.0.0.1', alias='db_host')\n",
    "    port: int = Field(3306, alias='db_port')\n",
    "\n",
    "    class Config:\n",
    "        env_file = \".env_ex\"\n",
    "\n",
    "    @field_validator('port')\n",
    "    def check_port(cls, port_input):\n",
    "        if port_input not in [3306, 8080]:\n",
    "            raise ValueError(\"port error\")\n",
    "        return port_input\n",
    "\n",
    "class ProjectConfig(BaseModel):\n",
    "    projectName: str = 'isakin'\n",
    "    dbInfo: DBConfig\n",
    "\n",
    "data = {\n",
    "    \"projectName\": \"minkyo\",\n",
    "    \"dbInfo\": {\n",
    "        \"host\": \"localhost\",\n",
    "        \"port\": 3306\n",
    "    }\n",
    "}\n",
    "\n",
    "my_project = ProjectConfig(**data)\n",
    "print(my_project.json(indent=4))\n",
    "print(my_project.dbInfo)"
   ]
  },
  {
   "cell_type": "code",
   "execution_count": 12,
   "metadata": {},
   "outputs": [
    {
     "name": "stdout",
     "output_type": "stream",
     "text": [
      "{}\n"
     ]
    },
    {
     "ename": "",
     "evalue": "",
     "output_type": "error",
     "traceback": [
      "\u001b[1;31mThe Kernel crashed while executing code in the the current cell or a previous cell. Please review the code in the cell(s) to identify a possible cause of the failure. Click <a href='https://aka.ms/vscodeJupyterKernelCrash'>here</a> for more info. View Jupyter <a href='command:jupyter.viewOutput'>log</a> for further details."
     ]
    }
   ],
   "source": [
    "from pydantic_settings import BaseSettings, SettingsConfigDict\n",
    "\n",
    "\n",
    "class Settings(BaseSettings):\n",
    "    model_config = SettingsConfigDict(env_file='.env', extra='ignore')\n",
    "\n",
    "print(Settings().model_dump())\n"
   ]
  }
 ],
 "metadata": {
  "kernelspec": {
   "display_name": "muderer",
   "language": "python",
   "name": "python3"
  },
  "language_info": {
   "codemirror_mode": {
    "name": "ipython",
    "version": 3
   },
   "file_extension": ".py",
   "mimetype": "text/x-python",
   "name": "python",
   "nbconvert_exporter": "python",
   "pygments_lexer": "ipython3",
   "version": "3.10.13"
  }
 },
 "nbformat": 4,
 "nbformat_minor": 2
}
