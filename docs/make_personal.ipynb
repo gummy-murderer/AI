{
 "cells": [
  {
   "cell_type": "code",
   "execution_count": 15,
   "metadata": {},
   "outputs": [],
   "source": [
    "import json\n",
    "import random"
   ]
  },
  {
   "cell_type": "code",
   "execution_count": 38,
   "metadata": {},
   "outputs": [],
   "source": [
    "with open('../resources/data/npcFeature.json', 'r', encoding='utf-8') as file:\n",
    "    features = json.load(file)\n",
    "with open('../resources/data/npcPersonality.json', 'r', encoding='utf-8') as file:\n",
    "    personalities = json.load(file)"
   ]
  },
  {
   "cell_type": "code",
   "execution_count": 39,
   "metadata": {},
   "outputs": [],
   "source": [
    "feature_list = list(features[\"npcFeature\"].keys())\n",
    "personality_list = list(personalities[\"npcPersonality\"].keys())"
   ]
  },
  {
   "cell_type": "code",
   "execution_count": 40,
   "metadata": {},
   "outputs": [
    {
     "name": "stdout",
     "output_type": "stream",
     "text": [
      "['npcFeature3', 'npcFeature2', 'npcFeature8']\n",
      "['npcArrogant', 'npcCunning', 'npcMysterious']\n"
     ]
    }
   ],
   "source": [
    "npc_num = 3\n",
    "selected_features = random.sample(feature_list, npc_num)\n",
    "selected_personalities = random.sample(personality_list, npc_num)\n",
    "\n",
    "# 선택된 요소를 랜덤하게 섞기\n",
    "random.shuffle(selected_features)\n",
    "random.shuffle(selected_personalities)\n",
    "\n",
    "# 결과 출력\n",
    "print(selected_features)\n",
    "print(selected_personalities)"
   ]
  },
  {
   "cell_type": "code",
   "execution_count": 32,
   "metadata": {},
   "outputs": [
    {
     "ename": "TypeError",
     "evalue": "unhashable type: 'dict'",
     "output_type": "error",
     "traceback": [
      "\u001b[1;31m---------------------------------------------------------------------------\u001b[0m",
      "\u001b[1;31mTypeError\u001b[0m                                 Traceback (most recent call last)",
      "Cell \u001b[1;32mIn[32], line 1\u001b[0m\n\u001b[1;32m----> 1\u001b[0m {{\u001b[38;5;124m\"\u001b[39m\u001b[38;5;124mnpcName\u001b[39m\u001b[38;5;124m\"\u001b[39m: \u001b[38;5;124mf\u001b[39m\u001b[38;5;124m\"\u001b[39m\u001b[38;5;124mnpc\u001b[39m\u001b[38;5;132;01m{\u001b[39;00midx\u001b[38;5;132;01m}\u001b[39;00m\u001b[38;5;124m\"\u001b[39m, \u001b[38;5;124m\"\u001b[39m\u001b[38;5;124mFeature\u001b[39m\u001b[38;5;124m\"\u001b[39m: features[\u001b[38;5;124m\"\u001b[39m\u001b[38;5;124mnpcFeature\u001b[39m\u001b[38;5;124m\"\u001b[39m][i]} \u001b[38;5;28;01mfor\u001b[39;00m idx, (i, j) \u001b[38;5;129;01min\u001b[39;00m \u001b[38;5;28menumerate\u001b[39m(\u001b[38;5;28mzip\u001b[39m(selected_features, selected_personalites))}\n",
      "Cell \u001b[1;32mIn[32], line 1\u001b[0m, in \u001b[0;36m<setcomp>\u001b[1;34m(.0)\u001b[0m\n\u001b[1;32m----> 1\u001b[0m {{\u001b[38;5;124m\"\u001b[39m\u001b[38;5;124mnpcName\u001b[39m\u001b[38;5;124m\"\u001b[39m: \u001b[38;5;124mf\u001b[39m\u001b[38;5;124m\"\u001b[39m\u001b[38;5;124mnpc\u001b[39m\u001b[38;5;132;01m{\u001b[39;00midx\u001b[38;5;132;01m}\u001b[39;00m\u001b[38;5;124m\"\u001b[39m, \u001b[38;5;124m\"\u001b[39m\u001b[38;5;124mFeature\u001b[39m\u001b[38;5;124m\"\u001b[39m: features[\u001b[38;5;124m\"\u001b[39m\u001b[38;5;124mnpcFeature\u001b[39m\u001b[38;5;124m\"\u001b[39m][i]} \u001b[38;5;28;01mfor\u001b[39;00m idx, (i, j) \u001b[38;5;129;01min\u001b[39;00m \u001b[38;5;28menumerate\u001b[39m(\u001b[38;5;28mzip\u001b[39m(selected_features, selected_personalites))}\n",
      "\u001b[1;31mTypeError\u001b[0m: unhashable type: 'dict'"
     ]
    }
   ],
   "source": [
    "{{\"npcName\": f\"npc{idx}\", \"Feature\": features[\"npcFeature\"][i], \"Personality\": personalites[\"npcPersonality\"][j]} for idx, (i, j) in enumerate(zip(selected_features, selected_personalites))}"
   ]
  },
  {
   "cell_type": "code",
   "execution_count": 41,
   "metadata": {},
   "outputs": [
    {
     "name": "stdout",
     "output_type": "stream",
     "text": [
      "[{'npcName': 'npc0', 'Feature': {'Type': '배경 지정', 'Feature': '떠돌이', 'Description': '여러 마을을 떠돌아 다니는 떠돌이임'}, 'Personality': {'Personality': '오만함', 'Description': '자만심이 강하고 타인을 깔보는 경향이 있음'}}, {'npcName': 'npc1', 'Feature': {'Type': '말투 변경', 'Feature': '뮤지션', 'Description': '노래를 부르듯이 대답해야 함'}, 'Personality': {'Personality': '교활함', 'Description': '기민하고 때로는 속임수를 쓰며 목적을 달성함'}}, {'npcName': 'npc2', 'Feature': {'Type': '행동 습관', 'Feature': '야행성', 'Description': '밤에 활동하는 것을 선호하며 낮에는 거의 보이지 않음'}, 'Personality': {'Personality': '신비로움', 'Description': '알 수 없는 매력과 비밀스러운 분위기를 가짐'}}]\n"
     ]
    }
   ],
   "source": [
    "npcs = [{\"npcName\": f\"npc{idx}\", \"Feature\": features[\"npcFeature\"][i], \"Personality\": personalities[\"npcPersonality\"][j]} for idx, (i, j) in enumerate(zip(selected_features, selected_personalities))]\n",
    "\n",
    "# 결과 출력\n",
    "print(npcs)"
   ]
  },
  {
   "cell_type": "code",
   "execution_count": null,
   "metadata": {},
   "outputs": [],
   "source": []
  }
 ],
 "metadata": {
  "kernelspec": {
   "display_name": "murderer",
   "language": "python",
   "name": "python3"
  },
  "language_info": {
   "codemirror_mode": {
    "name": "ipython",
    "version": 3
   },
   "file_extension": ".py",
   "mimetype": "text/x-python",
   "name": "python",
   "nbconvert_exporter": "python",
   "pygments_lexer": "ipython3",
   "version": "3.10.13"
  }
 },
 "nbformat": 4,
 "nbformat_minor": 2
}
