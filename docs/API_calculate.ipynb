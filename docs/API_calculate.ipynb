{
 "cells": [
  {
   "cell_type": "code",
   "execution_count": 64,
   "metadata": {},
   "outputs": [],
   "source": [
    "import requests\n",
    "import time\n",
    "from IPython.display import display, Markdown"
   ]
  },
  {
   "cell_type": "code",
   "execution_count": 65,
   "metadata": {},
   "outputs": [],
   "source": [
    "base_url = \"http://127.0.0.1:8000\""
   ]
  },
  {
   "cell_type": "code",
   "execution_count": 66,
   "metadata": {},
   "outputs": [],
   "source": [
    "def dict_to_markdown_table(data):\n",
    "    markdown_table = \"| Key | Value |\\n| --- | --- |\\n\"\n",
    "    for key, value in data.items():\n",
    "        markdown_table += f\"| {key} | {value} |\\n\"\n",
    "    return markdown_table"
   ]
  },
  {
   "cell_type": "code",
   "execution_count": 83,
   "metadata": {},
   "outputs": [],
   "source": [
    "def API_calculate(data, url):\n",
    "    start_time = time.time()\n",
    "\n",
    "    response = requests.post(url, json=data)\n",
    "\n",
    "    end_time = time.time()\n",
    "    execution_time = round(end_time - start_time, 3)\n",
    "\n",
    "    anwser = eval(response.text)\n",
    "    anwser['answer']['totalTokens'] = anwser['tokens']['totalTokens']\n",
    "    anwser['answer']['promptTokens'] = anwser['tokens']['promptTokens']\n",
    "    anwser['answer']['completionTokens'] = anwser['tokens']['completionTokens']\n",
    "    anwser['answer']['executionTime'] = execution_time\n",
    "\n",
    "    markdown_table = dict_to_markdown_table(anwser['answer'])\n",
    "\n",
    "    return anwser, markdown_table"
   ]
  },
  {
   "cell_type": "markdown",
   "metadata": {},
   "source": [
    "### /api/scenario/generate_intro"
   ]
  },
  {
   "cell_type": "code",
   "execution_count": 71,
   "metadata": {},
   "outputs": [
    {
     "name": "stdout",
     "output_type": "stream",
     "text": [
      "totalTokens_list: [1109, 1081, 1125, 1109, 1099, 1094, 1116, 1110, 1083, 1097]\n",
      "prompt_tokens_list: [887, 887, 887, 887, 887, 887, 887, 887, 887, 887]\n",
      "completion_tokens_list: [222, 194, 238, 222, 212, 207, 229, 223, 196, 210]\n",
      "executionTime_list: [23.017, 9.412, 12.92, 29.843, 22.296, 16.648, 9.46, 24.666, 10.983, 14.065]\n"
     ]
    }
   ],
   "source": [
    "data = {\n",
    "  \"gameNo\": 0,\n",
    "  \"secretKey\": \"string\",\n",
    "  \"Characters\": [\n",
    "    \"string\"\n",
    "  ]\n",
    "}\n",
    "\n",
    "api_name = \"/api/scenario/generate_intro\"\n",
    "url = base_url + api_name\n",
    "\n",
    "cnt = 10\n",
    "\n",
    "totalTokens_list = []\n",
    "prompt_tokens_list = []\n",
    "completion_tokens_list = []\n",
    "executionTime_list = []\n",
    "for i in range(cnt):\n",
    "    anwser, markdown_table = API_calculate(data, url)\n",
    "    totalTokens_list.append(anwser['answer']['totalTokens'])\n",
    "    prompt_tokens_list.append(anwser['answer']['promptTokens'])\n",
    "    completion_tokens_list.append(anwser['answer']['completionTokens'])\n",
    "    executionTime_list.append(anwser['answer']['executionTime'])\n",
    "    # display(Markdown(markdown_table))\n",
    "    # print(markdown_table)\n",
    "\n",
    "print(f\"totalTokens_list: {totalTokens_list}\")\n",
    "print(f\"prompt_tokens_list: {prompt_tokens_list}\")\n",
    "print(f\"completion_tokens_list: {completion_tokens_list}\")\n",
    "print(f\"executionTime_list: {executionTime_list}\")"
   ]
  },
  {
   "cell_type": "code",
   "execution_count": 72,
   "metadata": {},
   "outputs": [
    {
     "data": {
      "text/markdown": [
       "| Key | Value |\n",
       "| --- | --- |\n",
       "| API name | /api/scenario/generate_intro |\n",
       "| cnt | 10 |\n",
       "| promptTokens  | 887 |\n",
       "| min completionTokens  | 194 |\n",
       "| max completionTokens  | 238 |\n",
       "| avg completionTokens  | 215.3 |\n",
       "| avg totalTokens | 1102.3 |\n",
       "| min executionTime | 9.412 |\n",
       "| max executionTime | 29.843 |\n",
       "| avg executionTime | 17.331 |\n"
      ],
      "text/plain": [
       "<IPython.core.display.Markdown object>"
      ]
     },
     "metadata": {},
     "output_type": "display_data"
    }
   ],
   "source": [
    "result = {\n",
    "    \"API name\": api_name,\n",
    "    \"cnt\": cnt,\n",
    "    \"promptTokens \": min(prompt_tokens_list),\n",
    "    \"min completionTokens \": min(completion_tokens_list),\n",
    "    \"max completionTokens \": max(completion_tokens_list),\n",
    "    \"avg completionTokens \": sum(completion_tokens_list) / len(totalTokens_list),\n",
    "    \"avg totalTokens\": sum(totalTokens_list) / len(totalTokens_list),\n",
    "    \"min executionTime\": min(executionTime_list),\n",
    "    \"max executionTime\": max(executionTime_list),\n",
    "    \"avg executionTime\": round(sum(executionTime_list) / len(executionTime_list), 3)\n",
    "}\n",
    "markdown_table = dict_to_markdown_table(result)\n",
    "display(Markdown(markdown_table))"
   ]
  },
  {
   "cell_type": "markdown",
   "metadata": {},
   "source": [
    "### /api/scenario/generate_victim"
   ]
  },
  {
   "cell_type": "code",
   "execution_count": 74,
   "metadata": {},
   "outputs": [
    {
     "name": "stdout",
     "output_type": "stream",
     "text": [
      "totalTokens_list: [2473, 2452, 2535, 2436, 2555, 2521, 2566, 2446, 2505, 2560]\n",
      "prompt_tokens_list: [2204, 2204, 2204, 2204, 2204, 2204, 2204, 2204, 2204, 2204]\n",
      "completion_tokens_list: [269, 248, 331, 232, 351, 317, 362, 242, 301, 356]\n",
      "executionTime_list: [10.187, 32.618, 36.512, 31.029, 15.205, 14.863, 44.278, 33.973, 35.131, 21.537]\n"
     ]
    }
   ],
   "source": [
    "data = {\n",
    "  \"gameNo\": 0,\n",
    "  \"secretKey\": \"string\",\n",
    "  \"day\": 0,\n",
    "  \"murderer\": \"Lena\",\n",
    "  \"livingCharacters\": [\n",
    "    \"Yoonju\", \"TaegunTV\", \"ZzanZzanYoung\", \"Dongsik\", \"KoongYa\", \"Ash\"\n",
    "  ],\n",
    "  \"previousStory\": \"string\"\n",
    "}\n",
    "\n",
    "api_name = \"/api/scenario/generate_victim\"\n",
    "url = base_url + api_name\n",
    "\n",
    "cnt = 10\n",
    "\n",
    "totalTokens_list = []\n",
    "prompt_tokens_list = []\n",
    "completion_tokens_list = []\n",
    "executionTime_list = []\n",
    "for i in range(cnt):\n",
    "    anwser, markdown_table = API_calculate(data, url)\n",
    "    totalTokens_list.append(anwser['answer']['totalTokens'])\n",
    "    prompt_tokens_list.append(anwser['answer']['promptTokens'])\n",
    "    completion_tokens_list.append(anwser['answer']['completionTokens'])\n",
    "    executionTime_list.append(anwser['answer']['executionTime'])\n",
    "    # display(Markdown(markdown_table))\n",
    "    # print(markdown_table)\n",
    "\n",
    "print(f\"totalTokens_list: {totalTokens_list}\")\n",
    "print(f\"prompt_tokens_list: {prompt_tokens_list}\")\n",
    "print(f\"completion_tokens_list: {completion_tokens_list}\")\n",
    "print(f\"executionTime_list: {executionTime_list}\")"
   ]
  },
  {
   "cell_type": "code",
   "execution_count": 75,
   "metadata": {},
   "outputs": [
    {
     "data": {
      "text/markdown": [
       "| Key | Value |\n",
       "| --- | --- |\n",
       "| API name | /api/scenario/generate_victim |\n",
       "| cnt | 10 |\n",
       "| promptTokens  | 2204 |\n",
       "| min completionTokens  | 232 |\n",
       "| max completionTokens  | 362 |\n",
       "| avg completionTokens  | 300.9 |\n",
       "| avg totalTokens | 2504.9 |\n",
       "| min executionTime | 10.187 |\n",
       "| max executionTime | 44.278 |\n",
       "| avg executionTime | 27.533299999999997 |\n"
      ],
      "text/plain": [
       "<IPython.core.display.Markdown object>"
      ]
     },
     "metadata": {},
     "output_type": "display_data"
    }
   ],
   "source": [
    "result = {\n",
    "    \"API name\": api_name,\n",
    "    \"cnt\": cnt,\n",
    "    \"promptTokens \": min(prompt_tokens_list),\n",
    "    \"min completionTokens \": min(completion_tokens_list),\n",
    "    \"max completionTokens \": max(completion_tokens_list),\n",
    "    \"avg completionTokens \": sum(completion_tokens_list) / len(totalTokens_list),\n",
    "    \"avg totalTokens\": sum(totalTokens_list) / len(totalTokens_list),\n",
    "    \"min executionTime\": min(executionTime_list),\n",
    "    \"max executionTime\": max(executionTime_list),\n",
    "    \"avg executionTime\": sum(executionTime_list) / len(executionTime_list)\n",
    "}\n",
    "markdown_table = dict_to_markdown_table(result)\n",
    "display(Markdown(markdown_table))"
   ]
  },
  {
   "cell_type": "markdown",
   "metadata": {},
   "source": [
    "### /api/scenario/generate_final_words"
   ]
  },
  {
   "cell_type": "code",
   "execution_count": 77,
   "metadata": {},
   "outputs": [
    {
     "name": "stdout",
     "output_type": "stream",
     "text": [
      "totalTokens_list: [1147, 1154, 1165, 1150, 1154, 1127, 1144, 1143, 1159, 1167]\n",
      "prompt_tokens_list: [1031, 1031, 1031, 1031, 1031, 1031, 1031, 1031, 1031, 1031]\n",
      "completion_tokens_list: [116, 123, 134, 119, 123, 96, 113, 112, 128, 136]\n",
      "executionTime_list: [10.618, 15.26, 16.541, 13.85, 5.367, 15.884, 8.597, 12.319, 7.055, 13.615]\n"
     ]
    }
   ],
   "source": [
    "data = {\n",
    "  \"gameNo\": 0,\n",
    "  \"secretKey\": \"string\",\n",
    "  \"result\": \"victory\",\n",
    "  \"murderer\": \"Lena\",\n",
    "  \"livingCharacters\": [\n",
    "    \"string\"\n",
    "  ],\n",
    "  \"previousStory\": \"string\"\n",
    "}\n",
    "\n",
    "api_name = \"/api/scenario/generate_final_words\"\n",
    "url = base_url + api_name\n",
    "\n",
    "cnt = 10\n",
    "\n",
    "totalTokens_list = []\n",
    "prompt_tokens_list = []\n",
    "completion_tokens_list = []\n",
    "executionTime_list = []\n",
    "for i in range(cnt):\n",
    "    anwser, markdown_table = API_calculate(data, url)\n",
    "    totalTokens_list.append(anwser['answer']['totalTokens'])\n",
    "    prompt_tokens_list.append(anwser['answer']['promptTokens'])\n",
    "    completion_tokens_list.append(anwser['answer']['completionTokens'])\n",
    "    executionTime_list.append(anwser['answer']['executionTime'])\n",
    "    # display(Markdown(markdown_table))\n",
    "    # print(markdown_table)\n",
    "\n",
    "print(f\"totalTokens_list: {totalTokens_list}\")\n",
    "print(f\"prompt_tokens_list: {prompt_tokens_list}\")\n",
    "print(f\"completion_tokens_list: {completion_tokens_list}\")\n",
    "print(f\"executionTime_list: {executionTime_list}\")"
   ]
  },
  {
   "cell_type": "code",
   "execution_count": 78,
   "metadata": {},
   "outputs": [
    {
     "data": {
      "text/markdown": [
       "| Key | Value |\n",
       "| --- | --- |\n",
       "| API name | /api/scenario/generate_final_words |\n",
       "| cnt | 10 |\n",
       "| promptTokens  | 1031 |\n",
       "| min completionTokens  | 96 |\n",
       "| max completionTokens  | 136 |\n",
       "| avg completionTokens  | 120.0 |\n",
       "| avg totalTokens | 1151.0 |\n",
       "| min executionTime | 5.367 |\n",
       "| max executionTime | 16.541 |\n",
       "| avg executionTime | 11.910599999999999 |\n"
      ],
      "text/plain": [
       "<IPython.core.display.Markdown object>"
      ]
     },
     "metadata": {},
     "output_type": "display_data"
    }
   ],
   "source": [
    "result = {\n",
    "    \"API name\": api_name,\n",
    "    \"cnt\": cnt,\n",
    "    \"promptTokens \": min(prompt_tokens_list),\n",
    "    \"min completionTokens \": min(completion_tokens_list),\n",
    "    \"max completionTokens \": max(completion_tokens_list),\n",
    "    \"avg completionTokens \": sum(completion_tokens_list) / len(totalTokens_list),\n",
    "    \"avg totalTokens\": sum(totalTokens_list) / len(totalTokens_list),\n",
    "    \"min executionTime\": min(executionTime_list),\n",
    "    \"max executionTime\": max(executionTime_list),\n",
    "    \"avg executionTime\": sum(executionTime_list) / len(executionTime_list)\n",
    "}\n",
    "markdown_table = dict_to_markdown_table(result)\n",
    "display(Markdown(markdown_table))"
   ]
  },
  {
   "cell_type": "markdown",
   "metadata": {},
   "source": [
    "### /api/user/conversation_with_user"
   ]
  },
  {
   "cell_type": "code",
   "execution_count": 102,
   "metadata": {},
   "outputs": [],
   "source": [
    "def API_calculate_2(data, url):\n",
    "    start_time = time.time()\n",
    "\n",
    "    response = requests.post(url, json=data)\n",
    "\n",
    "    end_time = time.time()\n",
    "    execution_time = round(end_time - start_time, 3)\n",
    "    \n",
    "    anwser = eval(response.text)\n",
    "    anwser['totalTokens'] = anwser['tokens']['totalTokens']\n",
    "    anwser['promptTokens'] = anwser['tokens']['promptTokens']\n",
    "    anwser['completionTokens'] = anwser['tokens']['completionTokens']\n",
    "    anwser['executionTime'] = execution_time\n",
    "    del anwser['tokens']\n",
    "\n",
    "    markdown_table = dict_to_markdown_table(anwser)\n",
    "\n",
    "    return anwser, markdown_table"
   ]
  },
  {
   "cell_type": "code",
   "execution_count": 99,
   "metadata": {},
   "outputs": [
    {
     "name": "stdout",
     "output_type": "stream",
     "text": [
      "<class 'dict'>\n",
      "{'chatContent': '저는 애쉬라고 해요, 이 마을에서 가장 재치 있는 젤리곰이죠. 누구보다 잘 웃기고, 심지어 농담 하나로 하루를 즐겁게 할 자신 있어요!', 'tokens': {'totalTokens': 1088, 'promptTokens': 1013, 'completionTokens': 75, 'totalCost(USD)': '$0.012379999999999999'}}\n",
      "<class 'dict'>\n",
      "{'chatContent': '저는 애쉬라고 해요, 마을에서 장난감 가게를 운영하죠. 재미있는 이야기가 필요하다면 언제든 저를 찾으세요!', 'tokens': {'totalTokens': 1074, 'promptTokens': 1013, 'completionTokens': 61, 'totalCost(USD)': '$0.011959999999999998'}}\n",
      "<class 'dict'>\n",
      "{'chatContent': '저는 애쉬라고 해요, 마을에서 가장 유쾌한 젤리곰이죠. 여기서 태어나 쭈욱 살아왔어요. 그런데, 당신은 우리 마을에 어떻게 오게 된 거죠?', 'tokens': {'totalTokens': 1100, 'promptTokens': 1013, 'completionTokens': 87, 'totalCost(USD)': '$0.012739999999999998'}}\n",
      "<class 'dict'>\n",
      "{'chatContent': '저요? 마을의 장난꾸러기 애쉬라고 해요. 사람들이 저를 보면 항상 웃음이 난다고 하죠. 뭐, 그만큼 제 농담이 살인적이라는 거겠죠?', 'tokens': {'totalTokens': 1095, 'promptTokens': 1013, 'completionTokens': 82, 'totalCost(USD)': '$0.012589999999999999'}}\n",
      "<class 'dict'>\n",
      "{'chatContent': '저는 애쉬라고 해요. 젤리곰 마을에서 가장 웃음이 넘치는 곰이죠. 뭐, 여기서 제 농담을 못 들어본 이는 거의 없을 거예요.', 'tokens': {'totalTokens': 1084, 'promptTokens': 1013, 'completionTokens': 71, 'totalCost(USD)': '$0.012259999999999998'}}\n",
      "<class 'dict'>\n",
      "{'chatContent': '저요? 저는 애쉬라고 합니다. 여기 마을에서 제과점을 운영하죠. 달콤한 케이크가 필요하시면 언제든지 저를 찾아주세요!', 'tokens': {'totalTokens': 1079, 'promptTokens': 1013, 'completionTokens': 66, 'totalCost(USD)': '$0.01211'}}\n",
      "<class 'dict'>\n",
      "{'chatContent': '애쉬: 저요? 젤리곰 마을에서 가장 웃음이 많은 애쉬라고 해요. 어떤 사건이든 한 방에 웃음으로 날려버리죠!', 'tokens': {'totalTokens': 1077, 'promptTokens': 1013, 'completionTokens': 64, 'totalCost(USD)': '$0.012049999999999998'}}\n",
      "<class 'dict'>\n",
      "{'chatContent': '저는 애쉬라고 해요, 마을에서 장난감 가게를 운영하죠. 사람들이 웃는 걸 보는 게 취미에요, 그래서 농담도 자주 치게 되죠.', 'tokens': {'totalTokens': 1085, 'promptTokens': 1013, 'completionTokens': 72, 'totalCost(USD)': '$0.012289999999999999'}}\n",
      "<class 'dict'>\n",
      "{'chatContent': '애쉬: 저는 애쉬라고 해요, 마을에서 제일 유쾌한 젤리곰이죠. 사람들이 제 농담 하나하나에 웃어줄 때마다, 제 마음도 젤리처럼 달콤해진답니다!', 'tokens': {'totalTokens': 1100, 'promptTokens': 1013, 'completionTokens': 87, 'totalCost(USD)': '$0.012739999999999998'}}\n",
      "<class 'dict'>\n",
      "{'chatContent': '저는 애쉬라고 해요. 마을에서 재미있는 이야기꾼으로 소문난 젤리곰이죠. 무슨 일로 찾아오셨나요, 탐정님?', 'tokens': {'totalTokens': 1078, 'promptTokens': 1013, 'completionTokens': 65, 'totalCost(USD)': '$0.012079999999999999'}}\n",
      "totalTokens_list: [1088, 1074, 1100, 1095, 1084, 1079, 1077, 1085, 1100, 1078]\n",
      "prompt_tokens_list: [1013, 1013, 1013, 1013, 1013, 1013, 1013, 1013, 1013, 1013]\n",
      "completion_tokens_list: [75, 61, 87, 82, 71, 66, 64, 72, 87, 65]\n",
      "executionTime_list: [7.752, 5.48, 7.463, 15.311, 4.972, 6.393, 6.571, 6.706, 7.305, 7.555]\n"
     ]
    }
   ],
   "source": [
    "data = {\n",
    "  \"gameNo\": 0,\n",
    "  \"secretKey\": \"string\",\n",
    "  \"sender\": \"string\",\n",
    "  \"receiver\": \"Ash\",\n",
    "  \"chatContent\": \"넌 누구니?\",\n",
    "  \"chatDay\": 0,\n",
    "  \"previousStory\": \"string\",\n",
    "  \"previousChatContents\": [\n",
    "  ]\n",
    "}\n",
    "\n",
    "api_name = \"/api/user/conversation_with_user\"\n",
    "url = base_url + api_name\n",
    "\n",
    "cnt = 10\n",
    "\n",
    "totalTokens_list = []\n",
    "prompt_tokens_list = []\n",
    "completion_tokens_list = []\n",
    "executionTime_list = []\n",
    "for i in range(cnt):\n",
    "    anwser, markdown_table = API_calculate_2(data, url)\n",
    "    totalTokens_list.append(anwser['totalTokens'])\n",
    "    prompt_tokens_list.append(anwser['promptTokens'])\n",
    "    completion_tokens_list.append(anwser['completionTokens'])\n",
    "    executionTime_list.append(anwser['executionTime'])\n",
    "    # display(Markdown(markdown_table))\n",
    "    # print(markdown_table)\n",
    "\n",
    "print(f\"totalTokens_list: {totalTokens_list}\")\n",
    "print(f\"prompt_tokens_list: {prompt_tokens_list}\")\n",
    "print(f\"completion_tokens_list: {completion_tokens_list}\")\n",
    "print(f\"executionTime_list: {executionTime_list}\")"
   ]
  },
  {
   "cell_type": "code",
   "execution_count": 101,
   "metadata": {},
   "outputs": [
    {
     "data": {
      "text/markdown": [
       "| Key | Value |\n",
       "| --- | --- |\n",
       "| API name | /api/user/conversation_with_user |\n",
       "| cnt | 10 |\n",
       "| promptTokens  | 1013 |\n",
       "| min completionTokens  | 61 |\n",
       "| max completionTokens  | 87 |\n",
       "| avg completionTokens  | 73.0 |\n",
       "| avg totalTokens | 1086.0 |\n",
       "| min executionTime | 4.972 |\n",
       "| max executionTime | 15.311 |\n",
       "| avg executionTime | 7.550800000000001 |\n"
      ],
      "text/plain": [
       "<IPython.core.display.Markdown object>"
      ]
     },
     "metadata": {},
     "output_type": "display_data"
    }
   ],
   "source": [
    "result = {\n",
    "    \"API name\": api_name,\n",
    "    \"cnt\": cnt,\n",
    "    \"promptTokens \": min(prompt_tokens_list),\n",
    "    \"min completionTokens \": min(completion_tokens_list),\n",
    "    \"max completionTokens \": max(completion_tokens_list),\n",
    "    \"avg completionTokens \": sum(completion_tokens_list) / len(totalTokens_list),\n",
    "    \"avg totalTokens\": sum(totalTokens_list) / len(totalTokens_list),\n",
    "    \"min executionTime\": min(executionTime_list),\n",
    "    \"max executionTime\": max(executionTime_list),\n",
    "    \"avg executionTime\": sum(executionTime_list) / len(executionTime_list)\n",
    "}\n",
    "markdown_table = dict_to_markdown_table(result)\n",
    "display(Markdown(markdown_table))"
   ]
  },
  {
   "cell_type": "markdown",
   "metadata": {},
   "source": [
    "### /api/user/conversation_between_npcs"
   ]
  },
  {
   "cell_type": "code",
   "execution_count": 103,
   "metadata": {},
   "outputs": [
    {
     "name": "stdout",
     "output_type": "stream",
     "text": [
      "totalTokens_list: [1569, 1615, 1708, 1682, 1627, 1641, 1657, 1619, 1724, 1697]\n",
      "prompt_tokens_list: [1156, 1156, 1156, 1156, 1156, 1156, 1156, 1156, 1156, 1156]\n",
      "completion_tokens_list: [413, 459, 552, 526, 471, 485, 501, 463, 568, 541]\n",
      "executionTime_list: [48.107, 65.827, 40.12, 26.726, 53.542, 44.331, 30.031, 21.526, 57.549, 60.791]\n"
     ]
    }
   ],
   "source": [
    "data = {\n",
    "  \"gameNo\": 0,\n",
    "  \"secretKey\": \"string\",\n",
    "  \"sender\": \"string\",\n",
    "  \"npcName1\": \"Ash\",\n",
    "  \"npcName2\": \"Lena\",\n",
    "  \"chatDay\": 0,\n",
    "  \"previousStory\": \"\"\n",
    "}\n",
    "\n",
    "api_name = \"/api/user/conversation_between_npcs\"\n",
    "url = base_url + api_name\n",
    "\n",
    "cnt = 10\n",
    "\n",
    "totalTokens_list = []\n",
    "prompt_tokens_list = []\n",
    "completion_tokens_list = []\n",
    "executionTime_list = []\n",
    "for i in range(cnt):\n",
    "    anwser, markdown_table = API_calculate_2(data, url)\n",
    "    totalTokens_list.append(anwser['totalTokens'])\n",
    "    prompt_tokens_list.append(anwser['promptTokens'])\n",
    "    completion_tokens_list.append(anwser['completionTokens'])\n",
    "    executionTime_list.append(anwser['executionTime'])\n",
    "    # display(Markdown(markdown_table))\n",
    "    # print(markdown_table)\n",
    "\n",
    "print(f\"totalTokens_list: {totalTokens_list}\")\n",
    "print(f\"prompt_tokens_list: {prompt_tokens_list}\")\n",
    "print(f\"completion_tokens_list: {completion_tokens_list}\")\n",
    "print(f\"executionTime_list: {executionTime_list}\")"
   ]
  },
  {
   "cell_type": "code",
   "execution_count": 104,
   "metadata": {},
   "outputs": [
    {
     "data": {
      "text/markdown": [
       "| Key | Value |\n",
       "| --- | --- |\n",
       "| API name | /api/user/conversation_between_npcs |\n",
       "| cnt | 10 |\n",
       "| promptTokens  | 1156 |\n",
       "| min completionTokens  | 413 |\n",
       "| max completionTokens  | 568 |\n",
       "| avg completionTokens  | 497.9 |\n",
       "| avg totalTokens | 1653.9 |\n",
       "| min executionTime | 21.526 |\n",
       "| max executionTime | 65.827 |\n",
       "| avg executionTime | 44.855000000000004 |\n"
      ],
      "text/plain": [
       "<IPython.core.display.Markdown object>"
      ]
     },
     "metadata": {},
     "output_type": "display_data"
    }
   ],
   "source": [
    "result = {\n",
    "    \"API name\": api_name,\n",
    "    \"cnt\": cnt,\n",
    "    \"promptTokens \": min(prompt_tokens_list),\n",
    "    \"min completionTokens \": min(completion_tokens_list),\n",
    "    \"max completionTokens \": max(completion_tokens_list),\n",
    "    \"avg completionTokens \": sum(completion_tokens_list) / len(totalTokens_list),\n",
    "    \"avg totalTokens\": sum(totalTokens_list) / len(totalTokens_list),\n",
    "    \"min executionTime\": min(executionTime_list),\n",
    "    \"max executionTime\": max(executionTime_list),\n",
    "    \"avg executionTime\": sum(executionTime_list) / len(executionTime_list)\n",
    "}\n",
    "markdown_table = dict_to_markdown_table(result)\n",
    "display(Markdown(markdown_table))"
   ]
  },
  {
   "cell_type": "code",
   "execution_count": null,
   "metadata": {},
   "outputs": [],
   "source": []
  },
  {
   "cell_type": "code",
   "execution_count": null,
   "metadata": {},
   "outputs": [],
   "source": []
  },
  {
   "cell_type": "code",
   "execution_count": null,
   "metadata": {},
   "outputs": [],
   "source": []
  },
  {
   "cell_type": "code",
   "execution_count": null,
   "metadata": {},
   "outputs": [],
   "source": []
  },
  {
   "cell_type": "code",
   "execution_count": 57,
   "metadata": {},
   "outputs": [
    {
     "data": {
      "text/markdown": [
       "| Key | Value |\n",
       "| --- | --- |\n",
       "| victim | 애쉬 |\n",
       "| crimeScene | LeftTree |\n",
       "| method | 칼 |\n",
       "| witness | 박윤주 |\n",
       "| eyewitnessInformation | 박윤주는 애쉬가 서쪽 마을 나무 밑에서 어둠 속에 한 젤리곰의 실루엣에게 접근하는 것을 목격했다고 말합니다. 그녀는 그 젤리곰이 김쿵야라고 확신할 순 없지만, 누군가가 애쉬에게 다가가던 것을 분명히 보았다고 합니다. 그녀는 또한 그 쪽에서 나는 은밀한 속삭임과 급한 발걸음 소리를 들었다고 말합니다. |\n",
       "| dailySummary | day 0: 젤리곰 마을에서 첫 번째 살인 사건이 발생했습니다. 피해자는 애쉬로, 서쪽 마을 나무 밑에서 칼에 찔려 살해된 채 발견되었습니다. 목격자 박윤주는 희미한 실루엣과 소음을 목격했다고 진술하였습니다. |\n",
       "| totalTokens | 2570 |\n",
       "| executionTime | 11.975 |\n"
      ],
      "text/plain": [
       "<IPython.core.display.Markdown object>"
      ]
     },
     "metadata": {},
     "output_type": "display_data"
    },
    {
     "data": {
      "text/markdown": [
       "| Key | Value |\n",
       "| --- | --- |\n",
       "| victim | 태근티비 |\n",
       "| crimeScene | UnderPig |\n",
       "| method | 칼 |\n",
       "| witness | 박윤주 |\n",
       "| eyewitnessInformation | 박윤주는 살해 당시 돼지 우리 근처에서 그림을 그리고 있었고, 멀리서 이상한 웃음소리를 들었다고 함. 해당 웃음소리가 살인자의 것일 수 있으며, 박윤주는 웃음소리의 방향에서 김쿵야가 빠르게 어딘가로 사라지는 모습을 목격함. |\n",
       "| dailySummary | day 0: 태근티비가 돼지 우리 근처에서 살해당함. 살해방법은 칼에 의한 것으로 보임. 목격자 박윤주는 이상한 웃음소리를 듣고 김쿵야가 현장에서 빠르게 떠나는 것을 보았다고 증언함. |\n",
       "| totalTokens | 2514 |\n",
       "| executionTime | 21.899 |\n"
      ],
      "text/plain": [
       "<IPython.core.display.Markdown object>"
      ]
     },
     "metadata": {},
     "output_type": "display_data"
    },
    {
     "data": {
      "text/markdown": [
       "| Key | Value |\n",
       "| --- | --- |\n",
       "| victim | 박윤주 |\n",
       "| crimeScene | Flower |\n",
       "| method | 칼 |\n",
       "| witness | 애쉬 |\n",
       "| eyewitnessInformation | 애쉬는 꽃 가게 근처를 지나가다가 희미한 실루엣을 목격했고, 그 실루엣이 칼을 들고 있는 것 같았다고 진술했습니다. 또한, 그는 피해자가 '김쿵야'라고 외치는 것을 들었다고 말했습니다. |\n",
       "| dailySummary | day 0에 젤리곰 마을의 꽃 가게에서 박윤주가 칼에 의해 살해당하는 사건이 발생했습니다. 목격자 애쉬는 칼을 든 실루엣을 보았고, 피해자가 '김쿵야'라고 외치는 것을 들었다고 합니다. |\n",
       "| totalTokens | 2487 |\n",
       "| executionTime | 25.46 |\n"
      ],
      "text/plain": [
       "<IPython.core.display.Markdown object>"
      ]
     },
     "metadata": {},
     "output_type": "display_data"
    },
    {
     "data": {
      "text/markdown": [
       "| Key | Value |\n",
       "| --- | --- |\n",
       "| victim | 박윤주 |\n",
       "| crimeScene | Flower |\n",
       "| method | 칼 |\n",
       "| witness | 애쉬 |\n",
       "| eyewitnessInformation | 애쉬는 박윤주가 꽃 가게를 방문했을 때, 김쿵야가 그녀를 뒤따라 들어오는 것을 보았다고 말합니다. 김쿵야는 평소에 장난꾸러기 성격으로 알려져 있지만, 그날은 이상하게도 진지한 표정이었고, 눈에 띄게 큰 안경을 착용하고 있었습니다. |\n",
       "| dailySummary | {'day': 0, 'description': '젤리곰 마을의 꽃 가게에서 박윤주가 살해당했습니다. 목격자인 애쉬는 김쿵야가 사건 현장 근처에 있었다고 증언했습니다.'} |\n",
       "| totalTokens | 2497 |\n",
       "| executionTime | 21.399 |\n"
      ],
      "text/plain": [
       "<IPython.core.display.Markdown object>"
      ]
     },
     "metadata": {},
     "output_type": "display_data"
    },
    {
     "data": {
      "text/markdown": [
       "| Key | Value |\n",
       "| --- | --- |\n",
       "| victim | 태근티비 |\n",
       "| crimeScene | UnderBridge |\n",
       "| method | 칼 |\n",
       "| witness | 애쉬 |\n",
       "| eyewitnessInformation | 애쉬는 밤 늦게 남쪽 다리 근처를 지나가다가, 멀리서 누군가가 칼을 휘두르는 모습을 목격했다고 말합니다. 그는 그 사람이 무언가 반짝이는 안경을 쓰고 있었다고 기억합니다. |\n",
       "| dailySummary | day 0: 젤리곰 마을에서 첫 번째 살인 사건이 발생했습니다. 피해자는 태근티비로, 남쪽 다리 아래에서 칼에 찔려 살해된 채 발견되었습니다. 목격자는 밤 늦게 사건 현장 부근을 지나가다가 멀리서 누군가 칼을 휘두르는 것을 보았다고 진술하였습니다. |\n",
       "| totalTokens | 2517 |\n",
       "| executionTime | 24.701 |\n"
      ],
      "text/plain": [
       "<IPython.core.display.Markdown object>"
      ]
     },
     "metadata": {},
     "output_type": "display_data"
    },
    {
     "data": {
      "text/markdown": [
       "| Key | Value |\n",
       "| --- | --- |\n",
       "| victim | 태근티비 |\n",
       "| crimeScene | Beach |\n",
       "| method | 칼 |\n",
       "| witness | 박윤주 |\n",
       "| eyewitnessInformation | 박윤주는 해변에서 멀리서 누군가가 태근티비에게 접근하는 것을 보았으며, 범인의 키가 작고 마술사처럼 보이는 모자를 쓴 것을 목격했다고 합니다. |\n",
       "| dailySummary | day 0에 태근티비가 해변에서 칼에 찔려 살해되었습니다. 목격자는 박윤주로, 해변에서 범행을 목격했으며, 작은 키에 마술사 모자를 쓴 사람이 접근하는 것을 봤다고 합니다. |\n",
       "| totalTokens | 2458 |\n",
       "| executionTime | 19.833 |\n"
      ],
      "text/plain": [
       "<IPython.core.display.Markdown object>"
      ]
     },
     "metadata": {},
     "output_type": "display_data"
    },
    {
     "data": {
      "text/markdown": [
       "| Key | Value |\n",
       "| --- | --- |\n",
       "| victim | 태근티비 |\n",
       "| crimeScene | UnderBridge |\n",
       "| method | 칼 |\n",
       "| witness | 애쉬 |\n",
       "| eyewitnessInformation | 남쪽 다리 근처에서 이상한 소리를 들었고, 잠시 후에 김쿵야가 빠르게 현장을 떠나는 것을 보았다. |\n",
       "| dailySummary | day 0: 태근티비가 남쪽 다리에서 칼에 찔려 살해당했다. 목격자 애쉬는 김쿵야가 현장을 빠르게 떠나는 것을 보았다고 증언했다. |\n",
       "| totalTokens | 2421 |\n",
       "| executionTime | 21.14 |\n"
      ],
      "text/plain": [
       "<IPython.core.display.Markdown object>"
      ]
     },
     "metadata": {},
     "output_type": "display_data"
    },
    {
     "data": {
      "text/markdown": [
       "| Key | Value |\n",
       "| --- | --- |\n",
       "| victim | 태근티비 |\n",
       "| crimeScene | LeftTree |\n",
       "| method | 칼 |\n",
       "| witness | 애쉬 |\n",
       "| eyewitnessInformation | 애쉬는 우연히 서쪽 마을 나무 밑에서 범행 직후인 김쿵야를 보았고, 김쿵야의 손에는 물건을 숨기려는 듯한 움직임이 있었다고 증언합니다. |\n",
       "| dailySummary | {'day': 0, 'summary': '태근티비가 서쪽 마을 나무 밑에서 살해되었습니다. 주변에는 목격자가 없었으나, 통행인이 사건 직후 의심스러운 움직임을 보이는 김쿵야를 목격했습니다.'} |\n",
       "| totalTokens | 2468 |\n",
       "| executionTime | 13.435 |\n"
      ],
      "text/plain": [
       "<IPython.core.display.Markdown object>"
      ]
     },
     "metadata": {},
     "output_type": "display_data"
    },
    {
     "data": {
      "text/markdown": [
       "| Key | Value |\n",
       "| --- | --- |\n",
       "| victim | 박동식 |\n",
       "| crimeScene | LeftTree |\n",
       "| method | 칼 |\n",
       "| witness | 애쉬 |\n",
       "| eyewitnessInformation | 박동식이 서쪽 마을 나무 밑에서 김쿵야와 말다툼을 하다가 갑자기 김쿵야가 주머니에서 뭔가 꺼내는 것을 봤다. 그 순간 박동식이 비명을 지르며 쓰러졌고, 김쿵야는 혼란 속에서 도망쳤다. |\n",
       "| dailySummary | {'day': 1, 'summary': '박동식이 서쪽 마을 나무 밑에서 살해당했다. 목격자 애쉬는 살인자로 김쿵야를 지목했다.'} |\n",
       "| totalTokens | 2460 |\n",
       "| executionTime | 17.251 |\n"
      ],
      "text/plain": [
       "<IPython.core.display.Markdown object>"
      ]
     },
     "metadata": {},
     "output_type": "display_data"
    },
    {
     "data": {
      "text/markdown": [
       "| Key | Value |\n",
       "| --- | --- |\n",
       "| victim | 박윤주 |\n",
       "| crimeScene | UnderBridge |\n",
       "| method | 칼 |\n",
       "| witness | 애쉬 |\n",
       "| eyewitnessInformation | 밤 늦게 안개가 자욱한 남쪽 다리 아래를 지나다가 희미한 실루엣을 보았고, 칼에 찔린 듯한 비명 소리를 들었다. |\n",
       "| dailySummary | day 0에 피해자 박윤주가 남쪽 다리 아래에서 칼에 의한 살해로 발견됨. |\n",
       "| totalTokens | 2378 |\n",
       "| executionTime | 17.354 |\n"
      ],
      "text/plain": [
       "<IPython.core.display.Markdown object>"
      ]
     },
     "metadata": {},
     "output_type": "display_data"
    },
    {
     "name": "stdout",
     "output_type": "stream",
     "text": [
      "[2570, 2514, 2487, 2497, 2517, 2458, 2421, 2468, 2460, 2378]\n",
      "[11.975, 21.899, 25.46, 21.399, 24.701, 19.833, 21.14, 13.435, 17.251, 17.354]\n"
     ]
    }
   ],
   "source": [
    "data = {\n",
    "    \"gameNo\": 0,\n",
    "    \"secretKey\": \"\",\n",
    "    \"day\": 0,\n",
    "    \"murderer\": \"KoongYa\",\n",
    "    \"livingCharacters\": [\n",
    "        \"Yoonju\", \"TaegunTV\", \"ZzanZzanYoung\", \"Dongsik\", \"KoongYa\", \"Ash\"\n",
    "    ],\n",
    "    \"previousStory\": \"\"\n",
    "}\n",
    "\n",
    "api_name = \"/api/scenario/generate_victim\"\n",
    "url = base_url + api_name\n",
    "\n",
    "cnt = 10\n",
    "\n",
    "totalTokens_list = []\n",
    "executionTime_list = []\n",
    "for i in range(cnt):\n",
    "    anwser, markdown_table = API_calculate(data, url)\n",
    "    display(Markdown(markdown_table))\n",
    "    totalTokens_list.append(anwser['answer']['totalTokens'])\n",
    "    executionTime_list.append(anwser['answer']['executionTime'])\n",
    "\n",
    "print(totalTokens_list)\n",
    "print(executionTime_list)"
   ]
  },
  {
   "cell_type": "code",
   "execution_count": 58,
   "metadata": {},
   "outputs": [
    {
     "data": {
      "text/markdown": [
       "| Key | Value |\n",
       "| --- | --- |\n",
       "| API name | /api/scenario/generate_victim |\n",
       "| cnt | 10 |\n",
       "| min totalTokens | 2378 |\n",
       "| max totalTokens | 2570 |\n",
       "| avg totalTokens | 2477.0 |\n",
       "| min executionTime | 11.975 |\n",
       "| max executionTime | 25.46 |\n",
       "| avg executionTime | 19.4447 |\n"
      ],
      "text/plain": [
       "<IPython.core.display.Markdown object>"
      ]
     },
     "metadata": {},
     "output_type": "display_data"
    }
   ],
   "source": [
    "result = {\n",
    "    \"API name\": api_name,\n",
    "    \"cnt\": cnt,\n",
    "    \"min totalTokens\": min(totalTokens_list),\n",
    "    \"max totalTokens\": max(totalTokens_list),\n",
    "    \"avg totalTokens\": sum(totalTokens_list) / len(totalTokens_list),\n",
    "    \"min executionTime\": min(executionTime_list),\n",
    "    \"max executionTime\": max(executionTime_list),\n",
    "    \"avg executionTime\": sum(executionTime_list) / len(executionTime_list)\n",
    "}\n",
    "markdown_table = dict_to_markdown_table(result)\n",
    "display(Markdown(markdown_table))"
   ]
  },
  {
   "cell_type": "code",
   "execution_count": 30,
   "metadata": {},
   "outputs": [
    {
     "data": {
      "text/markdown": [
       "| Key | Value |\n",
       "| --- | --- |\n",
       "| victim | 박윤주 |\n",
       "| crimeScene | UnderBridge |\n",
       "| method | 칼 |\n",
       "| witness | 애쉬 |\n",
       "| eyewitnessInformation | 밤늦게 남쪽 다리 근처를 지나가던 애쉬는 누군가가 빠르게 도망가는 것을 보았고, 그 모습이 김쿵야와 매우 비슷해 보였다고 말했다. |\n",
       "| dailySummary | day 0: 젤리곰 마을의 남쪽 다리에서 박윤주가 칼에 의한 살해로 발견되었다. 목격자 애쉬에 따르면, 밤늦게 도망가는 인물을 보았고, 그 인물이 김쿵야와 비슷했다고 한다. |\n",
       "| totalTokens | 2462 |\n",
       "| executionTime | 23.249 |\n"
      ],
      "text/plain": [
       "<IPython.core.display.Markdown object>"
      ]
     },
     "execution_count": 30,
     "metadata": {},
     "output_type": "execute_result"
    }
   ],
   "source": [
    "start_time = time.time()\n",
    "data = {\n",
    "    \"gameNo\": 0,\n",
    "    \"secretKey\": \"\",\n",
    "    \"day\": 0,\n",
    "    \"murderer\": \"KoongYa\",\n",
    "    \"livingCharacters\": [\n",
    "        \"Yoonju\", \"TaegunTV\", \"ZzanZzanYoung\", \"Dongsik\", \"KoongYa\", \"Ash\"\n",
    "    ],\n",
    "    \"previousStory\": \"\"\n",
    "}\n",
    "\n",
    "url = base_url + \"/api/scenario/generate_victim\"\n",
    "\n",
    "\n",
    "response = requests.post(url, json=data)\n",
    "\n",
    "end_time = time.time()\n",
    "execution_time = round(end_time - start_time, 3)\n",
    "\n",
    "anwser = eval(response.text)\n",
    "anwser['answer']['totalTokens'] = anwser['totalTokens']\n",
    "anwser['answer']['executionTime'] = execution_time\n",
    "\n",
    "markdown_table = \"| Key | Value |\\n| --- | --- |\\n\"\n",
    "for key, value in anwser['answer'].items():\n",
    "    markdown_table += f\"| {key} | {value} |\\n\"\n",
    "\n",
    "\n",
    "Markdown(markdown_table)\n"
   ]
  },
  {
   "cell_type": "code",
   "execution_count": 18,
   "metadata": {},
   "outputs": [
    {
     "data": {
      "text/plain": [
       "dict"
      ]
     },
     "execution_count": 18,
     "metadata": {},
     "output_type": "execute_result"
    }
   ],
   "source": [
    "a = eval(response.text)\n",
    "type(a)"
   ]
  },
  {
   "cell_type": "code",
   "execution_count": 26,
   "metadata": {},
   "outputs": [
    {
     "data": {
      "text/markdown": [
       "| Key | Value |\n",
       "| --- | --- |\n",
       "| victim | 태근티비 |\n",
       "| crimeScene | UnderPig |\n",
       "| method | 칼을 이용한 살인 |\n",
       "| witness | 박윤주 |\n",
       "| eyewitnessInformation | 박윤주는 돼지 우리 근처에서 이상한 그림자를 보았고, 그 그림자가 칼을 들고 있는 것을 목격했다고 말했습니다. 피해자와 가까운 시간에 그곳에 있었던 것으로 보입니다. |\n",
       "| dailySummary | day 0: 젤리곰 마을의 평화로운 분위기가 깨졌습니다. 태근티비가 돼지 우리에서 잔인하게 살해된 채 발견되었습니다. 마을 사람들은 충격에 빠졌으며, 탐정은 이 사건의 조사를 시작했습니다. |\n",
       "| totalTokens | 2475 |\n"
      ],
      "text/plain": [
       "<IPython.core.display.Markdown object>"
      ]
     },
     "execution_count": 26,
     "metadata": {},
     "output_type": "execute_result"
    }
   ],
   "source": [
    "json_data = eval(response.text)\n",
    "json_data['answer']['totalTokens'] = json_data['totalTokens']\n",
    "\n",
    "markdown_table = \"| Key | Value |\\n| --- | --- |\\n\"\n",
    "for key, value in json_data['answer'].items():\n",
    "    markdown_table += f\"| {key} | {value} |\\n\"\n",
    "\n",
    "# Jupyter 노트북에 마크다운으로 표시\n",
    "from IPython.display import Markdown\n",
    "Markdown(markdown_table)"
   ]
  },
  {
   "cell_type": "code",
   "execution_count": null,
   "metadata": {},
   "outputs": [],
   "source": []
  }
 ],
 "metadata": {
  "kernelspec": {
   "display_name": "muderer",
   "language": "python",
   "name": "python3"
  },
  "language_info": {
   "codemirror_mode": {
    "name": "ipython",
    "version": 3
   },
   "file_extension": ".py",
   "mimetype": "text/x-python",
   "name": "python",
   "nbconvert_exporter": "python",
   "pygments_lexer": "ipython3",
   "version": "3.10.13"
  }
 },
 "nbformat": 4,
 "nbformat_minor": 2
}
